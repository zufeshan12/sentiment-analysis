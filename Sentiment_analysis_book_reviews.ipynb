{
 "cells": [
  {
   "cell_type": "markdown",
   "metadata": {
    "id": "0utFasH_ai9u"
   },
   "source": [
    "# DSE 200 FINAL PROJECT\n",
    "## Fall 2022\n",
    "### Due Date:  December 2nd, 2022"
   ]
  },
  {
   "cell_type": "markdown",
   "metadata": {
    "id": "VU23En_rai9z"
   },
   "source": [
    "1. **Dataset name** : Amazon Books Reviews<br>\n",
    "2. **Files** : Books_rating.csv , books_data.csv<br>\n",
    "3. **Dataset Source** (Public Domain) : https://www.kaggle.com/code/mohamedbakhet/eda-for-amazon-books-reviews/data<br>\n",
    "4. **Download links :**<br>\n",
    " > *Final project notebook* :  https://drive.google.com/file/d/1vh3ooZpubx-rjxBD8HcmoWs4JaBL5FNV/view?usp=share_link<br>\n",
    " > *Google Colab notebook* : /content/drive/MyDrive/Colab Notebooks/Zufeshan_Final Project_Fall2022.ipynb<br>\n",
    " > *Input files :*<br> https://drive.google.com/file/d/1dvFO6C0Izm8pVAE_UzeaolTlU8VLu6Zk/view?usp=share_link <br>https://drive.google.com/file/d/1xBCPSSLCsVabCjBZCNd5YMCXCT_tUwAw/view?usp=share_link <br>https://drive.google.com/file/d/1aIYgh7Yj-mWVV6ekhmfucwc6fUhlOTFM/view?usp=share_link <br>\n",
    "5. **Project Author :** Zufeshan Imran\n",
    "<br> Project made in Google Collab . Drive needs to be mounted to google notebook location under contents for accessing the datasets"
   ]
  },
  {
   "cell_type": "markdown",
   "metadata": {
    "id": "PtnQqn3UIOLn"
   },
   "source": [
    "## Table of Contents"
   ]
  },
  {
   "cell_type": "markdown",
   "metadata": {
    "id": "RaQbeBtZai91"
   },
   "source": [
    "# PART I: 20%"
   ]
  },
  {
   "cell_type": "markdown",
   "metadata": {
    "colab_type": "toc",
    "id": "v0p2EKGwJP3y"
   },
   "source": [
    "\n",
    ">>[Table of Contents](#scrollTo=PtnQqn3UIOLn)\n",
    "\n",
    ">[PART I: 20%](#scrollTo=RaQbeBtZai91)\n",
    "\n",
    ">>>[Preliminaries](#scrollTo=jf63sL3sai91)\n",
    "\n",
    ">>>[1.1 Preliminaries](#scrollTo=KIBkPoHtai94)\n",
    "\n",
    ">>>[1.2  Transformations](#scrollTo=UfVH1DJEai97)\n",
    "\n",
    ">>>[1.3 Summary Statistics](#scrollTo=dtF_32Fdai99)\n",
    "\n",
    ">[PART II : 80%](#scrollTo=nIeSn-kvai-C)\n",
    "\n",
    ">>[Step 1: Find a dataset or datasets](#scrollTo=VaZt9tOAai-C)\n",
    "\n",
    ">>>>[1.1. import useful libraries](#scrollTo=V8FJwU9dai-C)\n",
    "\n",
    ">>>>[1.2. load csv files into dataframes](#scrollTo=Nu407IbQai-D)\n",
    "\n",
    ">>[Step 2: Explore the datasets](#scrollTo=KuZpD_2fai-E)\n",
    "\n",
    ">>>>[2.1. check shape,columns and missing values](#scrollTo=J5KB0OcTai-F)\n",
    "\n",
    ">>>[2.2. cleanup noisy,unwanted and missing features](#scrollTo=NaYRzfQhai-H)\n",
    "\n",
    ">>>>[2.2.1 df_book_data cleanup](#scrollTo=3P4X_1E3i58w)\n",
    "\n",
    ">>>>[2.2.2 df_rating cleanup](#scrollTo=lPTlI0gFai-X)\n",
    "\n",
    ">>>[2.3. Merge the dataframes into a single dataframe :  df_book_reviews](#scrollTo=E9ekjkJiai-a)\n",
    "\n",
    ">>>>[2.3.1. check shape](#scrollTo=g5vbh7Epai-a)\n",
    "\n",
    ">>>>[2.3.2. remove duplicates if any](#scrollTo=_7-w6YFIai-b)\n",
    "\n",
    ">>>>[2.3.3. Visualization of NaN distribution](#scrollTo=9Gma91suai-b)\n",
    "\n",
    ">>>[2.4. Visualizations of trends & patterns using matplotlib and seaborn libraries](#scrollTo=_oBxRN6Oai-b)\n",
    "\n",
    ">>>>[2.4.1. Distribution of numeric features using Histogram across subplots](#scrollTo=XCxC8Xg0ai-c)\n",
    "\n",
    ">>>>[2.4.2. Distribution of review scores using Pie Charts](#scrollTo=tqedooAsai-c)\n",
    "\n",
    ">>>>[2.4.3. Distribution of review comments/texts using a Time Series trend analysis](#scrollTo=w0rpbDquai-d)\n",
    "\n",
    ">>[Step 3:  Identify 1-3 research questions and perform analysis](#scrollTo=IvpUe3slai-d)\n",
    "\n",
    ">>>>[3.1.Find Top 10 books - Dual axis graph of ratingsCount vs no.of different users reviewing vs length of description](#scrollTo=565o6sMDk4QO)\n",
    "\n",
    ">>>>[3.2. Perform correlation Analysis between ratingsCount,length of description,reviews_helpful,total reviews,review/length and review/score](#scrollTo=LXVPLfmaai-e)\n",
    "\n",
    ">>>>[3.3. Lineplot to visualize review score & length of description for least scored categories of books](#scrollTo=86LRGIvyai-e)\n",
    "\n",
    ">>>>[3.4. Perform Regression analysis between different features and find MSE and Regression Coefficient](#scrollTo=pJ6Ed3CXai-f)\n",
    "\n",
    ">>>>[3.5. Perform sentiment analysis on review/summary to determine review/score](#scrollTo=QRcxXRp7ai-i)\n",
    "\n",
    ">>[Step 4:  Present your findings](#scrollTo=OGvgX9xbai-k)\n",
    "\n",
    ">>>>[4.1. Brief summary about data](#scrollTo=54XbTiHz10oy)\n",
    "\n",
    ">>>>[4.2. Assumptions Made Vs Actual Results](#scrollTo=6AjVid5n7c2h)\n",
    "\n",
    ">>>>[4.3. Result of Linear Regression on data](#scrollTo=n5R0JFtU99ab)\n",
    "\n",
    ">>>>[4.4. Findings from Sentiment Analysis using HuggingFace transformer module](#scrollTo=wkwxkQMoA__d)\n",
    "\n",
    ">>>>[4.5. Limitations](#scrollTo=4sC195vkEFyS)\n",
    "\n"
   ]
  },
  {
   "cell_type": "markdown",
   "metadata": {
    "id": "jf63sL3sai91"
   },
   "source": [
    "### Preliminaries"
   ]
  },
  {
   "cell_type": "code",
   "execution_count": null,
   "metadata": {
    "id": "Qixqs-dsai92"
   },
   "outputs": [],
   "source": [
    "import numpy as np"
   ]
  },
  {
   "cell_type": "code",
   "execution_count": null,
   "metadata": {
    "colab": {
     "base_uri": "https://localhost:8080/"
    },
    "executionInfo": {
     "elapsed": 18000,
     "status": "ok",
     "timestamp": 1669675528552,
     "user": {
      "displayName": "Zufeshan Imran",
      "userId": "01352305454183338312"
     },
     "user_tz": 480
    },
    "id": "9anwOKgvb7-I",
    "outputId": "a1e86758-d9ec-4d0e-c204-2ca70c83059e"
   },
   "outputs": [
    {
     "name": "stdout",
     "output_type": "stream",
     "text": [
      "Mounted at /content/drive\n"
     ]
    }
   ],
   "source": [
    "from google.colab import drive\n",
    "drive.mount('/content/drive')"
   ]
  },
  {
   "cell_type": "markdown",
   "metadata": {
    "id": "KIBkPoHtai94"
   },
   "source": [
    "### 1.1 Preliminaries\n",
    "\n",
    "Use numpy to load `prostate_cancer.npy` into a numpy matrix. Print the dataset's shape and the first 5 rows.<br>\n",
    "\n",
    "**Output required**: \n",
    "<ul>\n",
    "    <li>Tuple representing dataset's shape</li>\n",
    "    <li>Matrix representing the first 5 rows</li>\n",
    "</ul>"
   ]
  },
  {
   "cell_type": "code",
   "execution_count": null,
   "metadata": {
    "id": "zvAaJQhfai94"
   },
   "outputs": [],
   "source": [
    "# For reference\n",
    "column_names = ['id', 'diagnosis_result', 'radius', 'texture', 'perimeter', 'area',\n",
    "                'smoothness', 'compactness', 'symmetry', 'fractal_dimension']\n",
    "diagnosis_encoding = {'Benign': 0, 'Malignant': 1}"
   ]
  },
  {
   "cell_type": "code",
   "execution_count": null,
   "metadata": {
    "colab": {
     "base_uri": "https://localhost:8080/"
    },
    "executionInfo": {
     "elapsed": 542,
     "status": "ok",
     "timestamp": 1669631233161,
     "user": {
      "displayName": "Zufeshan Imran",
      "userId": "01352305454183338312"
     },
     "user_tz": 480
    },
    "id": "U68daf42ai95",
    "outputId": "f27d0e9d-0be9-40ba-9ca0-ceecb52e45c8"
   },
   "outputs": [
    {
     "name": "stdout",
     "output_type": "stream",
     "text": [
      "(100, 10)\n",
      "\n",
      "First 5 rows: \n",
      "\n",
      "[[1 'M' 23 12 151 954 0.143 0.278 0.242 0.079]\n",
      " [2 'B' 9 13 133 1326 0.143 0.079 0.181 0.057]\n",
      " [3 'M' 21 27 130 1203 0.125 0.16 0.207 0.06]\n",
      " [4 'M' 14 16 78 386 0.07 0.284 0.26 0.097]\n",
      " [5 'M' 9 19 135 1297 0.141 0.133 0.181 0.059]]\n"
     ]
    }
   ],
   "source": [
    "# Load data\n",
    "data = np.load('/content/drive/MyDrive/Colab Notebooks/prostate_cancer.npy', allow_pickle=True)\n",
    "\n",
    "# Your code here\n",
    "print(data.shape)\n",
    "print('\\nFirst 5 rows: \\n')\n",
    "print(data[:5])"
   ]
  },
  {
   "cell_type": "markdown",
   "metadata": {
    "id": "UfVH1DJEai97"
   },
   "source": [
    "### 1.2  Transformations\n",
    "\n",
    "* The first column is the id of the patient, which isn't relevant for our purposes. Remove that column from the matrix by creating a new matrix composed of the rest of the columns.\n",
    "* The second column is the `diagnosis_result` i.e. **M** for malignant and **B** for benign. Replace **M** with `1` and **B** with `0`\n",
    "* Convert the `dtype` of the resulting array to `np.float64`\n",
    "* As usual, print the shape of the resulting dataset and the first 5 rows.\n",
    "\n",
    "**Output required**: \n",
    "<ul>\n",
    "    <li>Tuple representing dataset's shape</li>\n",
    "    <li>Matrix representing the first 5 rows</li>\n",
    "</ul>"
   ]
  },
  {
   "cell_type": "code",
   "execution_count": null,
   "metadata": {
    "id": "axaAJYRoai97"
   },
   "outputs": [],
   "source": [
    "#remove id\n",
    "res = data[:,1:]"
   ]
  },
  {
   "cell_type": "code",
   "execution_count": null,
   "metadata": {
    "id": "_712AjLBai98"
   },
   "outputs": [],
   "source": [
    "#replace M with 1 and B with 0 in first column of resultant matrix\n",
    "res[:,0] = np.where(res[:,0]=='M',1,0)"
   ]
  },
  {
   "cell_type": "code",
   "execution_count": null,
   "metadata": {
    "colab": {
     "base_uri": "https://localhost:8080/"
    },
    "executionInfo": {
     "elapsed": 275,
     "status": "ok",
     "timestamp": 1669631246656,
     "user": {
      "displayName": "Zufeshan Imran",
      "userId": "01352305454183338312"
     },
     "user_tz": 480
    },
    "id": "XDlzWoGAai98",
    "outputId": "fb920b36-064e-4b4f-faac-95f9a49f6d94"
   },
   "outputs": [
    {
     "name": "stdout",
     "output_type": "stream",
     "text": [
      "object\n",
      "float64\n"
     ]
    }
   ],
   "source": [
    "#convert dtype to np.float64\n",
    "print(res.dtype)\n",
    "res = res.astype(np.float64)\n",
    "print(res.dtype)"
   ]
  },
  {
   "cell_type": "code",
   "execution_count": null,
   "metadata": {
    "colab": {
     "base_uri": "https://localhost:8080/"
    },
    "executionInfo": {
     "elapsed": 285,
     "status": "ok",
     "timestamp": 1669631249067,
     "user": {
      "displayName": "Zufeshan Imran",
      "userId": "01352305454183338312"
     },
     "user_tz": 480
    },
    "id": "5wkRl_nFai99",
    "outputId": "f275853a-f3fe-416e-f6a0-2da034b2af96"
   },
   "outputs": [
    {
     "name": "stdout",
     "output_type": "stream",
     "text": [
      "Shape:\n",
      "(100, 9)\n",
      "\n",
      "First 5 rows: \n",
      "\n",
      "[[1.000e+00 2.300e+01 1.200e+01 1.510e+02 9.540e+02 1.430e-01 2.780e-01\n",
      "  2.420e-01 7.900e-02]\n",
      " [0.000e+00 9.000e+00 1.300e+01 1.330e+02 1.326e+03 1.430e-01 7.900e-02\n",
      "  1.810e-01 5.700e-02]\n",
      " [1.000e+00 2.100e+01 2.700e+01 1.300e+02 1.203e+03 1.250e-01 1.600e-01\n",
      "  2.070e-01 6.000e-02]\n",
      " [1.000e+00 1.400e+01 1.600e+01 7.800e+01 3.860e+02 7.000e-02 2.840e-01\n",
      "  2.600e-01 9.700e-02]\n",
      " [1.000e+00 9.000e+00 1.900e+01 1.350e+02 1.297e+03 1.410e-01 1.330e-01\n",
      "  1.810e-01 5.900e-02]]\n"
     ]
    }
   ],
   "source": [
    "#print shape and first 5 rows\n",
    "print('Shape:')\n",
    "print(res.shape)\n",
    "print('\\nFirst 5 rows: \\n')\n",
    "print(res[0:5])"
   ]
  },
  {
   "cell_type": "markdown",
   "metadata": {
    "id": "dtF_32Fdai99"
   },
   "source": [
    "### 1.3 Summary Statistics"
   ]
  },
  {
   "cell_type": "markdown",
   "metadata": {
    "id": "qcAgqtCXai9-"
   },
   "source": [
    "**a)** Print the means and standard deviations of each column\n",
    "\n",
    "**Output required**: \n",
    "<ul>\n",
    "    <li>Floats representing the mean of each column</li>\n",
    "    <li>Floats representing the standard deviation of each column</li>\n",
    "</ul>"
   ]
  },
  {
   "cell_type": "code",
   "execution_count": null,
   "metadata": {
    "colab": {
     "base_uri": "https://localhost:8080/"
    },
    "executionInfo": {
     "elapsed": 267,
     "status": "ok",
     "timestamp": 1669631256016,
     "user": {
      "displayName": "Zufeshan Imran",
      "userId": "01352305454183338312"
     },
     "user_tz": 480
    },
    "id": "PIIzvKeLai9-",
    "outputId": "b7bad112-e89f-4a8b-a5aa-a54411e759d0"
   },
   "outputs": [
    {
     "data": {
      "text/plain": [
       "array([6.2000e-01, 1.6850e+01, 1.8230e+01, 9.6780e+01, 7.0288e+02,\n",
       "       1.0273e-01, 1.2670e-01, 1.9317e-01, 6.4690e-02])"
      ]
     },
     "execution_count": 10,
     "metadata": {},
     "output_type": "execute_result"
    }
   ],
   "source": [
    "mean_per_col = res.mean(axis=0)\n",
    "mean_per_col"
   ]
  },
  {
   "cell_type": "code",
   "execution_count": null,
   "metadata": {
    "colab": {
     "base_uri": "https://localhost:8080/"
    },
    "executionInfo": {
     "elapsed": 267,
     "status": "ok",
     "timestamp": 1669631258524,
     "user": {
      "displayName": "Zufeshan Imran",
      "userId": "01352305454183338312"
     },
     "user_tz": 480
    },
    "id": "blnIKWFFai9_",
    "outputId": "438c3321-b3c2-4665-d4a5-ccc982b287fa"
   },
   "outputs": [
    {
     "data": {
      "text/plain": [
       "array([4.85386444e-01, 4.85463696e+00, 5.16692365e+00, 2.35574107e+01,\n",
       "       3.18108324e+02, 1.45683596e-02, 6.08370775e-02, 3.06307215e-02,\n",
       "       8.11011097e-03])"
      ]
     },
     "execution_count": 11,
     "metadata": {},
     "output_type": "execute_result"
    }
   ],
   "source": [
    "std_per_col = res.std(axis=0)\n",
    "std_per_col"
   ]
  },
  {
   "cell_type": "markdown",
   "metadata": {
    "id": "eYSahgO3ai9_"
   },
   "source": [
    "**b)** Print the minimum and maximum values of each column\n",
    "\n",
    "**Output required**: \n",
    "<ul>\n",
    "    <li>Floats representing the minimum value found in each column</li>\n",
    "    <li>Floats representing the maximum value found in each column</li>\n",
    "</ul>"
   ]
  },
  {
   "cell_type": "code",
   "execution_count": null,
   "metadata": {
    "colab": {
     "base_uri": "https://localhost:8080/"
    },
    "executionInfo": {
     "elapsed": 211,
     "status": "ok",
     "timestamp": 1669631261167,
     "user": {
      "displayName": "Zufeshan Imran",
      "userId": "01352305454183338312"
     },
     "user_tz": 480
    },
    "id": "q1GZibnYai9_",
    "outputId": "bdf84ca4-c925-4a24-bca6-090a5e6f261b"
   },
   "outputs": [
    {
     "data": {
      "text/plain": [
       "array([0.00e+00, 9.00e+00, 1.10e+01, 5.20e+01, 2.02e+02, 7.00e-02,\n",
       "       3.80e-02, 1.35e-01, 5.30e-02])"
      ]
     },
     "execution_count": 12,
     "metadata": {},
     "output_type": "execute_result"
    }
   ],
   "source": [
    "min_per_col = res.min(axis=0)\n",
    "min_per_col"
   ]
  },
  {
   "cell_type": "code",
   "execution_count": null,
   "metadata": {
    "colab": {
     "base_uri": "https://localhost:8080/"
    },
    "executionInfo": {
     "elapsed": 387,
     "status": "ok",
     "timestamp": 1669631263568,
     "user": {
      "displayName": "Zufeshan Imran",
      "userId": "01352305454183338312"
     },
     "user_tz": 480
    },
    "id": "abQ1J_hAai-A",
    "outputId": "e5f10af1-14e0-4a28-9fd7-cb5a18ace23c"
   },
   "outputs": [
    {
     "data": {
      "text/plain": [
       "array([1.000e+00, 2.500e+01, 2.700e+01, 1.720e+02, 1.878e+03, 1.430e-01,\n",
       "       3.450e-01, 3.040e-01, 9.700e-02])"
      ]
     },
     "execution_count": 13,
     "metadata": {},
     "output_type": "execute_result"
    }
   ],
   "source": [
    "max_per_col = res.max(axis=0)\n",
    "max_per_col"
   ]
  },
  {
   "cell_type": "markdown",
   "metadata": {
    "id": "KNJhBhRQai-B"
   },
   "source": [
    "**c)** Calculate the `diagnosis_result`-wise means and standard deviations.<br>\n",
    "**Report these values with respect to the actual *name* of the result, for which you must refer to 1.1**\n",
    "\n",
    "**Output required**: \n",
    "<ul>\n",
    "    <li>For each of the 2 results in the dataset:<ul>\n",
    "        <li>Floats representing the standard deviation of each column for this result</li>\n",
    "        <li>Floats representing the mean of each column for this result</li>\n",
    "</ul>"
   ]
  },
  {
   "cell_type": "code",
   "execution_count": null,
   "metadata": {
    "id": "6qMyMEeeai-B"
   },
   "outputs": [],
   "source": [
    "mean_M = res[res[:,0]==1.0].mean(axis=0)\n",
    "mean_B = res[res[:,0]==0.0].mean(axis=0)\n",
    "std_M = res[res[:,0]==1.0].std(axis=0)\n",
    "std_B = res[res[:,0]==0.0].std(axis=0)"
   ]
  },
  {
   "cell_type": "code",
   "execution_count": null,
   "metadata": {
    "colab": {
     "base_uri": "https://localhost:8080/"
    },
    "executionInfo": {
     "elapsed": 227,
     "status": "ok",
     "timestamp": 1669631272704,
     "user": {
      "displayName": "Zufeshan Imran",
      "userId": "01352305454183338312"
     },
     "user_tz": 480
    },
    "id": "y0RCeTejai-B",
    "outputId": "d93fd800-ede6-452d-e222-eb7fb27b31f3"
   },
   "outputs": [
    {
     "name": "stdout",
     "output_type": "stream",
     "text": [
      "diagnosis result : M\t Mean\t\t\tSTD\n",
      "\n",
      "radius\t\t16.177419354838708\t\t4.640370513392318\n",
      "texture\t\t18.516129032258064\t\t5.176690733576095\n",
      "perimeter\t\t107.98387096774194\t\t19.5559511076625\n",
      "area\t\t842.9516129032259\t\t287.754623707666\n",
      "smoothness\t\t0.10498387096774195\t\t0.013826682870781305\n",
      "compactness\t\t0.1510967741935484\t\t0.05768790046935246\n",
      "symmetry\t\t0.19875806451612907\t\t0.02991745929131434\n",
      "fractal_dimension\t\t0.06474193548387099\t\t0.008347175461758671\n",
      "\n",
      "\n",
      "diagnosis result : B\t Mean\t\t\tSTD\n",
      "\n",
      "radius\t\t17.94736842105263\t\t4.994456761045203\n",
      "texture\t\t17.763157894736842\t\t5.116712608935318\n",
      "perimeter\t\t78.5\t\t17.24704398776177\n",
      "area\t\t474.3421052631579\t\t216.69494399607618\n",
      "smoothness\t\t0.09905263157894735\t\t0.014992888434224678\n",
      "compactness\t\t0.08689473684210526\t\t0.04188756219972716\n",
      "symmetry\t\t0.18405263157894733\t\t0.02957412397458741\n",
      "fractal_dimension\t\t0.06460526315789474\t\t0.007706932879195987\n"
     ]
    }
   ],
   "source": [
    "print('diagnosis result : M\\t Mean\\t\\t\\tSTD\\n')\n",
    "for i in range(1,9):\n",
    "    print(column_names[i+1]+'\\t\\t'+str(mean_M[i])+'\\t\\t'+str(std_M[i]))\n",
    "print('\\n')\n",
    "print('diagnosis result : B\\t Mean\\t\\t\\tSTD\\n')\n",
    "for i in range(1,9):\n",
    "    print(column_names[i+1]+'\\t\\t'+str(mean_B[i])+'\\t\\t'+str(std_B[i]))"
   ]
  },
  {
   "cell_type": "markdown",
   "metadata": {
    "id": "nIeSn-kvai-C"
   },
   "source": [
    "# PART II : 80%\n",
    "\n",
    "This project is culmination of all you’ve learned in this course! You should expect to spend <b>24-32 total hours</b> on the project. Be sure to read all of the items below before starting.\n",
    "\n",
    "There are a number of steps outlined below, but is critical that you do not view this as an entirely linear process.  Remember that the science component in data science is the creation of a hypothesis based on exploration and testing of that hypothesis through analysis.  You may need to go through many of these steps multiple times before you arrive at meaningful hypothesis or conclusions."
   ]
  },
  {
   "cell_type": "markdown",
   "metadata": {
    "id": "VaZt9tOAai-C"
   },
   "source": [
    "## Step 1: Find a dataset or datasets\n",
    ">Amazon Books Reviews has 2 datasets - <b>books_rating.csv , books_data.csv</b><br>\n",
    ">Data collected from : Kaggle(Public Domain) https://www.kaggle.com/code/mohamedbakhet/eda-for-amazon-books-reviews/data<br>\n",
    ">Datasets contain feedback about 3M user on 212404 unique books the data set is part of the Amazon review Dataset it contains product reviews and metadata from Amazon, including 142.8     million reviews spanning May 1996 - July 2014.<br>\n",
    ">They will be merged together using inner join method on the common column - <b>Title</b>\n"
   ]
  },
  {
   "cell_type": "markdown",
   "metadata": {
    "id": "V8FJwU9dai-C"
   },
   "source": [
    " #### 1.1. import useful libraries"
   ]
  },
  {
   "cell_type": "code",
   "execution_count": 2,
   "metadata": {
    "executionInfo": {
     "elapsed": 1396,
     "status": "ok",
     "timestamp": 1669675660757,
     "user": {
      "displayName": "Zufeshan Imran",
      "userId": "01352305454183338312"
     },
     "user_tz": 480
    },
    "id": "BSL6Ev0Qai-D"
   },
   "outputs": [],
   "source": [
    "import numpy as np\n",
    "import pandas as pd\n",
    "import matplotlib.pyplot as plt\n",
    "import matplotlib.animation as animation\n",
    "import seaborn as sns\n",
    "from sklearn.linear_model import LinearRegression\n",
    "from sklearn.model_selection import train_test_split\n",
    "from sklearn.preprocessing import StandardScaler\n",
    "from sklearn.cluster import KMeans\n",
    "from sklearn.metrics import mean_squared_error,r2_score\n",
    "import re\n",
    "import missingno as msno"
   ]
  },
  {
   "cell_type": "markdown",
   "metadata": {
    "id": "Nu407IbQai-D"
   },
   "source": [
    "#### 1.2. load csv files into dataframes"
   ]
  },
  {
   "cell_type": "code",
   "execution_count": 3,
   "metadata": {
    "executionInfo": {
     "elapsed": 52919,
     "status": "ok",
     "timestamp": 1669675719147,
     "user": {
      "displayName": "Zufeshan Imran",
      "userId": "01352305454183338312"
     },
     "user_tz": 480
    },
    "id": "xDRljlvlai-D"
   },
   "outputs": [],
   "source": [
    "#reading csv data into two separate dataframes..\n",
    "df_book_data = pd.read_csv('/content/drive/MyDrive/Colab Notebooks/books_data.csv')\n",
    "df_rating = pd.read_csv('/content/drive/MyDrive/Colab Notebooks/Books_rating.csv')"
   ]
  },
  {
   "cell_type": "code",
   "execution_count": 4,
   "metadata": {
    "colab": {
     "base_uri": "https://localhost:8080/",
     "height": 372
    },
    "executionInfo": {
     "elapsed": 8,
     "status": "ok",
     "timestamp": 1669675719150,
     "user": {
      "displayName": "Zufeshan Imran",
      "userId": "01352305454183338312"
     },
     "user_tz": 480
    },
    "id": "ELFhQXyRai-E",
    "outputId": "aa275f44-5218-44b4-b4b8-8598ea1060a4"
   },
   "outputs": [
    {
     "data": {
      "text/html": [
       "\n",
       "  <div id=\"df-cb97347a-8c1f-4044-b647-30634303df5b\">\n",
       "    <div class=\"colab-df-container\">\n",
       "      <div>\n",
       "<style scoped>\n",
       "    .dataframe tbody tr th:only-of-type {\n",
       "        vertical-align: middle;\n",
       "    }\n",
       "\n",
       "    .dataframe tbody tr th {\n",
       "        vertical-align: top;\n",
       "    }\n",
       "\n",
       "    .dataframe thead th {\n",
       "        text-align: right;\n",
       "    }\n",
       "</style>\n",
       "<table border=\"1\" class=\"dataframe\">\n",
       "  <thead>\n",
       "    <tr style=\"text-align: right;\">\n",
       "      <th></th>\n",
       "      <th>Title</th>\n",
       "      <th>description</th>\n",
       "      <th>authors</th>\n",
       "      <th>image</th>\n",
       "      <th>previewLink</th>\n",
       "      <th>publisher</th>\n",
       "      <th>publishedDate</th>\n",
       "      <th>infoLink</th>\n",
       "      <th>categories</th>\n",
       "      <th>ratingsCount</th>\n",
       "    </tr>\n",
       "  </thead>\n",
       "  <tbody>\n",
       "    <tr>\n",
       "      <th>0</th>\n",
       "      <td>Its Only Art If Its Well Hung!</td>\n",
       "      <td>NaN</td>\n",
       "      <td>['Julie Strain']</td>\n",
       "      <td>http://books.google.com/books/content?id=DykPA...</td>\n",
       "      <td>http://books.google.nl/books?id=DykPAAAACAAJ&amp;d...</td>\n",
       "      <td>NaN</td>\n",
       "      <td>1996</td>\n",
       "      <td>http://books.google.nl/books?id=DykPAAAACAAJ&amp;d...</td>\n",
       "      <td>['Comics &amp; Graphic Novels']</td>\n",
       "      <td>NaN</td>\n",
       "    </tr>\n",
       "    <tr>\n",
       "      <th>1</th>\n",
       "      <td>Dr. Seuss: American Icon</td>\n",
       "      <td>Philip Nel takes a fascinating look into the k...</td>\n",
       "      <td>['Philip Nel']</td>\n",
       "      <td>http://books.google.com/books/content?id=IjvHQ...</td>\n",
       "      <td>http://books.google.nl/books?id=IjvHQsCn_pgC&amp;p...</td>\n",
       "      <td>A&amp;C Black</td>\n",
       "      <td>1/1/2005</td>\n",
       "      <td>http://books.google.nl/books?id=IjvHQsCn_pgC&amp;d...</td>\n",
       "      <td>['Biography &amp; Autobiography']</td>\n",
       "      <td>NaN</td>\n",
       "    </tr>\n",
       "    <tr>\n",
       "      <th>2</th>\n",
       "      <td>Wonderful Worship in Smaller Churches</td>\n",
       "      <td>This resource includes twelve principles in un...</td>\n",
       "      <td>['David R. Ray']</td>\n",
       "      <td>http://books.google.com/books/content?id=2tsDA...</td>\n",
       "      <td>http://books.google.nl/books?id=2tsDAAAACAAJ&amp;d...</td>\n",
       "      <td>NaN</td>\n",
       "      <td>2000</td>\n",
       "      <td>http://books.google.nl/books?id=2tsDAAAACAAJ&amp;d...</td>\n",
       "      <td>['Religion']</td>\n",
       "      <td>NaN</td>\n",
       "    </tr>\n",
       "    <tr>\n",
       "      <th>3</th>\n",
       "      <td>Whispers of the Wicked Saints</td>\n",
       "      <td>Julia Thomas finds her life spinning out of co...</td>\n",
       "      <td>['Veronica Haddon']</td>\n",
       "      <td>http://books.google.com/books/content?id=aRSIg...</td>\n",
       "      <td>http://books.google.nl/books?id=aRSIgJlq6JwC&amp;d...</td>\n",
       "      <td>iUniverse</td>\n",
       "      <td>2005-02</td>\n",
       "      <td>http://books.google.nl/books?id=aRSIgJlq6JwC&amp;d...</td>\n",
       "      <td>['Fiction']</td>\n",
       "      <td>NaN</td>\n",
       "    </tr>\n",
       "    <tr>\n",
       "      <th>4</th>\n",
       "      <td>Nation Dance: Religion, Identity and Cultural ...</td>\n",
       "      <td>NaN</td>\n",
       "      <td>['Edward Long']</td>\n",
       "      <td>NaN</td>\n",
       "      <td>http://books.google.nl/books?id=399SPgAACAAJ&amp;d...</td>\n",
       "      <td>NaN</td>\n",
       "      <td>3/1/2003</td>\n",
       "      <td>http://books.google.nl/books?id=399SPgAACAAJ&amp;d...</td>\n",
       "      <td>NaN</td>\n",
       "      <td>NaN</td>\n",
       "    </tr>\n",
       "  </tbody>\n",
       "</table>\n",
       "</div>\n",
       "      <button class=\"colab-df-convert\" onclick=\"convertToInteractive('df-cb97347a-8c1f-4044-b647-30634303df5b')\"\n",
       "              title=\"Convert this dataframe to an interactive table.\"\n",
       "              style=\"display:none;\">\n",
       "        \n",
       "  <svg xmlns=\"http://www.w3.org/2000/svg\" height=\"24px\"viewBox=\"0 0 24 24\"\n",
       "       width=\"24px\">\n",
       "    <path d=\"M0 0h24v24H0V0z\" fill=\"none\"/>\n",
       "    <path d=\"M18.56 5.44l.94 2.06.94-2.06 2.06-.94-2.06-.94-.94-2.06-.94 2.06-2.06.94zm-11 1L8.5 8.5l.94-2.06 2.06-.94-2.06-.94L8.5 2.5l-.94 2.06-2.06.94zm10 10l.94 2.06.94-2.06 2.06-.94-2.06-.94-.94-2.06-.94 2.06-2.06.94z\"/><path d=\"M17.41 7.96l-1.37-1.37c-.4-.4-.92-.59-1.43-.59-.52 0-1.04.2-1.43.59L10.3 9.45l-7.72 7.72c-.78.78-.78 2.05 0 2.83L4 21.41c.39.39.9.59 1.41.59.51 0 1.02-.2 1.41-.59l7.78-7.78 2.81-2.81c.8-.78.8-2.07 0-2.86zM5.41 20L4 18.59l7.72-7.72 1.47 1.35L5.41 20z\"/>\n",
       "  </svg>\n",
       "      </button>\n",
       "      \n",
       "  <style>\n",
       "    .colab-df-container {\n",
       "      display:flex;\n",
       "      flex-wrap:wrap;\n",
       "      gap: 12px;\n",
       "    }\n",
       "\n",
       "    .colab-df-convert {\n",
       "      background-color: #E8F0FE;\n",
       "      border: none;\n",
       "      border-radius: 50%;\n",
       "      cursor: pointer;\n",
       "      display: none;\n",
       "      fill: #1967D2;\n",
       "      height: 32px;\n",
       "      padding: 0 0 0 0;\n",
       "      width: 32px;\n",
       "    }\n",
       "\n",
       "    .colab-df-convert:hover {\n",
       "      background-color: #E2EBFA;\n",
       "      box-shadow: 0px 1px 2px rgba(60, 64, 67, 0.3), 0px 1px 3px 1px rgba(60, 64, 67, 0.15);\n",
       "      fill: #174EA6;\n",
       "    }\n",
       "\n",
       "    [theme=dark] .colab-df-convert {\n",
       "      background-color: #3B4455;\n",
       "      fill: #D2E3FC;\n",
       "    }\n",
       "\n",
       "    [theme=dark] .colab-df-convert:hover {\n",
       "      background-color: #434B5C;\n",
       "      box-shadow: 0px 1px 3px 1px rgba(0, 0, 0, 0.15);\n",
       "      filter: drop-shadow(0px 1px 2px rgba(0, 0, 0, 0.3));\n",
       "      fill: #FFFFFF;\n",
       "    }\n",
       "  </style>\n",
       "\n",
       "      <script>\n",
       "        const buttonEl =\n",
       "          document.querySelector('#df-cb97347a-8c1f-4044-b647-30634303df5b button.colab-df-convert');\n",
       "        buttonEl.style.display =\n",
       "          google.colab.kernel.accessAllowed ? 'block' : 'none';\n",
       "\n",
       "        async function convertToInteractive(key) {\n",
       "          const element = document.querySelector('#df-cb97347a-8c1f-4044-b647-30634303df5b');\n",
       "          const dataTable =\n",
       "            await google.colab.kernel.invokeFunction('convertToInteractive',\n",
       "                                                     [key], {});\n",
       "          if (!dataTable) return;\n",
       "\n",
       "          const docLinkHtml = 'Like what you see? Visit the ' +\n",
       "            '<a target=\"_blank\" href=https://colab.research.google.com/notebooks/data_table.ipynb>data table notebook</a>'\n",
       "            + ' to learn more about interactive tables.';\n",
       "          element.innerHTML = '';\n",
       "          dataTable['output_type'] = 'display_data';\n",
       "          await google.colab.output.renderOutput(dataTable, element);\n",
       "          const docLink = document.createElement('div');\n",
       "          docLink.innerHTML = docLinkHtml;\n",
       "          element.appendChild(docLink);\n",
       "        }\n",
       "      </script>\n",
       "    </div>\n",
       "  </div>\n",
       "  "
      ],
      "text/plain": [
       "                                               Title  \\\n",
       "0                     Its Only Art If Its Well Hung!   \n",
       "1                           Dr. Seuss: American Icon   \n",
       "2              Wonderful Worship in Smaller Churches   \n",
       "3                      Whispers of the Wicked Saints   \n",
       "4  Nation Dance: Religion, Identity and Cultural ...   \n",
       "\n",
       "                                         description              authors  \\\n",
       "0                                                NaN     ['Julie Strain']   \n",
       "1  Philip Nel takes a fascinating look into the k...       ['Philip Nel']   \n",
       "2  This resource includes twelve principles in un...     ['David R. Ray']   \n",
       "3  Julia Thomas finds her life spinning out of co...  ['Veronica Haddon']   \n",
       "4                                                NaN      ['Edward Long']   \n",
       "\n",
       "                                               image  \\\n",
       "0  http://books.google.com/books/content?id=DykPA...   \n",
       "1  http://books.google.com/books/content?id=IjvHQ...   \n",
       "2  http://books.google.com/books/content?id=2tsDA...   \n",
       "3  http://books.google.com/books/content?id=aRSIg...   \n",
       "4                                                NaN   \n",
       "\n",
       "                                         previewLink  publisher publishedDate  \\\n",
       "0  http://books.google.nl/books?id=DykPAAAACAAJ&d...        NaN          1996   \n",
       "1  http://books.google.nl/books?id=IjvHQsCn_pgC&p...  A&C Black      1/1/2005   \n",
       "2  http://books.google.nl/books?id=2tsDAAAACAAJ&d...        NaN          2000   \n",
       "3  http://books.google.nl/books?id=aRSIgJlq6JwC&d...  iUniverse       2005-02   \n",
       "4  http://books.google.nl/books?id=399SPgAACAAJ&d...        NaN      3/1/2003   \n",
       "\n",
       "                                            infoLink  \\\n",
       "0  http://books.google.nl/books?id=DykPAAAACAAJ&d...   \n",
       "1  http://books.google.nl/books?id=IjvHQsCn_pgC&d...   \n",
       "2  http://books.google.nl/books?id=2tsDAAAACAAJ&d...   \n",
       "3  http://books.google.nl/books?id=aRSIgJlq6JwC&d...   \n",
       "4  http://books.google.nl/books?id=399SPgAACAAJ&d...   \n",
       "\n",
       "                      categories  ratingsCount  \n",
       "0    ['Comics & Graphic Novels']           NaN  \n",
       "1  ['Biography & Autobiography']           NaN  \n",
       "2                   ['Religion']           NaN  \n",
       "3                    ['Fiction']           NaN  \n",
       "4                            NaN           NaN  "
      ]
     },
     "execution_count": 4,
     "metadata": {},
     "output_type": "execute_result"
    }
   ],
   "source": [
    "df_book_data.head()"
   ]
  },
  {
   "cell_type": "code",
   "execution_count": 5,
   "metadata": {
    "colab": {
     "base_uri": "https://localhost:8080/",
     "height": 302
    },
    "executionInfo": {
     "elapsed": 5,
     "status": "ok",
     "timestamp": 1669675719150,
     "user": {
      "displayName": "Zufeshan Imran",
      "userId": "01352305454183338312"
     },
     "user_tz": 480
    },
    "id": "uNT2lzjxai-E",
    "outputId": "8cf375d4-4e83-4e44-a77b-4c5251dca73e"
   },
   "outputs": [
    {
     "data": {
      "text/html": [
       "\n",
       "  <div id=\"df-6a6003e6-c9c0-4ede-a3d6-072e51bb45db\">\n",
       "    <div class=\"colab-df-container\">\n",
       "      <div>\n",
       "<style scoped>\n",
       "    .dataframe tbody tr th:only-of-type {\n",
       "        vertical-align: middle;\n",
       "    }\n",
       "\n",
       "    .dataframe tbody tr th {\n",
       "        vertical-align: top;\n",
       "    }\n",
       "\n",
       "    .dataframe thead th {\n",
       "        text-align: right;\n",
       "    }\n",
       "</style>\n",
       "<table border=\"1\" class=\"dataframe\">\n",
       "  <thead>\n",
       "    <tr style=\"text-align: right;\">\n",
       "      <th></th>\n",
       "      <th>Id</th>\n",
       "      <th>Title</th>\n",
       "      <th>Price</th>\n",
       "      <th>User_id</th>\n",
       "      <th>profileName</th>\n",
       "      <th>review/helpfulness</th>\n",
       "      <th>review/score</th>\n",
       "      <th>review/time</th>\n",
       "      <th>review/summary</th>\n",
       "      <th>review/text</th>\n",
       "    </tr>\n",
       "  </thead>\n",
       "  <tbody>\n",
       "    <tr>\n",
       "      <th>0</th>\n",
       "      <td>1882931173</td>\n",
       "      <td>Its Only Art If Its Well Hung!</td>\n",
       "      <td>NaN</td>\n",
       "      <td>AVCGYZL8FQQTD</td>\n",
       "      <td>Jim of Oz \"jim-of-oz\"</td>\n",
       "      <td>7/7</td>\n",
       "      <td>4.0</td>\n",
       "      <td>940636800</td>\n",
       "      <td>Nice collection of Julie Strain images</td>\n",
       "      <td>This is only for Julie Strain fans. It's a col...</td>\n",
       "    </tr>\n",
       "    <tr>\n",
       "      <th>1</th>\n",
       "      <td>0826414346</td>\n",
       "      <td>Dr. Seuss: American Icon</td>\n",
       "      <td>NaN</td>\n",
       "      <td>A30TK6U7DNS82R</td>\n",
       "      <td>Kevin Killian</td>\n",
       "      <td>10/10</td>\n",
       "      <td>5.0</td>\n",
       "      <td>1095724800</td>\n",
       "      <td>Really Enjoyed It</td>\n",
       "      <td>I don't care much for Dr. Seuss but after read...</td>\n",
       "    </tr>\n",
       "    <tr>\n",
       "      <th>2</th>\n",
       "      <td>0826414346</td>\n",
       "      <td>Dr. Seuss: American Icon</td>\n",
       "      <td>NaN</td>\n",
       "      <td>A3UH4UZ4RSVO82</td>\n",
       "      <td>John Granger</td>\n",
       "      <td>10/11</td>\n",
       "      <td>5.0</td>\n",
       "      <td>1078790400</td>\n",
       "      <td>Essential for every personal and Public Library</td>\n",
       "      <td>If people become the books they read and if \"t...</td>\n",
       "    </tr>\n",
       "    <tr>\n",
       "      <th>3</th>\n",
       "      <td>0826414346</td>\n",
       "      <td>Dr. Seuss: American Icon</td>\n",
       "      <td>NaN</td>\n",
       "      <td>A2MVUWT453QH61</td>\n",
       "      <td>Roy E. Perry \"amateur philosopher\"</td>\n",
       "      <td>7/7</td>\n",
       "      <td>4.0</td>\n",
       "      <td>1090713600</td>\n",
       "      <td>Phlip Nel gives silly Seuss a serious treatment</td>\n",
       "      <td>Theodore Seuss Geisel (1904-1991), aka &amp;quot;D...</td>\n",
       "    </tr>\n",
       "    <tr>\n",
       "      <th>4</th>\n",
       "      <td>0826414346</td>\n",
       "      <td>Dr. Seuss: American Icon</td>\n",
       "      <td>NaN</td>\n",
       "      <td>A22X4XUPKF66MR</td>\n",
       "      <td>D. H. Richards \"ninthwavestore\"</td>\n",
       "      <td>3/3</td>\n",
       "      <td>4.0</td>\n",
       "      <td>1107993600</td>\n",
       "      <td>Good academic overview</td>\n",
       "      <td>Philip Nel - Dr. Seuss: American IconThis is b...</td>\n",
       "    </tr>\n",
       "  </tbody>\n",
       "</table>\n",
       "</div>\n",
       "      <button class=\"colab-df-convert\" onclick=\"convertToInteractive('df-6a6003e6-c9c0-4ede-a3d6-072e51bb45db')\"\n",
       "              title=\"Convert this dataframe to an interactive table.\"\n",
       "              style=\"display:none;\">\n",
       "        \n",
       "  <svg xmlns=\"http://www.w3.org/2000/svg\" height=\"24px\"viewBox=\"0 0 24 24\"\n",
       "       width=\"24px\">\n",
       "    <path d=\"M0 0h24v24H0V0z\" fill=\"none\"/>\n",
       "    <path d=\"M18.56 5.44l.94 2.06.94-2.06 2.06-.94-2.06-.94-.94-2.06-.94 2.06-2.06.94zm-11 1L8.5 8.5l.94-2.06 2.06-.94-2.06-.94L8.5 2.5l-.94 2.06-2.06.94zm10 10l.94 2.06.94-2.06 2.06-.94-2.06-.94-.94-2.06-.94 2.06-2.06.94z\"/><path d=\"M17.41 7.96l-1.37-1.37c-.4-.4-.92-.59-1.43-.59-.52 0-1.04.2-1.43.59L10.3 9.45l-7.72 7.72c-.78.78-.78 2.05 0 2.83L4 21.41c.39.39.9.59 1.41.59.51 0 1.02-.2 1.41-.59l7.78-7.78 2.81-2.81c.8-.78.8-2.07 0-2.86zM5.41 20L4 18.59l7.72-7.72 1.47 1.35L5.41 20z\"/>\n",
       "  </svg>\n",
       "      </button>\n",
       "      \n",
       "  <style>\n",
       "    .colab-df-container {\n",
       "      display:flex;\n",
       "      flex-wrap:wrap;\n",
       "      gap: 12px;\n",
       "    }\n",
       "\n",
       "    .colab-df-convert {\n",
       "      background-color: #E8F0FE;\n",
       "      border: none;\n",
       "      border-radius: 50%;\n",
       "      cursor: pointer;\n",
       "      display: none;\n",
       "      fill: #1967D2;\n",
       "      height: 32px;\n",
       "      padding: 0 0 0 0;\n",
       "      width: 32px;\n",
       "    }\n",
       "\n",
       "    .colab-df-convert:hover {\n",
       "      background-color: #E2EBFA;\n",
       "      box-shadow: 0px 1px 2px rgba(60, 64, 67, 0.3), 0px 1px 3px 1px rgba(60, 64, 67, 0.15);\n",
       "      fill: #174EA6;\n",
       "    }\n",
       "\n",
       "    [theme=dark] .colab-df-convert {\n",
       "      background-color: #3B4455;\n",
       "      fill: #D2E3FC;\n",
       "    }\n",
       "\n",
       "    [theme=dark] .colab-df-convert:hover {\n",
       "      background-color: #434B5C;\n",
       "      box-shadow: 0px 1px 3px 1px rgba(0, 0, 0, 0.15);\n",
       "      filter: drop-shadow(0px 1px 2px rgba(0, 0, 0, 0.3));\n",
       "      fill: #FFFFFF;\n",
       "    }\n",
       "  </style>\n",
       "\n",
       "      <script>\n",
       "        const buttonEl =\n",
       "          document.querySelector('#df-6a6003e6-c9c0-4ede-a3d6-072e51bb45db button.colab-df-convert');\n",
       "        buttonEl.style.display =\n",
       "          google.colab.kernel.accessAllowed ? 'block' : 'none';\n",
       "\n",
       "        async function convertToInteractive(key) {\n",
       "          const element = document.querySelector('#df-6a6003e6-c9c0-4ede-a3d6-072e51bb45db');\n",
       "          const dataTable =\n",
       "            await google.colab.kernel.invokeFunction('convertToInteractive',\n",
       "                                                     [key], {});\n",
       "          if (!dataTable) return;\n",
       "\n",
       "          const docLinkHtml = 'Like what you see? Visit the ' +\n",
       "            '<a target=\"_blank\" href=https://colab.research.google.com/notebooks/data_table.ipynb>data table notebook</a>'\n",
       "            + ' to learn more about interactive tables.';\n",
       "          element.innerHTML = '';\n",
       "          dataTable['output_type'] = 'display_data';\n",
       "          await google.colab.output.renderOutput(dataTable, element);\n",
       "          const docLink = document.createElement('div');\n",
       "          docLink.innerHTML = docLinkHtml;\n",
       "          element.appendChild(docLink);\n",
       "        }\n",
       "      </script>\n",
       "    </div>\n",
       "  </div>\n",
       "  "
      ],
      "text/plain": [
       "           Id                           Title  Price         User_id  \\\n",
       "0  1882931173  Its Only Art If Its Well Hung!    NaN   AVCGYZL8FQQTD   \n",
       "1  0826414346        Dr. Seuss: American Icon    NaN  A30TK6U7DNS82R   \n",
       "2  0826414346        Dr. Seuss: American Icon    NaN  A3UH4UZ4RSVO82   \n",
       "3  0826414346        Dr. Seuss: American Icon    NaN  A2MVUWT453QH61   \n",
       "4  0826414346        Dr. Seuss: American Icon    NaN  A22X4XUPKF66MR   \n",
       "\n",
       "                          profileName review/helpfulness  review/score  \\\n",
       "0               Jim of Oz \"jim-of-oz\"                7/7           4.0   \n",
       "1                       Kevin Killian              10/10           5.0   \n",
       "2                        John Granger              10/11           5.0   \n",
       "3  Roy E. Perry \"amateur philosopher\"                7/7           4.0   \n",
       "4     D. H. Richards \"ninthwavestore\"                3/3           4.0   \n",
       "\n",
       "   review/time                                   review/summary  \\\n",
       "0    940636800           Nice collection of Julie Strain images   \n",
       "1   1095724800                                Really Enjoyed It   \n",
       "2   1078790400  Essential for every personal and Public Library   \n",
       "3   1090713600  Phlip Nel gives silly Seuss a serious treatment   \n",
       "4   1107993600                           Good academic overview   \n",
       "\n",
       "                                         review/text  \n",
       "0  This is only for Julie Strain fans. It's a col...  \n",
       "1  I don't care much for Dr. Seuss but after read...  \n",
       "2  If people become the books they read and if \"t...  \n",
       "3  Theodore Seuss Geisel (1904-1991), aka &quot;D...  \n",
       "4  Philip Nel - Dr. Seuss: American IconThis is b...  "
      ]
     },
     "execution_count": 5,
     "metadata": {},
     "output_type": "execute_result"
    }
   ],
   "source": [
    "df_rating.head()"
   ]
  },
  {
   "cell_type": "markdown",
   "metadata": {
    "id": "KuZpD_2fai-E"
   },
   "source": [
    "## Step 2: Explore the datasets\n",
    "\n",
    "In this step, you should explore what is present in the data and how the data is organized. You’ll need to determine what common features allow you to merge the datasets.  \n",
    "\n",
    "You are expected to answer the following questions using the _pandas_ library and markdown cells to describe your actions:\n",
    "\n",
    "* Are there quality issues in the dataset (noisy, missing data, etc.)? \n",
    "* What will you need to do to clean and/or transform the raw data for analysis?\n",
    "\n",
    "You are also expected to use the _matplotlib_ library to visually explore the datasets and explain your findings, specifically,\n",
    "\n",
    "* How are the data distributed? \n",
    "* What are some common trends?\n",
    "* What are the relationships between variables in your datasets?"
   ]
  },
  {
   "cell_type": "markdown",
   "metadata": {
    "id": "J5KB0OcTai-F"
   },
   "source": [
    "#### 2.1. check shape,columns and missing values"
   ]
  },
  {
   "cell_type": "code",
   "execution_count": null,
   "metadata": {
    "colab": {
     "base_uri": "https://localhost:8080/"
    },
    "executionInfo": {
     "elapsed": 215,
     "status": "ok",
     "timestamp": 1669631424447,
     "user": {
      "displayName": "Zufeshan Imran",
      "userId": "01352305454183338312"
     },
     "user_tz": 480
    },
    "id": "JZ6DqJtWai-F",
    "outputId": "0787684d-78e6-4a67-9111-ae739d5a46a6"
   },
   "outputs": [
    {
     "data": {
      "text/plain": [
       "((212404, 10), (3000000, 10))"
      ]
     },
     "execution_count": 20,
     "metadata": {},
     "output_type": "execute_result"
    }
   ],
   "source": [
    "# There are 10 features in both of the datasets and more than 2M records of books\n",
    "df_book_data.shape, df_rating.shape"
   ]
  },
  {
   "cell_type": "code",
   "execution_count": null,
   "metadata": {
    "colab": {
     "base_uri": "https://localhost:8080/",
     "height": 480
    },
    "executionInfo": {
     "elapsed": 743,
     "status": "ok",
     "timestamp": 1669631425464,
     "user": {
      "displayName": "Zufeshan Imran",
      "userId": "01352305454183338312"
     },
     "user_tz": 480
    },
    "id": "ohLOFMJJai-G",
    "outputId": "329dd884-8da4-4881-9d2a-40fb8a3e671b"
   },
   "outputs": [
    {
     "data": {
      "image/png": "[encoded data removed]",
      "text/plain": [
       "<Figure size 432x432 with 3 Axes>"
      ]
     },
     "metadata": {
      "needs_background": "light"
     },
     "output_type": "display_data"
    }
   ],
   "source": [
    "# Visualizing the distribution of NaN values in df_book_data across different features\n",
    "msno.bar(df_book_data,color=(0.5,0.25,0.25),figsize=(6,6),fontsize=10)\n",
    "plt.title('NaN distribution across features in df_book_data')\n",
    "plt.show()"
   ]
  },
  {
   "cell_type": "code",
   "execution_count": null,
   "metadata": {
    "colab": {
     "base_uri": "https://localhost:8080/",
     "height": 462
    },
    "executionInfo": {
     "elapsed": 6367,
     "status": "ok",
     "timestamp": 1669631431828,
     "user": {
      "displayName": "Zufeshan Imran",
      "userId": "01352305454183338312"
     },
     "user_tz": 480
    },
    "id": "daWT882sai-G",
    "outputId": "98eaef5b-82a3-4f9b-fccd-fa5cbcac9869"
   },
   "outputs": [
    {
     "data": {
      "image/png": "[encoded data removed]",
      "text/plain": [
       "<Figure size 576x432 with 2 Axes>"
      ]
     },
     "metadata": {
      "needs_background": "light"
     },
     "output_type": "display_data"
    }
   ],
   "source": [
    "# Visualizing the distribution of NaN values in df_rating across different features\n",
    "msno.matrix(df_rating,figsize=(8,6),fontsize=10,color=(0.5,0.25,0.25))\n",
    "plt.title('NaN distribution across features in df_rating')\n",
    "plt.show()"
   ]
  },
  {
   "cell_type": "markdown",
   "metadata": {
    "id": "NaYRzfQhai-H"
   },
   "source": [
    "### 2.2. cleanup noisy,unwanted and missing features\n"
   ]
  },
  {
   "cell_type": "markdown",
   "metadata": {
    "id": "fBJk5gKir0ZP"
   },
   "source": [
    "There are a no. of quality issues in both datasets for eg.\n",
    "\n",
    "\n",
    "1.   Multiple records missing\n",
    "2.   Inconsistent date format\n",
    "3. String texts with whitespaces\n",
    "4. Duplicate records\n",
    "5. Some book titles are in mixed cases across different records (add to duplicacy) eg. Dr.Seuss and Dr.suess\n",
    "6. Dtypes of features not clearly defined (convert to numeric,datetime)\n",
    "7. Some features need to be split up into multiple meaningful features to enable analysis\n",
    "\n"
   ]
  },
  {
   "cell_type": "markdown",
   "metadata": {
    "id": "3P4X_1E3i58w"
   },
   "source": [
    "#### 2.2.1 df_book_data cleanup"
   ]
  },
  {
   "cell_type": "markdown",
   "metadata": {
    "id": "jYASiL4Rai-H"
   },
   "source": [
    "> 1. remove features - image,previewLink,infoLink"
   ]
  },
  {
   "cell_type": "code",
   "execution_count": 6,
   "metadata": {
    "executionInfo": {
     "elapsed": 269,
     "status": "ok",
     "timestamp": 1669675736845,
     "user": {
      "displayName": "Zufeshan Imran",
      "userId": "01352305454183338312"
     },
     "user_tz": 480
    },
    "id": "hUJoROeTai-H"
   },
   "outputs": [],
   "source": [
    "del df_book_data['image']\n",
    "del df_book_data['previewLink']\n",
    "del df_book_data['infoLink']"
   ]
  },
  {
   "cell_type": "markdown",
   "metadata": {
    "id": "057-Ib3Bai-H"
   },
   "source": [
    "> 2. fill NaN with zero in ratingsCount"
   ]
  },
  {
   "cell_type": "code",
   "execution_count": 7,
   "metadata": {
    "executionInfo": {
     "elapsed": 15,
     "status": "ok",
     "timestamp": 1669675737003,
     "user": {
      "displayName": "Zufeshan Imran",
      "userId": "01352305454183338312"
     },
     "user_tz": 480
    },
    "id": "DIlh0mDSai-H"
   },
   "outputs": [],
   "source": [
    "df_book_data['ratingsCount'].fillna(0,inplace=True)"
   ]
  },
  {
   "cell_type": "markdown",
   "metadata": {
    "id": "7NgAJqTEai-I"
   },
   "source": [
    ">3. drop rows with NaN categories: total 41198 such values"
   ]
  },
  {
   "cell_type": "code",
   "execution_count": 8,
   "metadata": {
    "executionInfo": {
     "elapsed": 13,
     "status": "ok",
     "timestamp": 1669675737004,
     "user": {
      "displayName": "Zufeshan Imran",
      "userId": "01352305454183338312"
     },
     "user_tz": 480
    },
    "id": "kcbx3Qqfai-I"
   },
   "outputs": [],
   "source": [
    "df_book_data.dropna(subset = ['categories'],inplace=True) #drop rows only if categories is null"
   ]
  },
  {
   "cell_type": "code",
   "execution_count": 9,
   "metadata": {
    "colab": {
     "base_uri": "https://localhost:8080/"
    },
    "executionInfo": {
     "elapsed": 13,
     "status": "ok",
     "timestamp": 1669675737005,
     "user": {
      "displayName": "Zufeshan Imran",
      "userId": "01352305454183338312"
     },
     "user_tz": 480
    },
    "id": "dCzo8wcdai-I",
    "outputId": "6d6e079e-546c-4e8f-9aac-f18ae2de1aeb"
   },
   "outputs": [
    {
     "data": {
      "text/plain": [
       "171205"
      ]
     },
     "execution_count": 9,
     "metadata": {},
     "output_type": "execute_result"
    }
   ],
   "source": [
    "len(df_book_data) #171205 rows with no nulls in categories"
   ]
  },
  {
   "cell_type": "markdown",
   "metadata": {
    "id": "Z2iL2f3tai-I"
   },
   "source": [
    "> 4. retrieve year from publishedDate - inconsistent date format"
   ]
  },
  {
   "cell_type": "code",
   "execution_count": 10,
   "metadata": {
    "executionInfo": {
     "elapsed": 164,
     "status": "ok",
     "timestamp": 1669675737159,
     "user": {
      "displayName": "Zufeshan Imran",
      "userId": "01352305454183338312"
     },
     "user_tz": 480
    },
    "id": "A3lmqJk_ai-I"
   },
   "outputs": [],
   "source": [
    "df_book_data['publishedDate'] = np.where(df_book_data['publishedDate'].str.contains('/'),df_book_data['publishedDate'].str[-4:],df_book_data['publishedDate'].str[0:4])"
   ]
  },
  {
   "cell_type": "markdown",
   "metadata": {
    "id": "kh7g9lCGai-J"
   },
   "source": [
    "> 5. add new column - desp/length which calculates no.of words used to describe a book"
   ]
  },
  {
   "cell_type": "code",
   "execution_count": 11,
   "metadata": {
    "executionInfo": {
     "elapsed": 545,
     "status": "ok",
     "timestamp": 1669675737702,
     "user": {
      "displayName": "Zufeshan Imran",
      "userId": "01352305454183338312"
     },
     "user_tz": 480
    },
    "id": "VHKJeUurai-J"
   },
   "outputs": [],
   "source": [
    "df_book_data['desp/length'] = df_book_data['description'].str.count(' ')"
   ]
  },
  {
   "cell_type": "markdown",
   "metadata": {
    "id": "gx6RcAYsai-W"
   },
   "source": [
    "> 6. change Title to lowercase as there are duplicate titles with different cases - lower,mixed,upper"
   ]
  },
  {
   "cell_type": "code",
   "execution_count": 12,
   "metadata": {
    "executionInfo": {
     "elapsed": 3,
     "status": "ok",
     "timestamp": 1669675737850,
     "user": {
      "displayName": "Zufeshan Imran",
      "userId": "01352305454183338312"
     },
     "user_tz": 480
    },
    "id": "sKsDjYy8ai-W"
   },
   "outputs": [],
   "source": [
    "#converting Title to lowercase so that no mismatch occurs while merging\n",
    "df_book_data['Title'] = df_book_data['Title'].str.lower().str.strip()"
   ]
  },
  {
   "cell_type": "markdown",
   "metadata": {
    "id": "XzaJPVoqai-W"
   },
   "source": [
    "> 7. remove duplicates if any"
   ]
  },
  {
   "cell_type": "code",
   "execution_count": 13,
   "metadata": {
    "colab": {
     "base_uri": "https://localhost:8080/"
    },
    "executionInfo": {
     "elapsed": 348,
     "status": "ok",
     "timestamp": 1669675738196,
     "user": {
      "displayName": "Zufeshan Imran",
      "userId": "01352305454183338312"
     },
     "user_tz": 480
    },
    "id": "13H2Jk1Hai-W",
    "outputId": "98dc0721-58c6-473a-8f91-9053f39bdb92"
   },
   "outputs": [
    {
     "data": {
      "text/plain": [
       "1702"
      ]
     },
     "execution_count": 13,
     "metadata": {},
     "output_type": "execute_result"
    }
   ],
   "source": [
    "len(df_book_data[df_book_data.duplicated()]) #1702 duplicate values"
   ]
  },
  {
   "cell_type": "code",
   "execution_count": 14,
   "metadata": {
    "colab": {
     "base_uri": "https://localhost:8080/"
    },
    "executionInfo": {
     "elapsed": 318,
     "status": "ok",
     "timestamp": 1669675738513,
     "user": {
      "displayName": "Zufeshan Imran",
      "userId": "01352305454183338312"
     },
     "user_tz": 480
    },
    "id": "puxkJjxQai-X",
    "outputId": "1250ac41-2311-4dbd-ca3f-703bbdc24083"
   },
   "outputs": [
    {
     "data": {
      "text/plain": [
       "(169503, 8)"
      ]
     },
     "execution_count": 14,
     "metadata": {},
     "output_type": "execute_result"
    }
   ],
   "source": [
    "df_book_data.drop_duplicates(keep='first',inplace=True)\n",
    "df_book_data.shape"
   ]
  },
  {
   "cell_type": "code",
   "execution_count": 15,
   "metadata": {
    "colab": {
     "base_uri": "https://localhost:8080/",
     "height": 206
    },
    "executionInfo": {
     "elapsed": 4,
     "status": "ok",
     "timestamp": 1669675738513,
     "user": {
      "displayName": "Zufeshan Imran",
      "userId": "01352305454183338312"
     },
     "user_tz": 480
    },
    "id": "P_hz3MDBai-X",
    "outputId": "67e73b91-0b15-440b-96f5-9fa9540d5f77"
   },
   "outputs": [
    {
     "data": {
      "text/html": [
       "\n",
       "  <div id=\"df-a5fbab3f-3cad-411d-a660-b2698d8649ae\">\n",
       "    <div class=\"colab-df-container\">\n",
       "      <div>\n",
       "<style scoped>\n",
       "    .dataframe tbody tr th:only-of-type {\n",
       "        vertical-align: middle;\n",
       "    }\n",
       "\n",
       "    .dataframe tbody tr th {\n",
       "        vertical-align: top;\n",
       "    }\n",
       "\n",
       "    .dataframe thead th {\n",
       "        text-align: right;\n",
       "    }\n",
       "</style>\n",
       "<table border=\"1\" class=\"dataframe\">\n",
       "  <thead>\n",
       "    <tr style=\"text-align: right;\">\n",
       "      <th></th>\n",
       "      <th>Title</th>\n",
       "      <th>description</th>\n",
       "      <th>authors</th>\n",
       "      <th>publisher</th>\n",
       "      <th>publishedDate</th>\n",
       "      <th>categories</th>\n",
       "      <th>ratingsCount</th>\n",
       "      <th>desp/length</th>\n",
       "    </tr>\n",
       "  </thead>\n",
       "  <tbody>\n",
       "    <tr>\n",
       "      <th>212397</th>\n",
       "      <td>the magic of the soul: applying spiritual powe...</td>\n",
       "      <td>\"The Magic of the Soul, Applying Spiritual Pow...</td>\n",
       "      <td>['Patrick J. Harbula']</td>\n",
       "      <td>NaN</td>\n",
       "      <td>2002</td>\n",
       "      <td>['Body, Mind &amp; Spirit']</td>\n",
       "      <td>0.0</td>\n",
       "      <td>178.0</td>\n",
       "    </tr>\n",
       "    <tr>\n",
       "      <th>212398</th>\n",
       "      <td>autodesk inventor 10 essentials plus</td>\n",
       "      <td>Autodesk Inventor 2017 Essentials Plus provide...</td>\n",
       "      <td>['Daniel Banach', 'Travis Jones']</td>\n",
       "      <td>SDC Publications</td>\n",
       "      <td>2016</td>\n",
       "      <td>['Computers']</td>\n",
       "      <td>0.0</td>\n",
       "      <td>243.0</td>\n",
       "    </tr>\n",
       "    <tr>\n",
       "      <th>212399</th>\n",
       "      <td>the orphan of ellis island (time travel advent...</td>\n",
       "      <td>During a school trip to Ellis Island, Dominick...</td>\n",
       "      <td>['Elvira Woodruff']</td>\n",
       "      <td>Scholastic Paperbacks</td>\n",
       "      <td>2000</td>\n",
       "      <td>['Juvenile Fiction']</td>\n",
       "      <td>2.0</td>\n",
       "      <td>26.0</td>\n",
       "    </tr>\n",
       "    <tr>\n",
       "      <th>212400</th>\n",
       "      <td>red boots for christmas</td>\n",
       "      <td>Everyone in the village of Friedensdorf is hap...</td>\n",
       "      <td>NaN</td>\n",
       "      <td>NaN</td>\n",
       "      <td>1995</td>\n",
       "      <td>['Juvenile Fiction']</td>\n",
       "      <td>0.0</td>\n",
       "      <td>32.0</td>\n",
       "    </tr>\n",
       "    <tr>\n",
       "      <th>212402</th>\n",
       "      <td>the autograph man</td>\n",
       "      <td>Alex-Li Tandem sells autographs. His business ...</td>\n",
       "      <td>['Zadie Smith']</td>\n",
       "      <td>Vintage</td>\n",
       "      <td>2003</td>\n",
       "      <td>['Fiction']</td>\n",
       "      <td>19.0</td>\n",
       "      <td>121.0</td>\n",
       "    </tr>\n",
       "  </tbody>\n",
       "</table>\n",
       "</div>\n",
       "      <button class=\"colab-df-convert\" onclick=\"convertToInteractive('df-a5fbab3f-3cad-411d-a660-b2698d8649ae')\"\n",
       "              title=\"Convert this dataframe to an interactive table.\"\n",
       "              style=\"display:none;\">\n",
       "        \n",
       "  <svg xmlns=\"http://www.w3.org/2000/svg\" height=\"24px\"viewBox=\"0 0 24 24\"\n",
       "       width=\"24px\">\n",
       "    <path d=\"M0 0h24v24H0V0z\" fill=\"none\"/>\n",
       "    <path d=\"M18.56 5.44l.94 2.06.94-2.06 2.06-.94-2.06-.94-.94-2.06-.94 2.06-2.06.94zm-11 1L8.5 8.5l.94-2.06 2.06-.94-2.06-.94L8.5 2.5l-.94 2.06-2.06.94zm10 10l.94 2.06.94-2.06 2.06-.94-2.06-.94-.94-2.06-.94 2.06-2.06.94z\"/><path d=\"M17.41 7.96l-1.37-1.37c-.4-.4-.92-.59-1.43-.59-.52 0-1.04.2-1.43.59L10.3 9.45l-7.72 7.72c-.78.78-.78 2.05 0 2.83L4 21.41c.39.39.9.59 1.41.59.51 0 1.02-.2 1.41-.59l7.78-7.78 2.81-2.81c.8-.78.8-2.07 0-2.86zM5.41 20L4 18.59l7.72-7.72 1.47 1.35L5.41 20z\"/>\n",
       "  </svg>\n",
       "      </button>\n",
       "      \n",
       "  <style>\n",
       "    .colab-df-container {\n",
       "      display:flex;\n",
       "      flex-wrap:wrap;\n",
       "      gap: 12px;\n",
       "    }\n",
       "\n",
       "    .colab-df-convert {\n",
       "      background-color: #E8F0FE;\n",
       "      border: none;\n",
       "      border-radius: 50%;\n",
       "      cursor: pointer;\n",
       "      display: none;\n",
       "      fill: #1967D2;\n",
       "      height: 32px;\n",
       "      padding: 0 0 0 0;\n",
       "      width: 32px;\n",
       "    }\n",
       "\n",
       "    .colab-df-convert:hover {\n",
       "      background-color: #E2EBFA;\n",
       "      box-shadow: 0px 1px 2px rgba(60, 64, 67, 0.3), 0px 1px 3px 1px rgba(60, 64, 67, 0.15);\n",
       "      fill: #174EA6;\n",
       "    }\n",
       "\n",
       "    [theme=dark] .colab-df-convert {\n",
       "      background-color: #3B4455;\n",
       "      fill: #D2E3FC;\n",
       "    }\n",
       "\n",
       "    [theme=dark] .colab-df-convert:hover {\n",
       "      background-color: #434B5C;\n",
       "      box-shadow: 0px 1px 3px 1px rgba(0, 0, 0, 0.15);\n",
       "      filter: drop-shadow(0px 1px 2px rgba(0, 0, 0, 0.3));\n",
       "      fill: #FFFFFF;\n",
       "    }\n",
       "  </style>\n",
       "\n",
       "      <script>\n",
       "        const buttonEl =\n",
       "          document.querySelector('#df-a5fbab3f-3cad-411d-a660-b2698d8649ae button.colab-df-convert');\n",
       "        buttonEl.style.display =\n",
       "          google.colab.kernel.accessAllowed ? 'block' : 'none';\n",
       "\n",
       "        async function convertToInteractive(key) {\n",
       "          const element = document.querySelector('#df-a5fbab3f-3cad-411d-a660-b2698d8649ae');\n",
       "          const dataTable =\n",
       "            await google.colab.kernel.invokeFunction('convertToInteractive',\n",
       "                                                     [key], {});\n",
       "          if (!dataTable) return;\n",
       "\n",
       "          const docLinkHtml = 'Like what you see? Visit the ' +\n",
       "            '<a target=\"_blank\" href=https://colab.research.google.com/notebooks/data_table.ipynb>data table notebook</a>'\n",
       "            + ' to learn more about interactive tables.';\n",
       "          element.innerHTML = '';\n",
       "          dataTable['output_type'] = 'display_data';\n",
       "          await google.colab.output.renderOutput(dataTable, element);\n",
       "          const docLink = document.createElement('div');\n",
       "          docLink.innerHTML = docLinkHtml;\n",
       "          element.appendChild(docLink);\n",
       "        }\n",
       "      </script>\n",
       "    </div>\n",
       "  </div>\n",
       "  "
      ],
      "text/plain": [
       "                                                    Title  \\\n",
       "212397  the magic of the soul: applying spiritual powe...   \n",
       "212398               autodesk inventor 10 essentials plus   \n",
       "212399  the orphan of ellis island (time travel advent...   \n",
       "212400                            red boots for christmas   \n",
       "212402                                  the autograph man   \n",
       "\n",
       "                                              description  \\\n",
       "212397  \"The Magic of the Soul, Applying Spiritual Pow...   \n",
       "212398  Autodesk Inventor 2017 Essentials Plus provide...   \n",
       "212399  During a school trip to Ellis Island, Dominick...   \n",
       "212400  Everyone in the village of Friedensdorf is hap...   \n",
       "212402  Alex-Li Tandem sells autographs. His business ...   \n",
       "\n",
       "                                  authors              publisher  \\\n",
       "212397             ['Patrick J. Harbula']                    NaN   \n",
       "212398  ['Daniel Banach', 'Travis Jones']       SDC Publications   \n",
       "212399                ['Elvira Woodruff']  Scholastic Paperbacks   \n",
       "212400                                NaN                    NaN   \n",
       "212402                    ['Zadie Smith']                Vintage   \n",
       "\n",
       "       publishedDate               categories  ratingsCount  desp/length  \n",
       "212397          2002  ['Body, Mind & Spirit']           0.0        178.0  \n",
       "212398          2016            ['Computers']           0.0        243.0  \n",
       "212399          2000     ['Juvenile Fiction']           2.0         26.0  \n",
       "212400          1995     ['Juvenile Fiction']           0.0         32.0  \n",
       "212402          2003              ['Fiction']          19.0        121.0  "
      ]
     },
     "execution_count": 15,
     "metadata": {},
     "output_type": "execute_result"
    }
   ],
   "source": [
    "df_book_data.tail()"
   ]
  },
  {
   "cell_type": "markdown",
   "metadata": {
    "id": "lPTlI0gFai-X"
   },
   "source": [
    "#### 2.2.2 df_rating cleanup"
   ]
  },
  {
   "cell_type": "markdown",
   "metadata": {
    "id": "HIlOxQiOai-X"
   },
   "source": [
    "> 1. Remove price as a feature as it has too many nulls"
   ]
  },
  {
   "cell_type": "code",
   "execution_count": 16,
   "metadata": {
    "executionInfo": {
     "elapsed": 157,
     "status": "ok",
     "timestamp": 1669675741632,
     "user": {
      "displayName": "Zufeshan Imran",
      "userId": "01352305454183338312"
     },
     "user_tz": 480
    },
    "id": "1VLek9jyai-X"
   },
   "outputs": [],
   "source": [
    "del df_rating['Price']"
   ]
  },
  {
   "cell_type": "markdown",
   "metadata": {
    "id": "2xiUmwf8ai-X"
   },
   "source": [
    "> 2. remove rows with NaN Title : total 208 such rows"
   ]
  },
  {
   "cell_type": "code",
   "execution_count": 17,
   "metadata": {
    "colab": {
     "base_uri": "https://localhost:8080/"
    },
    "executionInfo": {
     "elapsed": 957,
     "status": "ok",
     "timestamp": 1669675742743,
     "user": {
      "displayName": "Zufeshan Imran",
      "userId": "01352305454183338312"
     },
     "user_tz": 480
    },
    "id": "xmrSeaefai-X",
    "outputId": "60166e80-dad2-4da7-8344-c84c36990cb6"
   },
   "outputs": [
    {
     "data": {
      "text/plain": [
       "2999792"
      ]
     },
     "execution_count": 17,
     "metadata": {},
     "output_type": "execute_result"
    }
   ],
   "source": [
    "df_rating.dropna(subset=['Title'],inplace=True)\n",
    "len(df_rating)"
   ]
  },
  {
   "cell_type": "markdown",
   "metadata": {
    "id": "WXzDQY1Wai-Y"
   },
   "source": [
    "> 3. remove rows with NaN User_id : total 561774 such rows"
   ]
  },
  {
   "cell_type": "code",
   "execution_count": 18,
   "metadata": {
    "colab": {
     "base_uri": "https://localhost:8080/"
    },
    "executionInfo": {
     "elapsed": 408,
     "status": "ok",
     "timestamp": 1669675743150,
     "user": {
      "displayName": "Zufeshan Imran",
      "userId": "01352305454183338312"
     },
     "user_tz": 480
    },
    "id": "POute3ZYai-Y",
    "outputId": "2dba3d7c-f492-4e4d-d3dc-5fae4c768f1d"
   },
   "outputs": [
    {
     "data": {
      "text/plain": [
       "2438018"
      ]
     },
     "execution_count": 18,
     "metadata": {},
     "output_type": "execute_result"
    }
   ],
   "source": [
    "df_rating.dropna(subset=['User_id'],inplace=True)\n",
    "len(df_rating)"
   ]
  },
  {
   "cell_type": "markdown",
   "metadata": {
    "id": "4qKA9KCRai-Y"
   },
   "source": [
    "> 4. add columns - total reviews , reviews_helpful by breaking down review/helpfulness into 2 parts"
   ]
  },
  {
   "cell_type": "code",
   "execution_count": 19,
   "metadata": {
    "executionInfo": {
     "elapsed": 4252,
     "status": "ok",
     "timestamp": 1669675747393,
     "user": {
      "displayName": "Zufeshan Imran",
      "userId": "01352305454183338312"
     },
     "user_tz": 480
    },
    "id": "2g1dgxFEai-Y"
   },
   "outputs": [],
   "source": [
    "rvw = df_rating['review/helpfulness'].str.split('/')\n",
    "df_rating['reviews_helpful'] = rvw.str[0]\n",
    "df_rating['total reviews'] = rvw.str[1]"
   ]
  },
  {
   "cell_type": "code",
   "execution_count": 20,
   "metadata": {
    "executionInfo": {
     "elapsed": 4,
     "status": "ok",
     "timestamp": 1669675747393,
     "user": {
      "displayName": "Zufeshan Imran",
      "userId": "01352305454183338312"
     },
     "user_tz": 480
    },
    "id": "cxoesEvnai-Y"
   },
   "outputs": [],
   "source": [
    "del df_rating['review/helpfulness']"
   ]
  },
  {
   "cell_type": "markdown",
   "metadata": {
    "id": "ZsDCmoq1ai-Y"
   },
   "source": [
    "> 5. add column - review/length which counts no. of words in review/text"
   ]
  },
  {
   "cell_type": "code",
   "execution_count": 21,
   "metadata": {
    "executionInfo": {
     "elapsed": 12849,
     "status": "ok",
     "timestamp": 1669675760453,
     "user": {
      "displayName": "Zufeshan Imran",
      "userId": "01352305454183338312"
     },
     "user_tz": 480
    },
    "id": "HfW6gi1Zai-Z"
   },
   "outputs": [],
   "source": [
    "df_rating['review/length'] = df_rating['review/text'].str.count(' ')"
   ]
  },
  {
   "cell_type": "markdown",
   "metadata": {
    "id": "pPTJdyCdai-Z"
   },
   "source": [
    "> 6. transform review/time into a valid datetime"
   ]
  },
  {
   "cell_type": "code",
   "execution_count": 22,
   "metadata": {
    "executionInfo": {
     "elapsed": 12,
     "status": "ok",
     "timestamp": 1669675760453,
     "user": {
      "displayName": "Zufeshan Imran",
      "userId": "01352305454183338312"
     },
     "user_tz": 480
    },
    "id": "pFxK00owai-Z"
   },
   "outputs": [],
   "source": [
    "df_rating['review/time'] = pd.to_datetime(df_rating['review/time'],unit='s')"
   ]
  },
  {
   "cell_type": "markdown",
   "metadata": {
    "id": "PCpn01N4ai-Z"
   },
   "source": [
    "> 7. change Title to lowercase as there are duplicate titles with different cases - lower,mixed,upper"
   ]
  },
  {
   "cell_type": "code",
   "execution_count": 23,
   "metadata": {
    "executionInfo": {
     "elapsed": 960,
     "status": "ok",
     "timestamp": 1669675761608,
     "user": {
      "displayName": "Zufeshan Imran",
      "userId": "01352305454183338312"
     },
     "user_tz": 480
    },
    "id": "wRqIb-doai-Z"
   },
   "outputs": [],
   "source": [
    "#converting Title to lowercase so that no mismatch occurs while merging\n",
    "df_rating['Title'] = df_rating['Title'].str.lower().str.strip()"
   ]
  },
  {
   "cell_type": "markdown",
   "metadata": {
    "id": "ihfzEB2bai-Z"
   },
   "source": [
    "> 7. remove duplicates if any"
   ]
  },
  {
   "cell_type": "code",
   "execution_count": 24,
   "metadata": {
    "colab": {
     "base_uri": "https://localhost:8080/"
    },
    "executionInfo": {
     "elapsed": 6802,
     "status": "ok",
     "timestamp": 1669675768406,
     "user": {
      "displayName": "Zufeshan Imran",
      "userId": "01352305454183338312"
     },
     "user_tz": 480
    },
    "id": "ZSAEu6DNai-a",
    "outputId": "4a181875-54b1-4167-b6d6-136e54ff6d0d"
   },
   "outputs": [
    {
     "data": {
      "text/plain": [
       "5546"
      ]
     },
     "execution_count": 24,
     "metadata": {},
     "output_type": "execute_result"
    }
   ],
   "source": [
    "len(df_rating[df_rating.duplicated()]) #5546 duplicate records"
   ]
  },
  {
   "cell_type": "code",
   "execution_count": 25,
   "metadata": {
    "colab": {
     "base_uri": "https://localhost:8080/"
    },
    "executionInfo": {
     "elapsed": 5645,
     "status": "ok",
     "timestamp": 1669675774039,
     "user": {
      "displayName": "Zufeshan Imran",
      "userId": "01352305454183338312"
     },
     "user_tz": 480
    },
    "id": "FMUFi49jai-a",
    "outputId": "f1388f8a-05b7-4de3-baf5-9e1e5adb4ee0"
   },
   "outputs": [
    {
     "data": {
      "text/plain": [
       "(2432472, 11)"
      ]
     },
     "execution_count": 25,
     "metadata": {},
     "output_type": "execute_result"
    }
   ],
   "source": [
    "df_rating.drop_duplicates(keep='first',inplace=True)\n",
    "df_rating.shape"
   ]
  },
  {
   "cell_type": "code",
   "execution_count": 26,
   "metadata": {
    "colab": {
     "base_uri": "https://localhost:8080/",
     "height": 354
    },
    "executionInfo": {
     "elapsed": 15,
     "status": "ok",
     "timestamp": 1669675774040,
     "user": {
      "displayName": "Zufeshan Imran",
      "userId": "01352305454183338312"
     },
     "user_tz": 480
    },
    "id": "i4YnacZ4ai-a",
    "outputId": "5d2235c8-a4c1-4596-d940-dd21b095ed59"
   },
   "outputs": [
    {
     "data": {
      "text/html": [
       "\n",
       "  <div id=\"df-1533c9c1-1d38-4812-a396-493dc92c25b0\">\n",
       "    <div class=\"colab-df-container\">\n",
       "      <div>\n",
       "<style scoped>\n",
       "    .dataframe tbody tr th:only-of-type {\n",
       "        vertical-align: middle;\n",
       "    }\n",
       "\n",
       "    .dataframe tbody tr th {\n",
       "        vertical-align: top;\n",
       "    }\n",
       "\n",
       "    .dataframe thead th {\n",
       "        text-align: right;\n",
       "    }\n",
       "</style>\n",
       "<table border=\"1\" class=\"dataframe\">\n",
       "  <thead>\n",
       "    <tr style=\"text-align: right;\">\n",
       "      <th></th>\n",
       "      <th>Id</th>\n",
       "      <th>Title</th>\n",
       "      <th>User_id</th>\n",
       "      <th>profileName</th>\n",
       "      <th>review/score</th>\n",
       "      <th>review/time</th>\n",
       "      <th>review/summary</th>\n",
       "      <th>review/text</th>\n",
       "      <th>reviews_helpful</th>\n",
       "      <th>total reviews</th>\n",
       "      <th>review/length</th>\n",
       "    </tr>\n",
       "  </thead>\n",
       "  <tbody>\n",
       "    <tr>\n",
       "      <th>2999990</th>\n",
       "      <td>B000NSLVCU</td>\n",
       "      <td>the idea of history</td>\n",
       "      <td>AI1QNMVF2E3TN</td>\n",
       "      <td>Robin George \"Master of Arts\"</td>\n",
       "      <td>5.0</td>\n",
       "      <td>2003-07-01</td>\n",
       "      <td>R. G. Collingwood's Most Famous Book</td>\n",
       "      <td>Highly Recommended.This book is one of the bes...</td>\n",
       "      <td>28</td>\n",
       "      <td>29</td>\n",
       "      <td>262.0</td>\n",
       "    </tr>\n",
       "    <tr>\n",
       "      <th>2999994</th>\n",
       "      <td>B000NSLVCU</td>\n",
       "      <td>the idea of history</td>\n",
       "      <td>AOFGOUMXLMVZS</td>\n",
       "      <td>S. Grotzke \"scquest\"</td>\n",
       "      <td>4.0</td>\n",
       "      <td>2012-07-17</td>\n",
       "      <td>Thoughtful Critic of History</td>\n",
       "      <td>History is not a scientific process of cutting...</td>\n",
       "      <td>3</td>\n",
       "      <td>3</td>\n",
       "      <td>2061.0</td>\n",
       "    </tr>\n",
       "    <tr>\n",
       "      <th>2999996</th>\n",
       "      <td>B000NSLVCU</td>\n",
       "      <td>the idea of history</td>\n",
       "      <td>A1SMUB9ASL5L9Y</td>\n",
       "      <td>jafrank</td>\n",
       "      <td>4.0</td>\n",
       "      <td>2012-03-14</td>\n",
       "      <td>Quite good and ahead of its time occasionally</td>\n",
       "      <td>This is pretty interesting. Collingwood seems ...</td>\n",
       "      <td>1</td>\n",
       "      <td>1</td>\n",
       "      <td>102.0</td>\n",
       "    </tr>\n",
       "    <tr>\n",
       "      <th>2999997</th>\n",
       "      <td>B000NSLVCU</td>\n",
       "      <td>the idea of history</td>\n",
       "      <td>A2AQMEKZKK5EE4</td>\n",
       "      <td>L. L. Poulos \"Muslim Mom\"</td>\n",
       "      <td>4.0</td>\n",
       "      <td>2007-05-27</td>\n",
       "      <td>Easier reads of those not well versed in histo...</td>\n",
       "      <td>This is a good book but very esoteric. \"What i...</td>\n",
       "      <td>0</td>\n",
       "      <td>0</td>\n",
       "      <td>27.0</td>\n",
       "    </tr>\n",
       "    <tr>\n",
       "      <th>2999998</th>\n",
       "      <td>B000NSLVCU</td>\n",
       "      <td>the idea of history</td>\n",
       "      <td>A18SQGYBKS852K</td>\n",
       "      <td>Julia A. Klein \"knitting rat\"</td>\n",
       "      <td>5.0</td>\n",
       "      <td>2006-11-09</td>\n",
       "      <td>Yes, it is cheaper than the University Bookstore</td>\n",
       "      <td>My daughter, a freshman at Indiana University,...</td>\n",
       "      <td>1</td>\n",
       "      <td>11</td>\n",
       "      <td>46.0</td>\n",
       "    </tr>\n",
       "  </tbody>\n",
       "</table>\n",
       "</div>\n",
       "      <button class=\"colab-df-convert\" onclick=\"convertToInteractive('df-1533c9c1-1d38-4812-a396-493dc92c25b0')\"\n",
       "              title=\"Convert this dataframe to an interactive table.\"\n",
       "              style=\"display:none;\">\n",
       "        \n",
       "  <svg xmlns=\"http://www.w3.org/2000/svg\" height=\"24px\"viewBox=\"0 0 24 24\"\n",
       "       width=\"24px\">\n",
       "    <path d=\"M0 0h24v24H0V0z\" fill=\"none\"/>\n",
       "    <path d=\"M18.56 5.44l.94 2.06.94-2.06 2.06-.94-2.06-.94-.94-2.06-.94 2.06-2.06.94zm-11 1L8.5 8.5l.94-2.06 2.06-.94-2.06-.94L8.5 2.5l-.94 2.06-2.06.94zm10 10l.94 2.06.94-2.06 2.06-.94-2.06-.94-.94-2.06-.94 2.06-2.06.94z\"/><path d=\"M17.41 7.96l-1.37-1.37c-.4-.4-.92-.59-1.43-.59-.52 0-1.04.2-1.43.59L10.3 9.45l-7.72 7.72c-.78.78-.78 2.05 0 2.83L4 21.41c.39.39.9.59 1.41.59.51 0 1.02-.2 1.41-.59l7.78-7.78 2.81-2.81c.8-.78.8-2.07 0-2.86zM5.41 20L4 18.59l7.72-7.72 1.47 1.35L5.41 20z\"/>\n",
       "  </svg>\n",
       "      </button>\n",
       "      \n",
       "  <style>\n",
       "    .colab-df-container {\n",
       "      display:flex;\n",
       "      flex-wrap:wrap;\n",
       "      gap: 12px;\n",
       "    }\n",
       "\n",
       "    .colab-df-convert {\n",
       "      background-color: #E8F0FE;\n",
       "      border: none;\n",
       "      border-radius: 50%;\n",
       "      cursor: pointer;\n",
       "      display: none;\n",
       "      fill: #1967D2;\n",
       "      height: 32px;\n",
       "      padding: 0 0 0 0;\n",
       "      width: 32px;\n",
       "    }\n",
       "\n",
       "    .colab-df-convert:hover {\n",
       "      background-color: #E2EBFA;\n",
       "      box-shadow: 0px 1px 2px rgba(60, 64, 67, 0.3), 0px 1px 3px 1px rgba(60, 64, 67, 0.15);\n",
       "      fill: #174EA6;\n",
       "    }\n",
       "\n",
       "    [theme=dark] .colab-df-convert {\n",
       "      background-color: #3B4455;\n",
       "      fill: #D2E3FC;\n",
       "    }\n",
       "\n",
       "    [theme=dark] .colab-df-convert:hover {\n",
       "      background-color: #434B5C;\n",
       "      box-shadow: 0px 1px 3px 1px rgba(0, 0, 0, 0.15);\n",
       "      filter: drop-shadow(0px 1px 2px rgba(0, 0, 0, 0.3));\n",
       "      fill: #FFFFFF;\n",
       "    }\n",
       "  </style>\n",
       "\n",
       "      <script>\n",
       "        const buttonEl =\n",
       "          document.querySelector('#df-1533c9c1-1d38-4812-a396-493dc92c25b0 button.colab-df-convert');\n",
       "        buttonEl.style.display =\n",
       "          google.colab.kernel.accessAllowed ? 'block' : 'none';\n",
       "\n",
       "        async function convertToInteractive(key) {\n",
       "          const element = document.querySelector('#df-1533c9c1-1d38-4812-a396-493dc92c25b0');\n",
       "          const dataTable =\n",
       "            await google.colab.kernel.invokeFunction('convertToInteractive',\n",
       "                                                     [key], {});\n",
       "          if (!dataTable) return;\n",
       "\n",
       "          const docLinkHtml = 'Like what you see? Visit the ' +\n",
       "            '<a target=\"_blank\" href=https://colab.research.google.com/notebooks/data_table.ipynb>data table notebook</a>'\n",
       "            + ' to learn more about interactive tables.';\n",
       "          element.innerHTML = '';\n",
       "          dataTable['output_type'] = 'display_data';\n",
       "          await google.colab.output.renderOutput(dataTable, element);\n",
       "          const docLink = document.createElement('div');\n",
       "          docLink.innerHTML = docLinkHtml;\n",
       "          element.appendChild(docLink);\n",
       "        }\n",
       "      </script>\n",
       "    </div>\n",
       "  </div>\n",
       "  "
      ],
      "text/plain": [
       "                 Id                Title         User_id  \\\n",
       "2999990  B000NSLVCU  the idea of history   AI1QNMVF2E3TN   \n",
       "2999994  B000NSLVCU  the idea of history   AOFGOUMXLMVZS   \n",
       "2999996  B000NSLVCU  the idea of history  A1SMUB9ASL5L9Y   \n",
       "2999997  B000NSLVCU  the idea of history  A2AQMEKZKK5EE4   \n",
       "2999998  B000NSLVCU  the idea of history  A18SQGYBKS852K   \n",
       "\n",
       "                           profileName  review/score review/time  \\\n",
       "2999990  Robin George \"Master of Arts\"           5.0  2003-07-01   \n",
       "2999994           S. Grotzke \"scquest\"           4.0  2012-07-17   \n",
       "2999996                        jafrank           4.0  2012-03-14   \n",
       "2999997      L. L. Poulos \"Muslim Mom\"           4.0  2007-05-27   \n",
       "2999998  Julia A. Klein \"knitting rat\"           5.0  2006-11-09   \n",
       "\n",
       "                                            review/summary  \\\n",
       "2999990               R. G. Collingwood's Most Famous Book   \n",
       "2999994                       Thoughtful Critic of History   \n",
       "2999996      Quite good and ahead of its time occasionally   \n",
       "2999997  Easier reads of those not well versed in histo...   \n",
       "2999998   Yes, it is cheaper than the University Bookstore   \n",
       "\n",
       "                                               review/text reviews_helpful  \\\n",
       "2999990  Highly Recommended.This book is one of the bes...              28   \n",
       "2999994  History is not a scientific process of cutting...               3   \n",
       "2999996  This is pretty interesting. Collingwood seems ...               1   \n",
       "2999997  This is a good book but very esoteric. \"What i...               0   \n",
       "2999998  My daughter, a freshman at Indiana University,...               1   \n",
       "\n",
       "        total reviews  review/length  \n",
       "2999990            29          262.0  \n",
       "2999994             3         2061.0  \n",
       "2999996             1          102.0  \n",
       "2999997             0           27.0  \n",
       "2999998            11           46.0  "
      ]
     },
     "execution_count": 26,
     "metadata": {},
     "output_type": "execute_result"
    }
   ],
   "source": [
    "df_rating.tail()"
   ]
  },
  {
   "cell_type": "markdown",
   "metadata": {
    "id": "E9ekjkJiai-a"
   },
   "source": [
    "### 2.3. Merge the dataframes into a single dataframe :  df_book_reviews"
   ]
  },
  {
   "cell_type": "markdown",
   "metadata": {
    "id": "g5vbh7Epai-a"
   },
   "source": [
    "#### 2.3.1. check shape"
   ]
  },
  {
   "cell_type": "code",
   "execution_count": 27,
   "metadata": {
    "colab": {
     "base_uri": "https://localhost:8080/"
    },
    "executionInfo": {
     "elapsed": 1830,
     "status": "ok",
     "timestamp": 1669675795288,
     "user": {
      "displayName": "Zufeshan Imran",
      "userId": "01352305454183338312"
     },
     "user_tz": 480
    },
    "id": "zVl5wb0xai-a",
    "outputId": "f596296d-a685-45ed-b01f-3790b3b7d86a"
   },
   "outputs": [
    {
     "data": {
      "text/plain": [
       "(2048589, 18)"
      ]
     },
     "execution_count": 27,
     "metadata": {},
     "output_type": "execute_result"
    }
   ],
   "source": [
    "df_book_reviews = df_book_data.merge(df_rating,how='inner',on='Title')\n",
    "df_book_reviews.shape"
   ]
  },
  {
   "cell_type": "markdown",
   "metadata": {
    "id": "_7-w6YFIai-b"
   },
   "source": [
    "#### 2.3.2. remove duplicates if any"
   ]
  },
  {
   "cell_type": "code",
   "execution_count": 66,
   "metadata": {
    "colab": {
     "base_uri": "https://localhost:8080/"
    },
    "executionInfo": {
     "elapsed": 5781,
     "status": "ok",
     "timestamp": 1669681245392,
     "user": {
      "displayName": "Zufeshan Imran",
      "userId": "01352305454183338312"
     },
     "user_tz": 480
    },
    "id": "KouF95SOai-b",
    "outputId": "df457d8e-6985-49c4-d761-5b24ec5630a6"
   },
   "outputs": [
    {
     "data": {
      "text/plain": [
       "0"
      ]
     },
     "execution_count": 66,
     "metadata": {},
     "output_type": "execute_result"
    }
   ],
   "source": [
    "len(df_book_reviews[df_book_reviews.duplicated()])"
   ]
  },
  {
   "cell_type": "code",
   "execution_count": 67,
   "metadata": {
    "colab": {
     "base_uri": "https://localhost:8080/"
    },
    "executionInfo": {
     "elapsed": 5674,
     "status": "ok",
     "timestamp": 1669681255403,
     "user": {
      "displayName": "Zufeshan Imran",
      "userId": "01352305454183338312"
     },
     "user_tz": 480
    },
    "id": "Qj8lRh9rai-b",
    "outputId": "295b54db-2660-4554-bd2a-bb5b71267de5"
   },
   "outputs": [
    {
     "data": {
      "text/plain": [
       "(2048589, 18)"
      ]
     },
     "execution_count": 67,
     "metadata": {},
     "output_type": "execute_result"
    }
   ],
   "source": [
    "df_book_reviews.drop_duplicates(keep='first',inplace=True)\n",
    "df_book_reviews.shape"
   ]
  },
  {
   "cell_type": "markdown",
   "metadata": {
    "id": "9Gma91suai-b"
   },
   "source": [
    "#### 2.3.3. Visualization of NaN distribution"
   ]
  },
  {
   "cell_type": "code",
   "execution_count": 68,
   "metadata": {
    "colab": {
     "base_uri": "https://localhost:8080/"
    },
    "executionInfo": {
     "elapsed": 1900,
     "status": "ok",
     "timestamp": 1669681260362,
     "user": {
      "displayName": "Zufeshan Imran",
      "userId": "01352305454183338312"
     },
     "user_tz": 480
    },
    "id": "eZXphWwJai-b",
    "outputId": "093d8096-7423-4c94-d468-cef33bc102e1"
   },
   "outputs": [
    {
     "data": {
      "text/plain": [
       "Title                   0\n",
       "description        172671\n",
       "authors             34349\n",
       "publisher          259924\n",
       "publishedDate        2544\n",
       "categories              0\n",
       "ratingsCount            0\n",
       "desp/length             0\n",
       "Id                      0\n",
       "User_id                 0\n",
       "profileName            90\n",
       "review/score            0\n",
       "review/time             0\n",
       "review/summary         26\n",
       "review/text             1\n",
       "reviews_helpful         0\n",
       "total reviews           0\n",
       "review/length           1\n",
       "dtype: int64"
      ]
     },
     "execution_count": 68,
     "metadata": {},
     "output_type": "execute_result"
    }
   ],
   "source": [
    "pd.isna(df_book_reviews).sum()"
   ]
  },
  {
   "cell_type": "code",
   "execution_count": null,
   "metadata": {
    "colab": {
     "base_uri": "https://localhost:8080/",
     "height": 460
    },
    "executionInfo": {
     "elapsed": 6841,
     "status": "ok",
     "timestamp": 1669621630625,
     "user": {
      "displayName": "Zufeshan Imran",
      "userId": "01352305454183338312"
     },
     "user_tz": 480
    },
    "id": "DvaKBYVuai-b",
    "outputId": "a8c091a2-cb43-460a-bb6e-e67b1d918863"
   },
   "outputs": [
    {
     "data": {
      "image/png": "[encoded data removed]",
      "text/plain": [
       "<Figure size 576x432 with 2 Axes>"
      ]
     },
     "metadata": {
      "needs_background": "light"
     },
     "output_type": "display_data"
    }
   ],
   "source": [
    "msno.matrix(df_book_reviews,figsize=(8,6),fontsize=10,color=(0.5,0.25,0.25))\n",
    "plt.title('NaN distribution across features')\n",
    "plt.xlabel('Features')\n",
    "plt.show()"
   ]
  },
  {
   "cell_type": "markdown",
   "metadata": {
    "id": "_oBxRN6Oai-b"
   },
   "source": [
    "### 2.4. Visualizations of trends & patterns using matplotlib and seaborn libraries"
   ]
  },
  {
   "cell_type": "markdown",
   "metadata": {
    "id": "XCxC8Xg0ai-c"
   },
   "source": [
    "#### 2.4.1. Distribution of numeric features using <b>Histogram</b> across subplots"
   ]
  },
  {
   "cell_type": "code",
   "execution_count": 69,
   "metadata": {
    "executionInfo": {
     "elapsed": 4317,
     "status": "ok",
     "timestamp": 1669681278955,
     "user": {
      "displayName": "Zufeshan Imran",
      "userId": "01352305454183338312"
     },
     "user_tz": 480
    },
    "id": "qVfmuOSMai-c"
   },
   "outputs": [],
   "source": [
    "#converting some columns into numeric datatype\n",
    "df_book_reviews['reviews_helpful'] = pd.to_numeric(df_book_reviews['reviews_helpful'])\n",
    "df_book_reviews['total reviews'] = pd.to_numeric(df_book_reviews['total reviews'])"
   ]
  },
  {
   "cell_type": "code",
   "execution_count": null,
   "metadata": {
    "colab": {
     "base_uri": "https://localhost:8080/",
     "height": 512
    },
    "executionInfo": {
     "elapsed": 580929,
     "status": "ok",
     "timestamp": 1669632204649,
     "user": {
      "displayName": "Zufeshan Imran",
      "userId": "01352305454183338312"
     },
     "user_tz": 480
    },
    "id": "hmkhSJbMai-c",
    "outputId": "79652ef5-8cbb-44ab-907f-d3c9bdcf2292"
   },
   "outputs": [
    {
     "data": {
      "image/png": "[encoded data removed]",
      "text/plain": [
       "<Figure size 864x504 with 6 Axes>"
      ]
     },
     "metadata": {},
     "output_type": "display_data"
    }
   ],
   "source": [
    "sns.set(style=\"darkgrid\")\n",
    "fig, axs = plt.subplots(2, 3, figsize=(12, 7))\n",
    "plt.suptitle('Histogram of value distribution')\n",
    "sns.histplot(data=df_book_reviews, x=\"total reviews\", kde=True, color=\"C0\", ax=axs[0, 0])\n",
    "sns.histplot(data=df_book_reviews, x=\"reviews_helpful\", kde=True, color=\"blue\", ax=axs[0, 1])\n",
    "sns.histplot(data=df_book_reviews, x=\"ratingsCount\", kde=True, color=\"olive\", ax=axs[0, 2])\n",
    "sns.histplot(data=df_book_reviews, x=\"review/length\", kde=True, color=\"gold\", ax=axs[1, 0])\n",
    "sns.histplot(data=df_book_reviews, x=\"desp/length\", kde=True, color=\"teal\", ax=axs[1, 1])\n",
    "sns.histplot(data=df_book_reviews, x=\"review/score\", kde=True, color=\"orange\", ax=axs[1, 2])\n",
    "\n",
    "plt.tight_layout()\n",
    "plt.show()"
   ]
  },
  {
   "cell_type": "markdown",
   "metadata": {
    "id": "tqedooAsai-c"
   },
   "source": [
    "#### 2.4.2. Distribution of review scores using <b>Pie Charts</b>"
   ]
  },
  {
   "cell_type": "code",
   "execution_count": 92,
   "metadata": {
    "colab": {
     "base_uri": "https://localhost:8080/"
    },
    "executionInfo": {
     "elapsed": 181,
     "status": "ok",
     "timestamp": 1669681643143,
     "user": {
      "displayName": "Zufeshan Imran",
      "userId": "01352305454183338312"
     },
     "user_tz": 480
    },
    "id": "2Ej5NXPRai-c",
    "outputId": "63254741-4aef-4aa3-c120-3dc10a295dec"
   },
   "outputs": [
    {
     "data": {
      "text/plain": [
       "2.0    1\n",
       "3.0    4\n",
       "4.0    1\n",
       "5.0    7\n",
       "Name: review/score, dtype: int64"
      ]
     },
     "execution_count": 92,
     "metadata": {},
     "output_type": "execute_result"
    }
   ],
   "source": [
    "rvw_top_book = df_book_reviews[df_book_reviews['Title']=='the alchemist']['review/score']\n",
    "rvw_top_book.value_counts().sort_index()"
   ]
  },
  {
   "cell_type": "code",
   "execution_count": 93,
   "metadata": {
    "colab": {
     "base_uri": "https://localhost:8080/",
     "height": 729
    },
    "executionInfo": {
     "elapsed": 418,
     "status": "ok",
     "timestamp": 1669681644958,
     "user": {
      "displayName": "Zufeshan Imran",
      "userId": "01352305454183338312"
     },
     "user_tz": 480
    },
    "id": "Jl3h-PxEai-c",
    "outputId": "6307b0e1-26d3-4892-e1fd-52854b92f7a1"
   },
   "outputs": [
    {
     "data": {
      "image/png": "[encoded data removed]",
      "text/plain": [
       "<Figure size 864x720 with 2 Axes>"
      ]
     },
     "metadata": {},
     "output_type": "display_data"
    }
   ],
   "source": [
    "fig,axs=plt.subplots(1,2,figsize=(12,10))\n",
    "label1 = np.sort(df_book_reviews['review/score'].unique())\n",
    "label2 = [2.0,3.0,4.0,5.0]\n",
    "size1 = df_book_reviews['review/score'].value_counts()/len(df_book_reviews['review/score'])*100\n",
    "size2 = rvw_top_book.value_counts()/rvw_top_book.count()*100\n",
    "axs[0].pie(size1.sort_index(),startangle=90,autopct='%1.0f%%',explode=(0.1,0,0,0,0),wedgeprops=dict(width=0.6))\n",
    "axs[1].pie(size2.sort_index(),startangle=90,autopct='%1.0f%%',explode=(0.1,0,0,0),wedgeprops=dict(width=0.6))\n",
    "axs[0].set_title('Review/score distribution for all books',fontsize=15)\n",
    "axs[1].set_title('Review/score distribution for most rated book:\\n The Alchemist',fontsize=15)\n",
    "axs[0].legend(label1,title=\"Review/score\",loc=\"upper center\")\n",
    "axs[1].legend(label2,title=\"Review/score: the alchemist\",loc=\"upper center\")\n",
    "\n",
    "# Equal aspect ratio ensures that pie is drawn as a circle.\n",
    "axs[0].axis('equal')\n",
    "axs[1].axis('equal')\n",
    "plt.tight_layout()\n",
    "plt.show()\n"
   ]
  },
  {
   "cell_type": "code",
   "execution_count": null,
   "metadata": {
    "id": "RuaFA7Hiai-c"
   },
   "outputs": [],
   "source": [
    "# From these pie charts , we can visualize that almost 60% of the review/score for all books is a perfect score of 5.0 \n",
    "# As assumed , for the book with highest no. of ratings, majority score is 5.0\n",
    "# This leaves us with a consensus that >50% of the books have a good average review/score of 4.0-5.0 "
   ]
  },
  {
   "cell_type": "markdown",
   "metadata": {
    "id": "w0rpbDquai-d"
   },
   "source": [
    "#### 2.4.3. Distribution of review comments/texts using a <b>Time Series</b> trend analysis"
   ]
  },
  {
   "cell_type": "code",
   "execution_count": 94,
   "metadata": {
    "colab": {
     "base_uri": "https://localhost:8080/",
     "height": 287
    },
    "executionInfo": {
     "elapsed": 12812,
     "status": "ok",
     "timestamp": 1669681664832,
     "user": {
      "displayName": "Zufeshan Imran",
      "userId": "01352305454183338312"
     },
     "user_tz": 480
    },
    "id": "iySr8-3Eai-d",
    "outputId": "f110b8c6-bd1e-41f2-98df-2c6f1a81998b"
   },
   "outputs": [
    {
     "data": {
      "image/png": "[encoded data removed]",
      "text/plain": [
       "<Figure size 432x288 with 1 Axes>"
      ]
     },
     "metadata": {
      "needs_background": "light"
     },
     "output_type": "display_data"
    }
   ],
   "source": [
    "# Plot a time-series using review/time as index\n",
    "df_book_series = df_book_reviews[['review/time','review/length']].set_index('review/time')\n",
    "\n",
    "# creating plot\n",
    "df_book_series.plot()\n",
    "plt.title('Time Series of length of review text over the years',fontsize=15)\n",
    "plt.xlabel('Review/time in Years')\n",
    "plt.ylabel('No. of words')\n",
    "plt.show()\n"
   ]
  },
  {
   "cell_type": "code",
   "execution_count": null,
   "metadata": {
    "id": "7e56PR_Eai-d"
   },
   "outputs": [],
   "source": [
    "# A time series analysis of review length shows that users are writing lengthy reviews post 2010 . A descriptive review can help users \n",
    "# determine whether they want to buy the book or not.\n",
    "# it also helps to decide on the review/score."
   ]
  },
  {
   "cell_type": "markdown",
   "metadata": {
    "id": "IvpUe3slai-d"
   },
   "source": [
    "## Step 3:  Identify 1-3 research questions and perform analysis\n",
    "\n",
    "Research questions :<br><b>1. What variables impact the review/score of a book?</b><br><b>2. Could we read the sentiments hidden in review summaries and map them with assigned review/scores?</b><br> If we can determine this , we could replace categories of books which have less scores with genres of books that users actually want to read and find appealing. This process will involve finding out strength of relationships between feautures, using visual graphs to analyze different relations and patterns and finally , performing a simple sentiment analysis of the review comments to check if they affect the review/score in any way"
   ]
  },
  {
   "cell_type": "markdown",
   "metadata": {
    "id": "565o6sMDk4QO"
   },
   "source": [
    "#### 3.1.Find Top 10 books - Dual axis graph of ratingsCount vs no.of different users reviewing vs length of description"
   ]
  },
  {
   "cell_type": "code",
   "execution_count": 70,
   "metadata": {
    "colab": {
     "base_uri": "https://localhost:8080/",
     "height": 363
    },
    "executionInfo": {
     "elapsed": 678,
     "status": "ok",
     "timestamp": 1669681299222,
     "user": {
      "displayName": "Zufeshan Imran",
      "userId": "01352305454183338312"
     },
     "user_tz": 480
    },
    "id": "xqwlfZNQai-d",
    "outputId": "205ad049-172c-4d16-bd66-27844a4637a9"
   },
   "outputs": [
    {
     "data": {
      "text/html": [
       "\n",
       "  <div id=\"df-1520a7ec-ffe2-4cb9-bb7b-ad5d42407905\">\n",
       "    <div class=\"colab-df-container\">\n",
       "      <div>\n",
       "<style scoped>\n",
       "    .dataframe tbody tr th:only-of-type {\n",
       "        vertical-align: middle;\n",
       "    }\n",
       "\n",
       "    .dataframe tbody tr th {\n",
       "        vertical-align: top;\n",
       "    }\n",
       "\n",
       "    .dataframe thead th {\n",
       "        text-align: right;\n",
       "    }\n",
       "</style>\n",
       "<table border=\"1\" class=\"dataframe\">\n",
       "  <thead>\n",
       "    <tr style=\"text-align: right;\">\n",
       "      <th></th>\n",
       "      <th>Title</th>\n",
       "      <th>ratingsCount</th>\n",
       "      <th>desp/length</th>\n",
       "    </tr>\n",
       "  </thead>\n",
       "  <tbody>\n",
       "    <tr>\n",
       "      <th>847106</th>\n",
       "      <td>a mission to millions; the story of ernie alle...</td>\n",
       "      <td>4572.0</td>\n",
       "      <td>477.0</td>\n",
       "    </tr>\n",
       "    <tr>\n",
       "      <th>1260829</th>\n",
       "      <td>a walk in the woods</td>\n",
       "      <td>4234.0</td>\n",
       "      <td>17.0</td>\n",
       "    </tr>\n",
       "    <tr>\n",
       "      <th>1400888</th>\n",
       "      <td>blue like jazz: nonreligious thoughts on chris...</td>\n",
       "      <td>4562.0</td>\n",
       "      <td>32.0</td>\n",
       "    </tr>\n",
       "    <tr>\n",
       "      <th>799287</th>\n",
       "      <td>eclipse</td>\n",
       "      <td>4392.0</td>\n",
       "      <td>185.0</td>\n",
       "    </tr>\n",
       "    <tr>\n",
       "      <th>494580</th>\n",
       "      <td>henrietta</td>\n",
       "      <td>4067.0</td>\n",
       "      <td>427.0</td>\n",
       "    </tr>\n",
       "    <tr>\n",
       "      <th>1393039</th>\n",
       "      <td>redeeming love</td>\n",
       "      <td>4249.0</td>\n",
       "      <td>238.0</td>\n",
       "    </tr>\n",
       "    <tr>\n",
       "      <th>403535</th>\n",
       "      <td>the alchemist</td>\n",
       "      <td>4895.0</td>\n",
       "      <td>219.0</td>\n",
       "    </tr>\n",
       "    <tr>\n",
       "      <th>1694674</th>\n",
       "      <td>the tipping point: how little things can make ...</td>\n",
       "      <td>4218.0</td>\n",
       "      <td>31.0</td>\n",
       "    </tr>\n",
       "    <tr>\n",
       "      <th>1670092</th>\n",
       "      <td>travel light, eat heavy along the appalachian ...</td>\n",
       "      <td>4161.0</td>\n",
       "      <td>126.0</td>\n",
       "    </tr>\n",
       "    <tr>\n",
       "      <th>970654</th>\n",
       "      <td>unbroken</td>\n",
       "      <td>4572.0</td>\n",
       "      <td>477.0</td>\n",
       "    </tr>\n",
       "  </tbody>\n",
       "</table>\n",
       "</div>\n",
       "      <button class=\"colab-df-convert\" onclick=\"convertToInteractive('df-1520a7ec-ffe2-4cb9-bb7b-ad5d42407905')\"\n",
       "              title=\"Convert this dataframe to an interactive table.\"\n",
       "              style=\"display:none;\">\n",
       "        \n",
       "  <svg xmlns=\"http://www.w3.org/2000/svg\" height=\"24px\"viewBox=\"0 0 24 24\"\n",
       "       width=\"24px\">\n",
       "    <path d=\"M0 0h24v24H0V0z\" fill=\"none\"/>\n",
       "    <path d=\"M18.56 5.44l.94 2.06.94-2.06 2.06-.94-2.06-.94-.94-2.06-.94 2.06-2.06.94zm-11 1L8.5 8.5l.94-2.06 2.06-.94-2.06-.94L8.5 2.5l-.94 2.06-2.06.94zm10 10l.94 2.06.94-2.06 2.06-.94-2.06-.94-.94-2.06-.94 2.06-2.06.94z\"/><path d=\"M17.41 7.96l-1.37-1.37c-.4-.4-.92-.59-1.43-.59-.52 0-1.04.2-1.43.59L10.3 9.45l-7.72 7.72c-.78.78-.78 2.05 0 2.83L4 21.41c.39.39.9.59 1.41.59.51 0 1.02-.2 1.41-.59l7.78-7.78 2.81-2.81c.8-.78.8-2.07 0-2.86zM5.41 20L4 18.59l7.72-7.72 1.47 1.35L5.41 20z\"/>\n",
       "  </svg>\n",
       "      </button>\n",
       "      \n",
       "  <style>\n",
       "    .colab-df-container {\n",
       "      display:flex;\n",
       "      flex-wrap:wrap;\n",
       "      gap: 12px;\n",
       "    }\n",
       "\n",
       "    .colab-df-convert {\n",
       "      background-color: #E8F0FE;\n",
       "      border: none;\n",
       "      border-radius: 50%;\n",
       "      cursor: pointer;\n",
       "      display: none;\n",
       "      fill: #1967D2;\n",
       "      height: 32px;\n",
       "      padding: 0 0 0 0;\n",
       "      width: 32px;\n",
       "    }\n",
       "\n",
       "    .colab-df-convert:hover {\n",
       "      background-color: #E2EBFA;\n",
       "      box-shadow: 0px 1px 2px rgba(60, 64, 67, 0.3), 0px 1px 3px 1px rgba(60, 64, 67, 0.15);\n",
       "      fill: #174EA6;\n",
       "    }\n",
       "\n",
       "    [theme=dark] .colab-df-convert {\n",
       "      background-color: #3B4455;\n",
       "      fill: #D2E3FC;\n",
       "    }\n",
       "\n",
       "    [theme=dark] .colab-df-convert:hover {\n",
       "      background-color: #434B5C;\n",
       "      box-shadow: 0px 1px 3px 1px rgba(0, 0, 0, 0.15);\n",
       "      filter: drop-shadow(0px 1px 2px rgba(0, 0, 0, 0.3));\n",
       "      fill: #FFFFFF;\n",
       "    }\n",
       "  </style>\n",
       "\n",
       "      <script>\n",
       "        const buttonEl =\n",
       "          document.querySelector('#df-1520a7ec-ffe2-4cb9-bb7b-ad5d42407905 button.colab-df-convert');\n",
       "        buttonEl.style.display =\n",
       "          google.colab.kernel.accessAllowed ? 'block' : 'none';\n",
       "\n",
       "        async function convertToInteractive(key) {\n",
       "          const element = document.querySelector('#df-1520a7ec-ffe2-4cb9-bb7b-ad5d42407905');\n",
       "          const dataTable =\n",
       "            await google.colab.kernel.invokeFunction('convertToInteractive',\n",
       "                                                     [key], {});\n",
       "          if (!dataTable) return;\n",
       "\n",
       "          const docLinkHtml = 'Like what you see? Visit the ' +\n",
       "            '<a target=\"_blank\" href=https://colab.research.google.com/notebooks/data_table.ipynb>data table notebook</a>'\n",
       "            + ' to learn more about interactive tables.';\n",
       "          element.innerHTML = '';\n",
       "          dataTable['output_type'] = 'display_data';\n",
       "          await google.colab.output.renderOutput(dataTable, element);\n",
       "          const docLink = document.createElement('div');\n",
       "          docLink.innerHTML = docLinkHtml;\n",
       "          element.appendChild(docLink);\n",
       "        }\n",
       "      </script>\n",
       "    </div>\n",
       "  </div>\n",
       "  "
      ],
      "text/plain": [
       "                                                     Title  ratingsCount  \\\n",
       "847106   a mission to millions; the story of ernie alle...        4572.0   \n",
       "1260829                                a walk in the woods        4234.0   \n",
       "1400888  blue like jazz: nonreligious thoughts on chris...        4562.0   \n",
       "799287                                             eclipse        4392.0   \n",
       "494580                                           henrietta        4067.0   \n",
       "1393039                                     redeeming love        4249.0   \n",
       "403535                                       the alchemist        4895.0   \n",
       "1694674  the tipping point: how little things can make ...        4218.0   \n",
       "1670092  travel light, eat heavy along the appalachian ...        4161.0   \n",
       "970654                                            unbroken        4572.0   \n",
       "\n",
       "         desp/length  \n",
       "847106         477.0  \n",
       "1260829         17.0  \n",
       "1400888         32.0  \n",
       "799287         185.0  \n",
       "494580         427.0  \n",
       "1393039        238.0  \n",
       "403535         219.0  \n",
       "1694674         31.0  \n",
       "1670092        126.0  \n",
       "970654         477.0  "
      ]
     },
     "execution_count": 70,
     "metadata": {},
     "output_type": "execute_result"
    }
   ],
   "source": [
    "books_by_ratings = df_book_reviews[['Title','ratingsCount','desp/length']].sort_values('ratingsCount',ascending=False)\n",
    "books_by_ratings.drop_duplicates(keep='first',inplace=True)\n",
    "books_by_ratings = books_by_ratings.head(10).sort_values('Title')\n",
    "books_by_ratings"
   ]
  },
  {
   "cell_type": "code",
   "execution_count": 71,
   "metadata": {
    "colab": {
     "base_uri": "https://localhost:8080/",
     "height": 363
    },
    "executionInfo": {
     "elapsed": 875,
     "status": "ok",
     "timestamp": 1669681302855,
     "user": {
      "displayName": "Zufeshan Imran",
      "userId": "01352305454183338312"
     },
     "user_tz": 480
    },
    "id": "-wmarNhwai-d",
    "outputId": "5123b78f-1135-45fe-d26d-089f84baedaa"
   },
   "outputs": [
    {
     "data": {
      "text/html": [
       "\n",
       "  <div id=\"df-1bac6b72-6812-4459-887d-6ffbdc5faf2c\">\n",
       "    <div class=\"colab-df-container\">\n",
       "      <div>\n",
       "<style scoped>\n",
       "    .dataframe tbody tr th:only-of-type {\n",
       "        vertical-align: middle;\n",
       "    }\n",
       "\n",
       "    .dataframe tbody tr th {\n",
       "        vertical-align: top;\n",
       "    }\n",
       "\n",
       "    .dataframe thead th {\n",
       "        text-align: right;\n",
       "    }\n",
       "</style>\n",
       "<table border=\"1\" class=\"dataframe\">\n",
       "  <thead>\n",
       "    <tr style=\"text-align: right;\">\n",
       "      <th></th>\n",
       "      <th>Title</th>\n",
       "      <th>User_id</th>\n",
       "    </tr>\n",
       "  </thead>\n",
       "  <tbody>\n",
       "    <tr>\n",
       "      <th>4113</th>\n",
       "      <td>a mission to millions; the story of ernie alle...</td>\n",
       "      <td>1</td>\n",
       "    </tr>\n",
       "    <tr>\n",
       "      <th>5962</th>\n",
       "      <td>a walk in the woods</td>\n",
       "      <td>3</td>\n",
       "    </tr>\n",
       "    <tr>\n",
       "      <th>19199</th>\n",
       "      <td>blue like jazz: nonreligious thoughts on chris...</td>\n",
       "      <td>617</td>\n",
       "    </tr>\n",
       "    <tr>\n",
       "      <th>38759</th>\n",
       "      <td>eclipse</td>\n",
       "      <td>30</td>\n",
       "    </tr>\n",
       "    <tr>\n",
       "      <th>56012</th>\n",
       "      <td>henrietta</td>\n",
       "      <td>2</td>\n",
       "    </tr>\n",
       "    <tr>\n",
       "      <th>100337</th>\n",
       "      <td>redeeming love</td>\n",
       "      <td>1211</td>\n",
       "    </tr>\n",
       "    <tr>\n",
       "      <th>117902</th>\n",
       "      <td>the alchemist</td>\n",
       "      <td>13</td>\n",
       "    </tr>\n",
       "    <tr>\n",
       "      <th>146233</th>\n",
       "      <td>the tipping point: how little things can make ...</td>\n",
       "      <td>1295</td>\n",
       "    </tr>\n",
       "    <tr>\n",
       "      <th>152896</th>\n",
       "      <td>travel light, eat heavy along the appalachian ...</td>\n",
       "      <td>4</td>\n",
       "    </tr>\n",
       "    <tr>\n",
       "      <th>154504</th>\n",
       "      <td>unbroken</td>\n",
       "      <td>3</td>\n",
       "    </tr>\n",
       "  </tbody>\n",
       "</table>\n",
       "</div>\n",
       "      <button class=\"colab-df-convert\" onclick=\"convertToInteractive('df-1bac6b72-6812-4459-887d-6ffbdc5faf2c')\"\n",
       "              title=\"Convert this dataframe to an interactive table.\"\n",
       "              style=\"display:none;\">\n",
       "        \n",
       "  <svg xmlns=\"http://www.w3.org/2000/svg\" height=\"24px\"viewBox=\"0 0 24 24\"\n",
       "       width=\"24px\">\n",
       "    <path d=\"M0 0h24v24H0V0z\" fill=\"none\"/>\n",
       "    <path d=\"M18.56 5.44l.94 2.06.94-2.06 2.06-.94-2.06-.94-.94-2.06-.94 2.06-2.06.94zm-11 1L8.5 8.5l.94-2.06 2.06-.94-2.06-.94L8.5 2.5l-.94 2.06-2.06.94zm10 10l.94 2.06.94-2.06 2.06-.94-2.06-.94-.94-2.06-.94 2.06-2.06.94z\"/><path d=\"M17.41 7.96l-1.37-1.37c-.4-.4-.92-.59-1.43-.59-.52 0-1.04.2-1.43.59L10.3 9.45l-7.72 7.72c-.78.78-.78 2.05 0 2.83L4 21.41c.39.39.9.59 1.41.59.51 0 1.02-.2 1.41-.59l7.78-7.78 2.81-2.81c.8-.78.8-2.07 0-2.86zM5.41 20L4 18.59l7.72-7.72 1.47 1.35L5.41 20z\"/>\n",
       "  </svg>\n",
       "      </button>\n",
       "      \n",
       "  <style>\n",
       "    .colab-df-container {\n",
       "      display:flex;\n",
       "      flex-wrap:wrap;\n",
       "      gap: 12px;\n",
       "    }\n",
       "\n",
       "    .colab-df-convert {\n",
       "      background-color: #E8F0FE;\n",
       "      border: none;\n",
       "      border-radius: 50%;\n",
       "      cursor: pointer;\n",
       "      display: none;\n",
       "      fill: #1967D2;\n",
       "      height: 32px;\n",
       "      padding: 0 0 0 0;\n",
       "      width: 32px;\n",
       "    }\n",
       "\n",
       "    .colab-df-convert:hover {\n",
       "      background-color: #E2EBFA;\n",
       "      box-shadow: 0px 1px 2px rgba(60, 64, 67, 0.3), 0px 1px 3px 1px rgba(60, 64, 67, 0.15);\n",
       "      fill: #174EA6;\n",
       "    }\n",
       "\n",
       "    [theme=dark] .colab-df-convert {\n",
       "      background-color: #3B4455;\n",
       "      fill: #D2E3FC;\n",
       "    }\n",
       "\n",
       "    [theme=dark] .colab-df-convert:hover {\n",
       "      background-color: #434B5C;\n",
       "      box-shadow: 0px 1px 3px 1px rgba(0, 0, 0, 0.15);\n",
       "      filter: drop-shadow(0px 1px 2px rgba(0, 0, 0, 0.3));\n",
       "      fill: #FFFFFF;\n",
       "    }\n",
       "  </style>\n",
       "\n",
       "      <script>\n",
       "        const buttonEl =\n",
       "          document.querySelector('#df-1bac6b72-6812-4459-887d-6ffbdc5faf2c button.colab-df-convert');\n",
       "        buttonEl.style.display =\n",
       "          google.colab.kernel.accessAllowed ? 'block' : 'none';\n",
       "\n",
       "        async function convertToInteractive(key) {\n",
       "          const element = document.querySelector('#df-1bac6b72-6812-4459-887d-6ffbdc5faf2c');\n",
       "          const dataTable =\n",
       "            await google.colab.kernel.invokeFunction('convertToInteractive',\n",
       "                                                     [key], {});\n",
       "          if (!dataTable) return;\n",
       "\n",
       "          const docLinkHtml = 'Like what you see? Visit the ' +\n",
       "            '<a target=\"_blank\" href=https://colab.research.google.com/notebooks/data_table.ipynb>data table notebook</a>'\n",
       "            + ' to learn more about interactive tables.';\n",
       "          element.innerHTML = '';\n",
       "          dataTable['output_type'] = 'display_data';\n",
       "          await google.colab.output.renderOutput(dataTable, element);\n",
       "          const docLink = document.createElement('div');\n",
       "          docLink.innerHTML = docLinkHtml;\n",
       "          element.appendChild(docLink);\n",
       "        }\n",
       "      </script>\n",
       "    </div>\n",
       "  </div>\n",
       "  "
      ],
      "text/plain": [
       "                                                    Title  User_id\n",
       "4113    a mission to millions; the story of ernie alle...        1\n",
       "5962                                  a walk in the woods        3\n",
       "19199   blue like jazz: nonreligious thoughts on chris...      617\n",
       "38759                                             eclipse       30\n",
       "56012                                           henrietta        2\n",
       "100337                                     redeeming love     1211\n",
       "117902                                      the alchemist       13\n",
       "146233  the tipping point: how little things can make ...     1295\n",
       "152896  travel light, eat heavy along the appalachian ...        4\n",
       "154504                                           unbroken        3"
      ]
     },
     "execution_count": 71,
     "metadata": {},
     "output_type": "execute_result"
    }
   ],
   "source": [
    "books_by_users = df_book_reviews[['Title','User_id']].groupby('Title',as_index=False).count()\n",
    "books_by_users = books_by_users[books_by_users['Title'].isin(books_by_ratings['Title'].head(10))]\n",
    "books_by_users"
   ]
  },
  {
   "cell_type": "code",
   "execution_count": 72,
   "metadata": {
    "colab": {
     "base_uri": "https://localhost:8080/",
     "height": 778
    },
    "executionInfo": {
     "elapsed": 691,
     "status": "ok",
     "timestamp": 1669681308264,
     "user": {
      "displayName": "Zufeshan Imran",
      "userId": "01352305454183338312"
     },
     "user_tz": 480
    },
    "id": "sHxLB7HOai-e",
    "outputId": "b3e4b39b-3e31-46b6-95cc-329d362afddb"
   },
   "outputs": [
    {
     "data": {
      "image/png": "[encoded data removed]",
      "text/plain": [
       "<Figure size 864x720 with 1 Axes>"
      ]
     },
     "metadata": {
      "needs_background": "light"
     },
     "output_type": "display_data"
    }
   ],
   "source": [
    "fig,ax=plt.subplots(figsize=(12,10))\n",
    "ax.plot(books_by_ratings['Title'],books_by_users['User_id'],label='users count',color='red', marker='o', linewidth=3, markersize=12)\n",
    "ax.bar(books_by_ratings['Title'],books_by_ratings['ratingsCount'],width=0.3,color='olive',label='ratings count')\n",
    "ax.plot(books_by_ratings['Title'],books_by_ratings['desp/length'],label='len(description)',color='orange', marker='o', linewidth=3, markersize=10)\n",
    "\n",
    "ax.set_title('Dual axis graph : top 10 most rated books Vs No. of Users giving reviews \\nVs length of description of books ',fontsize=15)\n",
    "ax.set_xlabel('Title',fontsize=12)\n",
    "ax.set_ylabel('Count',fontsize=12)\n",
    "ax.set_xticks(range(10))\n",
    "ax.set_xticklabels(books_by_ratings['Title'].str[:30],rotation=90)\n",
    "plt.legend()\n",
    "plt.show()"
   ]
  },
  {
   "cell_type": "code",
   "execution_count": 63,
   "metadata": {
    "executionInfo": {
     "elapsed": 139,
     "status": "ok",
     "timestamp": 1669681161329,
     "user": {
      "displayName": "Zufeshan Imran",
      "userId": "01352305454183338312"
     },
     "user_tz": 480
    },
    "id": "APTBiRyIai-e"
   },
   "outputs": [],
   "source": [
    "# As is evident from the graph above, even the book with most no. of ratings 'The Alchemist' has very few users dedicatedly providing reviews\n",
    "# and even the length of description for this book is approx 200 words. \n",
    "# No standard relation found between these features to conclude that one may be affecting the other...."
   ]
  },
  {
   "cell_type": "markdown",
   "metadata": {
    "id": "LXVPLfmaai-e"
   },
   "source": [
    "#### 3.2. Perform correlation Analysis between ratingsCount,length of description,reviews_helpful,total reviews,review/length and review/score"
   ]
  },
  {
   "cell_type": "code",
   "execution_count": 73,
   "metadata": {
    "executionInfo": {
     "elapsed": 137,
     "status": "ok",
     "timestamp": 1669681325166,
     "user": {
      "displayName": "Zufeshan Imran",
      "userId": "01352305454183338312"
     },
     "user_tz": 480
    },
    "id": "ME88dKNwai-e"
   },
   "outputs": [],
   "source": [
    "# As a lot of values are missing , we will fill them with 0 for our analysis\n",
    "df_book_reviews['desp/length'].fillna(0,inplace=True)"
   ]
  },
  {
   "cell_type": "code",
   "execution_count": 74,
   "metadata": {
    "colab": {
     "base_uri": "https://localhost:8080/",
     "height": 405
    },
    "executionInfo": {
     "elapsed": 676,
     "status": "ok",
     "timestamp": 1669681327416,
     "user": {
      "displayName": "Zufeshan Imran",
      "userId": "01352305454183338312"
     },
     "user_tz": 480
    },
    "id": "64Z4LybJai-e",
    "outputId": "34fcb18d-d934-498e-85d7-fe8b8ea0c0d0"
   },
   "outputs": [
    {
     "data": {
      "image/png": "[encoded data removed]",
      "text/plain": [
       "<Figure size 720x432 with 2 Axes>"
      ]
     },
     "metadata": {
      "needs_background": "light"
     },
     "output_type": "display_data"
    }
   ],
   "source": [
    "corr_data = df_book_reviews[['ratingsCount','desp/length','reviews_helpful','total reviews','review/length','review/score']].corr()\n",
    "fig,ax=plt.subplots(figsize=(10,6))\n",
    "ax = sns.heatmap(corr_data,annot=True,linewidths=0.2,cmap='crest')\n",
    "ax.set(xlabel='Features',ylabel='Features',title='Heatmap showing correlation among features')\n",
    "plt.show()\n"
   ]
  },
  {
   "cell_type": "code",
   "execution_count": null,
   "metadata": {
    "id": "zXlmA0cqai-e"
   },
   "outputs": [],
   "source": [
    "# strong positive correlation between total reviews and reviews_helpful indicates that more the no. of reviews , more reviews out of them could be counted as helpful\n",
    "# average positive correlation between reviews_helpful and review/length indicates that more the length of review/text , more helpful users find the review\n",
    "# average negative correlation between review/score and review/length indicates that more elaborate the review is , it is easier to provide score to it(even less scores count)"
   ]
  },
  {
   "cell_type": "markdown",
   "metadata": {
    "id": "86LRGIvyai-e"
   },
   "source": [
    "#### 3.3. Lineplot to visualize review score & length of description for least scored categories of books"
   ]
  },
  {
   "cell_type": "code",
   "execution_count": 95,
   "metadata": {
    "colab": {
     "base_uri": "https://localhost:8080/",
     "height": 676
    },
    "executionInfo": {
     "elapsed": 684,
     "status": "ok",
     "timestamp": 1669681682463,
     "user": {
      "displayName": "Zufeshan Imran",
      "userId": "01352305454183338312"
     },
     "user_tz": 480
    },
    "id": "DDRpXpd5ai-f",
    "outputId": "21daa27e-2bfa-4b71-b9c7-07b1e26ed0f2"
   },
   "outputs": [
    {
     "data": {
      "text/html": [
       "\n",
       "  <div id=\"df-0ecf6ff6-7755-4a8a-ada3-bab575684e81\">\n",
       "    <div class=\"colab-df-container\">\n",
       "      <div>\n",
       "<style scoped>\n",
       "    .dataframe tbody tr th:only-of-type {\n",
       "        vertical-align: middle;\n",
       "    }\n",
       "\n",
       "    .dataframe tbody tr th {\n",
       "        vertical-align: top;\n",
       "    }\n",
       "\n",
       "    .dataframe thead th {\n",
       "        text-align: right;\n",
       "    }\n",
       "</style>\n",
       "<table border=\"1\" class=\"dataframe\">\n",
       "  <thead>\n",
       "    <tr style=\"text-align: right;\">\n",
       "      <th></th>\n",
       "      <th>categories</th>\n",
       "      <th>review/score</th>\n",
       "      <th>reviews_helpful</th>\n",
       "      <th>review/length</th>\n",
       "      <th>desp/length</th>\n",
       "    </tr>\n",
       "  </thead>\n",
       "  <tbody>\n",
       "    <tr>\n",
       "      <th>4535</th>\n",
       "      <td>['Duty']</td>\n",
       "      <td>1.0</td>\n",
       "      <td>0.0</td>\n",
       "      <td>163.0</td>\n",
       "      <td>0.0</td>\n",
       "    </tr>\n",
       "    <tr>\n",
       "      <th>6588</th>\n",
       "      <td>['Indians of Mexico']</td>\n",
       "      <td>1.0</td>\n",
       "      <td>8.0</td>\n",
       "      <td>43.0</td>\n",
       "      <td>0.0</td>\n",
       "    </tr>\n",
       "    <tr>\n",
       "      <th>1021</th>\n",
       "      <td>['Architecture domestique']</td>\n",
       "      <td>1.0</td>\n",
       "      <td>3.0</td>\n",
       "      <td>89.0</td>\n",
       "      <td>0.0</td>\n",
       "    </tr>\n",
       "    <tr>\n",
       "      <th>9404</th>\n",
       "      <td>['Sami (European people)']</td>\n",
       "      <td>1.0</td>\n",
       "      <td>1.0</td>\n",
       "      <td>69.0</td>\n",
       "      <td>0.0</td>\n",
       "    </tr>\n",
       "    <tr>\n",
       "      <th>3586</th>\n",
       "      <td>['Consumers']</td>\n",
       "      <td>1.0</td>\n",
       "      <td>1.0</td>\n",
       "      <td>12.0</td>\n",
       "      <td>0.0</td>\n",
       "    </tr>\n",
       "    <tr>\n",
       "      <th>7465</th>\n",
       "      <td>['Manual training']</td>\n",
       "      <td>1.0</td>\n",
       "      <td>0.0</td>\n",
       "      <td>88.0</td>\n",
       "      <td>0.0</td>\n",
       "    </tr>\n",
       "    <tr>\n",
       "      <th>1308</th>\n",
       "      <td>['Atmospheric thermodynamics']</td>\n",
       "      <td>1.0</td>\n",
       "      <td>0.0</td>\n",
       "      <td>90.0</td>\n",
       "      <td>0.0</td>\n",
       "    </tr>\n",
       "    <tr>\n",
       "      <th>6833</th>\n",
       "      <td>['Ivory']</td>\n",
       "      <td>1.0</td>\n",
       "      <td>7.0</td>\n",
       "      <td>82.0</td>\n",
       "      <td>0.0</td>\n",
       "    </tr>\n",
       "    <tr>\n",
       "      <th>8462</th>\n",
       "      <td>['Painting, Australian']</td>\n",
       "      <td>1.0</td>\n",
       "      <td>0.0</td>\n",
       "      <td>27.0</td>\n",
       "      <td>0.0</td>\n",
       "    </tr>\n",
       "    <tr>\n",
       "      <th>9407</th>\n",
       "      <td>['Samogitia']</td>\n",
       "      <td>1.0</td>\n",
       "      <td>2.0</td>\n",
       "      <td>216.0</td>\n",
       "      <td>0.0</td>\n",
       "    </tr>\n",
       "    <tr>\n",
       "      <th>3614</th>\n",
       "      <td>['Convertible securities']</td>\n",
       "      <td>1.0</td>\n",
       "      <td>5.0</td>\n",
       "      <td>263.0</td>\n",
       "      <td>96.0</td>\n",
       "    </tr>\n",
       "    <tr>\n",
       "      <th>7976</th>\n",
       "      <td>['Mural painting and decoration']</td>\n",
       "      <td>1.0</td>\n",
       "      <td>0.0</td>\n",
       "      <td>27.0</td>\n",
       "      <td>2.0</td>\n",
       "    </tr>\n",
       "    <tr>\n",
       "      <th>7491</th>\n",
       "      <td>['Marine meteorology']</td>\n",
       "      <td>1.0</td>\n",
       "      <td>2.0</td>\n",
       "      <td>59.0</td>\n",
       "      <td>0.0</td>\n",
       "    </tr>\n",
       "    <tr>\n",
       "      <th>6587</th>\n",
       "      <td>['Indians of America']</td>\n",
       "      <td>1.0</td>\n",
       "      <td>0.0</td>\n",
       "      <td>52.0</td>\n",
       "      <td>0.0</td>\n",
       "    </tr>\n",
       "    <tr>\n",
       "      <th>9409</th>\n",
       "      <td>['Sampling (Statistics)']</td>\n",
       "      <td>1.0</td>\n",
       "      <td>1.0</td>\n",
       "      <td>84.0</td>\n",
       "      <td>0.0</td>\n",
       "    </tr>\n",
       "    <tr>\n",
       "      <th>458</th>\n",
       "      <td>['African gray parrot']</td>\n",
       "      <td>1.0</td>\n",
       "      <td>4.0</td>\n",
       "      <td>67.0</td>\n",
       "      <td>0.0</td>\n",
       "    </tr>\n",
       "    <tr>\n",
       "      <th>8891</th>\n",
       "      <td>['Priests']</td>\n",
       "      <td>1.0</td>\n",
       "      <td>0.0</td>\n",
       "      <td>263.0</td>\n",
       "      <td>0.0</td>\n",
       "    </tr>\n",
       "    <tr>\n",
       "      <th>7505</th>\n",
       "      <td>['Markets']</td>\n",
       "      <td>1.0</td>\n",
       "      <td>1.0</td>\n",
       "      <td>48.0</td>\n",
       "      <td>12.0</td>\n",
       "    </tr>\n",
       "    <tr>\n",
       "      <th>2261</th>\n",
       "      <td>['Buddhist logic']</td>\n",
       "      <td>1.0</td>\n",
       "      <td>0.0</td>\n",
       "      <td>1044.0</td>\n",
       "      <td>9.0</td>\n",
       "    </tr>\n",
       "    <tr>\n",
       "      <th>7954</th>\n",
       "      <td>['Mouth']</td>\n",
       "      <td>1.0</td>\n",
       "      <td>0.0</td>\n",
       "      <td>36.0</td>\n",
       "      <td>184.0</td>\n",
       "    </tr>\n",
       "  </tbody>\n",
       "</table>\n",
       "</div>\n",
       "      <button class=\"colab-df-convert\" onclick=\"convertToInteractive('df-0ecf6ff6-7755-4a8a-ada3-bab575684e81')\"\n",
       "              title=\"Convert this dataframe to an interactive table.\"\n",
       "              style=\"display:none;\">\n",
       "        \n",
       "  <svg xmlns=\"http://www.w3.org/2000/svg\" height=\"24px\"viewBox=\"0 0 24 24\"\n",
       "       width=\"24px\">\n",
       "    <path d=\"M0 0h24v24H0V0z\" fill=\"none\"/>\n",
       "    <path d=\"M18.56 5.44l.94 2.06.94-2.06 2.06-.94-2.06-.94-.94-2.06-.94 2.06-2.06.94zm-11 1L8.5 8.5l.94-2.06 2.06-.94-2.06-.94L8.5 2.5l-.94 2.06-2.06.94zm10 10l.94 2.06.94-2.06 2.06-.94-2.06-.94-.94-2.06-.94 2.06-2.06.94z\"/><path d=\"M17.41 7.96l-1.37-1.37c-.4-.4-.92-.59-1.43-.59-.52 0-1.04.2-1.43.59L10.3 9.45l-7.72 7.72c-.78.78-.78 2.05 0 2.83L4 21.41c.39.39.9.59 1.41.59.51 0 1.02-.2 1.41-.59l7.78-7.78 2.81-2.81c.8-.78.8-2.07 0-2.86zM5.41 20L4 18.59l7.72-7.72 1.47 1.35L5.41 20z\"/>\n",
       "  </svg>\n",
       "      </button>\n",
       "      \n",
       "  <style>\n",
       "    .colab-df-container {\n",
       "      display:flex;\n",
       "      flex-wrap:wrap;\n",
       "      gap: 12px;\n",
       "    }\n",
       "\n",
       "    .colab-df-convert {\n",
       "      background-color: #E8F0FE;\n",
       "      border: none;\n",
       "      border-radius: 50%;\n",
       "      cursor: pointer;\n",
       "      display: none;\n",
       "      fill: #1967D2;\n",
       "      height: 32px;\n",
       "      padding: 0 0 0 0;\n",
       "      width: 32px;\n",
       "    }\n",
       "\n",
       "    .colab-df-convert:hover {\n",
       "      background-color: #E2EBFA;\n",
       "      box-shadow: 0px 1px 2px rgba(60, 64, 67, 0.3), 0px 1px 3px 1px rgba(60, 64, 67, 0.15);\n",
       "      fill: #174EA6;\n",
       "    }\n",
       "\n",
       "    [theme=dark] .colab-df-convert {\n",
       "      background-color: #3B4455;\n",
       "      fill: #D2E3FC;\n",
       "    }\n",
       "\n",
       "    [theme=dark] .colab-df-convert:hover {\n",
       "      background-color: #434B5C;\n",
       "      box-shadow: 0px 1px 3px 1px rgba(0, 0, 0, 0.15);\n",
       "      filter: drop-shadow(0px 1px 2px rgba(0, 0, 0, 0.3));\n",
       "      fill: #FFFFFF;\n",
       "    }\n",
       "  </style>\n",
       "\n",
       "      <script>\n",
       "        const buttonEl =\n",
       "          document.querySelector('#df-0ecf6ff6-7755-4a8a-ada3-bab575684e81 button.colab-df-convert');\n",
       "        buttonEl.style.display =\n",
       "          google.colab.kernel.accessAllowed ? 'block' : 'none';\n",
       "\n",
       "        async function convertToInteractive(key) {\n",
       "          const element = document.querySelector('#df-0ecf6ff6-7755-4a8a-ada3-bab575684e81');\n",
       "          const dataTable =\n",
       "            await google.colab.kernel.invokeFunction('convertToInteractive',\n",
       "                                                     [key], {});\n",
       "          if (!dataTable) return;\n",
       "\n",
       "          const docLinkHtml = 'Like what you see? Visit the ' +\n",
       "            '<a target=\"_blank\" href=https://colab.research.google.com/notebooks/data_table.ipynb>data table notebook</a>'\n",
       "            + ' to learn more about interactive tables.';\n",
       "          element.innerHTML = '';\n",
       "          dataTable['output_type'] = 'display_data';\n",
       "          await google.colab.output.renderOutput(dataTable, element);\n",
       "          const docLink = document.createElement('div');\n",
       "          docLink.innerHTML = docLinkHtml;\n",
       "          element.appendChild(docLink);\n",
       "        }\n",
       "      </script>\n",
       "    </div>\n",
       "  </div>\n",
       "  "
      ],
      "text/plain": [
       "                             categories  review/score  reviews_helpful  \\\n",
       "4535                           ['Duty']           1.0              0.0   \n",
       "6588              ['Indians of Mexico']           1.0              8.0   \n",
       "1021        ['Architecture domestique']           1.0              3.0   \n",
       "9404         ['Sami (European people)']           1.0              1.0   \n",
       "3586                      ['Consumers']           1.0              1.0   \n",
       "7465                ['Manual training']           1.0              0.0   \n",
       "1308     ['Atmospheric thermodynamics']           1.0              0.0   \n",
       "6833                          ['Ivory']           1.0              7.0   \n",
       "8462           ['Painting, Australian']           1.0              0.0   \n",
       "9407                      ['Samogitia']           1.0              2.0   \n",
       "3614         ['Convertible securities']           1.0              5.0   \n",
       "7976  ['Mural painting and decoration']           1.0              0.0   \n",
       "7491             ['Marine meteorology']           1.0              2.0   \n",
       "6587             ['Indians of America']           1.0              0.0   \n",
       "9409          ['Sampling (Statistics)']           1.0              1.0   \n",
       "458             ['African gray parrot']           1.0              4.0   \n",
       "8891                        ['Priests']           1.0              0.0   \n",
       "7505                        ['Markets']           1.0              1.0   \n",
       "2261                 ['Buddhist logic']           1.0              0.0   \n",
       "7954                          ['Mouth']           1.0              0.0   \n",
       "\n",
       "      review/length  desp/length  \n",
       "4535          163.0          0.0  \n",
       "6588           43.0          0.0  \n",
       "1021           89.0          0.0  \n",
       "9404           69.0          0.0  \n",
       "3586           12.0          0.0  \n",
       "7465           88.0          0.0  \n",
       "1308           90.0          0.0  \n",
       "6833           82.0          0.0  \n",
       "8462           27.0          0.0  \n",
       "9407          216.0          0.0  \n",
       "3614          263.0         96.0  \n",
       "7976           27.0          2.0  \n",
       "7491           59.0          0.0  \n",
       "6587           52.0          0.0  \n",
       "9409           84.0          0.0  \n",
       "458            67.0          0.0  \n",
       "8891          263.0          0.0  \n",
       "7505           48.0         12.0  \n",
       "2261         1044.0          9.0  \n",
       "7954           36.0        184.0  "
      ]
     },
     "execution_count": 95,
     "metadata": {},
     "output_type": "execute_result"
    }
   ],
   "source": [
    "# Search for top 20 categories/genres of books with lowest avg review/score of 1.0 . Try to check for trends in other variables and seek a relationship \n",
    "low_20_categories = df_book_reviews[['categories','review/score','reviews_helpful','review/length','desp/length']].groupby('categories',as_index=False).mean().sort_values('review/score',ascending=True).head(20)\n",
    "low_20_categories"
   ]
  },
  {
   "cell_type": "code",
   "execution_count": 96,
   "metadata": {
    "colab": {
     "base_uri": "https://localhost:8080/",
     "height": 481
    },
    "executionInfo": {
     "elapsed": 409,
     "status": "ok",
     "timestamp": 1669681689260,
     "user": {
      "displayName": "Zufeshan Imran",
      "userId": "01352305454183338312"
     },
     "user_tz": 480
    },
    "id": "z9lakk3aai-f",
    "outputId": "4f8395aa-07fa-429b-cf1d-e89745932ddd"
   },
   "outputs": [
    {
     "data": {
      "image/png": "[encoded data removed]",
      "text/plain": [
       "<Figure size 864x504 with 1 Axes>"
      ]
     },
     "metadata": {
      "needs_background": "light"
     },
     "output_type": "display_data"
    }
   ],
   "source": [
    "fig,ax=plt.subplots(figsize=(12,7))\n",
    "ax.set_xlabel('Categories',fontsize=12)\n",
    "ax.set_ylabel('Mean values',fontsize=12)\n",
    "ax.set_title('Avg length of review text,helpful reviews & length of description for\\n 20 lowest score categories',fontsize=15)\n",
    "graph = sns.lineplot(data=low_20_categories[['review/length','desp/length','reviews_helpful']],markers=True,palette=['olive','blue','orange'])\n",
    "plt.show()"
   ]
  },
  {
   "cell_type": "code",
   "execution_count": null,
   "metadata": {
    "id": "66VhCgX6ai-f"
   },
   "outputs": [],
   "source": [
    "# As we can see from the above example, book categories with least avg review scores mostly have no description for the books which might be affecting their scores."
   ]
  },
  {
   "cell_type": "markdown",
   "metadata": {
    "id": "pJ6Ed3CXai-f"
   },
   "source": [
    "#### 3.4. Perform Regression analysis between different features and find MSE and Regression Coefficient"
   ]
  },
  {
   "cell_type": "markdown",
   "metadata": {
    "id": "Ey8UFhVaai-f"
   },
   "source": [
    "1. Select features and target and check for nulls"
   ]
  },
  {
   "cell_type": "code",
   "execution_count": 75,
   "metadata": {
    "executionInfo": {
     "elapsed": 162,
     "status": "ok",
     "timestamp": 1669681348316,
     "user": {
      "displayName": "Zufeshan Imran",
      "userId": "01352305454183338312"
     },
     "user_tz": 480
    },
    "id": "sX8ZiDlqai-f"
   },
   "outputs": [],
   "source": [
    "# 'reviews_helpful','total reviews' are dependent on each other, so we are using only one of them in LinearRegression \n",
    "# This is done according to the postulates of Linear Regression whereby features should be independent of one another\n",
    "# If one feature affects the other , using them could depict a false picture of our target\n",
    "\n",
    "features = ['ratingsCount','desp/length','reviews_helpful','review/length']\n",
    "target = ['review/score']"
   ]
  },
  {
   "cell_type": "code",
   "execution_count": 76,
   "metadata": {
    "colab": {
     "base_uri": "https://localhost:8080/"
    },
    "executionInfo": {
     "elapsed": 141,
     "status": "ok",
     "timestamp": 1669681349922,
     "user": {
      "displayName": "Zufeshan Imran",
      "userId": "01352305454183338312"
     },
     "user_tz": 480
    },
    "id": "ePQjiub3ai-f",
    "outputId": "8501eb79-e4ab-4534-d0b5-cb8eb133619d"
   },
   "outputs": [
    {
     "data": {
      "text/plain": [
       "(ratingsCount       0\n",
       " desp/length        0\n",
       " reviews_helpful    0\n",
       " review/length      1\n",
       " dtype: int64, review/score    0\n",
       " dtype: int64)"
      ]
     },
     "execution_count": 76,
     "metadata": {},
     "output_type": "execute_result"
    }
   ],
   "source": [
    "x = df_book_reviews[features]\n",
    "y = df_book_reviews[target]\n",
    "x.isnull().sum() , y.isnull().sum()"
   ]
  },
  {
   "cell_type": "code",
   "execution_count": 77,
   "metadata": {
    "executionInfo": {
     "elapsed": 161,
     "status": "ok",
     "timestamp": 1669681352191,
     "user": {
      "displayName": "Zufeshan Imran",
      "userId": "01352305454183338312"
     },
     "user_tz": 480
    },
    "id": "nLlLuvhcai-g"
   },
   "outputs": [],
   "source": [
    "x = x.fillna(x['review/length'].mean())\n",
    "#Fill  missing value in  review/length with mean review/length\n",
    "# No more missing values in our data. So we can go ahead witho our analysis"
   ]
  },
  {
   "cell_type": "markdown",
   "metadata": {
    "id": "CfZ-EPXqai-g"
   },
   "source": [
    "2. Split data into train and test data using <b>75:25</b> ratio"
   ]
  },
  {
   "cell_type": "code",
   "execution_count": 78,
   "metadata": {
    "executionInfo": {
     "elapsed": 567,
     "status": "ok",
     "timestamp": 1669681354730,
     "user": {
      "displayName": "Zufeshan Imran",
      "userId": "01352305454183338312"
     },
     "user_tz": 480
    },
    "id": "K1gD1hGCai-g"
   },
   "outputs": [],
   "source": [
    "x_train,x_test,y_train,y_test = train_test_split(x,y,test_size=0.25,random_state=42)"
   ]
  },
  {
   "cell_type": "code",
   "execution_count": 79,
   "metadata": {
    "colab": {
     "base_uri": "https://localhost:8080/"
    },
    "executionInfo": {
     "elapsed": 139,
     "status": "ok",
     "timestamp": 1669681356502,
     "user": {
      "displayName": "Zufeshan Imran",
      "userId": "01352305454183338312"
     },
     "user_tz": 480
    },
    "id": "UZ09cTweai-g",
    "outputId": "13422ef2-05d4-4218-d9d7-d532234b5139"
   },
   "outputs": [
    {
     "data": {
      "text/plain": [
       "((1536441, 4), (512148, 4))"
      ]
     },
     "execution_count": 79,
     "metadata": {},
     "output_type": "execute_result"
    }
   ],
   "source": [
    "x_train.shape , x_test.shape"
   ]
  },
  {
   "cell_type": "markdown",
   "metadata": {
    "id": "Xbn8-kHtai-g"
   },
   "source": [
    "3. Use LinearRegression for training a regression model"
   ]
  },
  {
   "cell_type": "code",
   "execution_count": 80,
   "metadata": {
    "colab": {
     "base_uri": "https://localhost:8080/"
    },
    "executionInfo": {
     "elapsed": 373,
     "status": "ok",
     "timestamp": 1669681361905,
     "user": {
      "displayName": "Zufeshan Imran",
      "userId": "01352305454183338312"
     },
     "user_tz": 480
    },
    "id": "u3ik0TWdai-g",
    "outputId": "354b81d7-db17-4b72-a9b8-01dfb6302bb9"
   },
   "outputs": [
    {
     "data": {
      "text/plain": [
       "LinearRegression()"
      ]
     },
     "execution_count": 80,
     "metadata": {},
     "output_type": "execute_result"
    }
   ],
   "source": [
    "model = LinearRegression()\n",
    "model.fit(x_train,y_train)"
   ]
  },
  {
   "cell_type": "markdown",
   "metadata": {
    "id": "87L56hXlai-g"
   },
   "source": [
    "5. Check coefficients/intercept of the model"
   ]
  },
  {
   "cell_type": "code",
   "execution_count": 81,
   "metadata": {
    "colab": {
     "base_uri": "https://localhost:8080/"
    },
    "executionInfo": {
     "elapsed": 242,
     "status": "ok",
     "timestamp": 1669681364316,
     "user": {
      "displayName": "Zufeshan Imran",
      "userId": "01352305454183338312"
     },
     "user_tz": 480
    },
    "id": "tlrboECxai-h",
    "outputId": "f475e6f6-6b5d-413f-8237-81af499b5493"
   },
   "outputs": [
    {
     "data": {
      "text/plain": [
       "array([4.33220371])"
      ]
     },
     "execution_count": 81,
     "metadata": {},
     "output_type": "execute_result"
    }
   ],
   "source": [
    "coefficients = (model.coef_).flatten()\n",
    "intercept = model.intercept_\n",
    "intercept"
   ]
  },
  {
   "cell_type": "code",
   "execution_count": 82,
   "metadata": {
    "executionInfo": {
     "elapsed": 147,
     "status": "ok",
     "timestamp": 1669681366880,
     "user": {
      "displayName": "Zufeshan Imran",
      "userId": "01352305454183338312"
     },
     "user_tz": 480
    },
    "id": "BNh5czLXai-h"
   },
   "outputs": [],
   "source": [
    "# The coefficients of regression are not significant enough for analysis. This means features hardly impact the target - review/score"
   ]
  },
  {
   "cell_type": "markdown",
   "metadata": {
    "id": "yuyeRguzai-h"
   },
   "source": [
    "6. Predict the target for training data and compare Mean squared errors"
   ]
  },
  {
   "cell_type": "code",
   "execution_count": 83,
   "metadata": {
    "executionInfo": {
     "elapsed": 137,
     "status": "ok",
     "timestamp": 1669681371939,
     "user": {
      "displayName": "Zufeshan Imran",
      "userId": "01352305454183338312"
     },
     "user_tz": 480
    },
    "id": "0Dn20UMxai-h"
   },
   "outputs": [],
   "source": [
    "y_train_pred = model.predict(x_train)"
   ]
  },
  {
   "cell_type": "code",
   "execution_count": 84,
   "metadata": {
    "colab": {
     "base_uri": "https://localhost:8080/"
    },
    "executionInfo": {
     "elapsed": 148,
     "status": "ok",
     "timestamp": 1669681373629,
     "user": {
      "displayName": "Zufeshan Imran",
      "userId": "01352305454183338312"
     },
     "user_tz": 480
    },
    "id": "k5myWmiqai-i",
    "outputId": "cae726a2-99fa-4a35-ce5d-f2d5f99a0353"
   },
   "outputs": [
    {
     "name": "stdout",
     "output_type": "stream",
     "text": [
      "MSE train= 1.377790153810701\n",
      "R2_score train= 0.005445244884905609\n"
     ]
    }
   ],
   "source": [
    "print(f'MSE train= {mean_squared_error(y_train_pred,y_train)}')\n",
    "print(f'R2_score train= {r2_score(y_train,y_train_pred)}')"
   ]
  },
  {
   "cell_type": "code",
   "execution_count": 85,
   "metadata": {
    "executionInfo": {
     "elapsed": 376,
     "status": "ok",
     "timestamp": 1669681377027,
     "user": {
      "displayName": "Zufeshan Imran",
      "userId": "01352305454183338312"
     },
     "user_tz": 480
    },
    "id": "xBmPvv0kai-i"
   },
   "outputs": [],
   "source": [
    "# we do not have a good R2 score. Our linear regression analysis shows that only 0.5% of the review/score of books out of around 2M is impacted by our selected features."
   ]
  },
  {
   "cell_type": "markdown",
   "metadata": {
    "id": "QRcxXRp7ai-i"
   },
   "source": [
    "#### 3.5. Perform <b>sentiment analysis</b> on review/summary to determine review/score<br>\n",
    "For NLP of review/text, we will be using <u>Hugging Face</u> pipeline and try to classify our review/text into Positive , Negative or Neutral reviews"
   ]
  },
  {
   "cell_type": "code",
   "execution_count": 28,
   "metadata": {
    "colab": {
     "base_uri": "https://localhost:8080/"
    },
    "executionInfo": {
     "elapsed": 8965,
     "status": "ok",
     "timestamp": 1669675885123,
     "user": {
      "displayName": "Zufeshan Imran",
      "userId": "01352305454183338312"
     },
     "user_tz": 480
    },
    "id": "DPFexvSKai-i",
    "outputId": "0522de0b-d73b-43c2-8551-83d6178b4888"
   },
   "outputs": [
    {
     "name": "stdout",
     "output_type": "stream",
     "text": [
      "\u001b[K     |████████████████████████████████| 5.5 MB 27.7 MB/s \n",
      "\u001b[K     |████████████████████████████████| 7.6 MB 53.2 MB/s \n",
      "\u001b[K     |████████████████████████████████| 182 kB 86.6 MB/s \n",
      "\u001b[?25h"
     ]
    }
   ],
   "source": [
    "# Installing the Libraries (tensorflow is required for huggingFace)\n",
    "!pip install transformers -q"
   ]
  },
  {
   "cell_type": "code",
   "execution_count": 29,
   "metadata": {
    "executionInfo": {
     "elapsed": 8306,
     "status": "ok",
     "timestamp": 1669675896133,
     "user": {
      "displayName": "Zufeshan Imran",
      "userId": "01352305454183338312"
     },
     "user_tz": 480
    },
    "id": "yByF0TwOai-j"
   },
   "outputs": [],
   "source": [
    "# import useful library\n",
    "from transformers import pipeline\n"
   ]
  },
  {
   "cell_type": "code",
   "execution_count": 30,
   "metadata": {
    "colab": {
     "base_uri": "https://localhost:8080/",
     "height": 145,
     "referenced_widgets": [
      "f076e118c24a479c8160f54285156e72",
      "b53977f495aa42148a2844fb978e778c",
      "745a7d47937c49d5a563ecd4391a29d5",
      "23a2960957d0490295d86f318d65c896",
      "7161849bbb20492d82ff2bf67d1191a6",
      "fbce5415cf8e42caa42598775553b181",
      "8c47eff79f9c4b5191011778f51525e4",
      "80fc6393f73943aeaecf2a7a6ad41949",
      "c138d6ee9833487aa1b029f6f07c107d",
      "db68b4c801be4de0aeb845a9e458e959",
      "0838ce55f77a413c9822ddf43b9c81ff",
      "d45924a95fa5477e938c138e3c4a6d3f",
      "1a86ec2a63b34af38e4d1e77b14a2210",
      "b115a297660f42daadb506060d71e801",
      "121c28ce204e45adbf29a66bdc2b4350",
      "e4f1e50b749b4f149f02bb8f308de101",
      "1a60d66a87064c04b9fc9f4a750f0a0c",
      "b6884ae164d94fd4a9b4e99981bec775",
      "aabcd7bd12de477da9dfc9aad20ae445",
      "8ba2ee225b5d44d7a62c9ba3c47e7d05",
      "b1f09752b9704337b1d12da1b7df858d",
      "e92c1b768ff24b71a9f213d14c50b6e9",
      "7caa1c1f709347d685ea25973999eca6",
      "512e0db0216349cea8a06f4ed4745dc8",
      "5023709ce0424444ad314b7f1d67509d",
      "7b29899154094866b4b162be0f8b9ad9",
      "23af8fd8642d433bb4adb6ab8edfdb94",
      "3acba6f5ac564f9289deb4f7d6103e7d",
      "711d89c2848c4d399ce9d86d100b3b74",
      "8cea9be525644aeebad7702c0b5c67f0",
      "579f1b64896c4046b76b507150550253",
      "581c4408ab0143e39393e18efec43738",
      "c8f2bec9830c443981a7ecd1285eb8a1",
      "f35512aa4ab44487bf693aff69e5e941",
      "e5131d31fe324c68b0ecddd0e74e6957",
      "083486dfa09445fa9028de6a9b925c25",
      "55458e5ca9dc4a58a08c43bc7a1ff28e",
      "6b6a7184ead945d698b9ebbe450ff6a8",
      "de8d371f5a284d18b0dc2fa2ea839005",
      "cc87d48e5c5e49d4bc1495588510c86e",
      "13e540cab1c745f7ba325217cfdd0bfb",
      "100a4372b0bb48f9b7c4bd732e42302c",
      "610b199c4b0047cf925073f1d0fcc74e",
      "dfbebdb6a27f4776a01acd248ff263bf"
     ]
    },
    "executionInfo": {
     "elapsed": 13922,
     "status": "ok",
     "timestamp": 1669675912518,
     "user": {
      "displayName": "Zufeshan Imran",
      "userId": "01352305454183338312"
     },
     "user_tz": 480
    },
    "id": "HF9r_-vZai-j",
    "outputId": "d82edf81-ef99-4bae-e1e0-685522e34ca1"
   },
   "outputs": [
    {
     "data": {
      "application/vnd.jupyter.widget-view+json": {
       "model_id": "f076e118c24a479c8160f54285156e72",
       "version_major": 2,
       "version_minor": 0
      },
      "text/plain": [
       "Downloading:   0%|          | 0.00/629 [00:00<?, ?B/s]"
      ]
     },
     "metadata": {},
     "output_type": "display_data"
    },
    {
     "data": {
      "application/vnd.jupyter.widget-view+json": {
       "model_id": "d45924a95fa5477e938c138e3c4a6d3f",
       "version_major": 2,
       "version_minor": 0
      },
      "text/plain": [
       "Downloading:   0%|          | 0.00/268M [00:00<?, ?B/s]"
      ]
     },
     "metadata": {},
     "output_type": "display_data"
    },
    {
     "data": {
      "application/vnd.jupyter.widget-view+json": {
       "model_id": "7caa1c1f709347d685ea25973999eca6",
       "version_major": 2,
       "version_minor": 0
      },
      "text/plain": [
       "Downloading:   0%|          | 0.00/48.0 [00:00<?, ?B/s]"
      ]
     },
     "metadata": {},
     "output_type": "display_data"
    },
    {
     "data": {
      "application/vnd.jupyter.widget-view+json": {
       "model_id": "f35512aa4ab44487bf693aff69e5e941",
       "version_major": 2,
       "version_minor": 0
      },
      "text/plain": [
       "Downloading:   0%|          | 0.00/232k [00:00<?, ?B/s]"
      ]
     },
     "metadata": {},
     "output_type": "display_data"
    }
   ],
   "source": [
    "# we will do Classification of the review/text and check their labels\n",
    "#classifier = pipeline(\"sentiment-analysis\", model=\"distilbert-base-uncased-finetuned-sst-2-english\")\n",
    "classifier = pipeline(\"sentiment-analysis\", model=\"distilbert-base-uncased-finetuned-sst-2-english\",tokenizer=\"distilbert-base-uncased-finetuned-sst-2-english\",truncation=True)"
   ]
  },
  {
   "cell_type": "code",
   "execution_count": 36,
   "metadata": {
    "executionInfo": {
     "elapsed": 172,
     "status": "ok",
     "timestamp": 1669678800490,
     "user": {
      "displayName": "Zufeshan Imran",
      "userId": "01352305454183338312"
     },
     "user_tz": 480
    },
    "id": "qRsbcGJbDjU0"
   },
   "outputs": [],
   "source": [
    "# we try to make a list of first 10000 review/summary and check the text classification for those summaries of reviews\n",
    "summary_list = []\n",
    "for rvw in df_book_reviews['review/summary'][:10000]:\n",
    "  summary_list.append(rvw)"
   ]
  },
  {
   "cell_type": "code",
   "execution_count": 37,
   "metadata": {
    "executionInfo": {
     "elapsed": 540540,
     "status": "ok",
     "timestamp": 1669679343774,
     "user": {
      "displayName": "Zufeshan Imran",
      "userId": "01352305454183338312"
     },
     "user_tz": 480
    },
    "id": "En9C2z-zai-k"
   },
   "outputs": [],
   "source": [
    "# Perform text classification on first 10000 review summaries and extract their label for further analysis\n",
    "label = []\n",
    "for rvw in summary_list:\n",
    "  pred = classifier(rvw)\n",
    "  label.append(pred[0]['label'])"
   ]
  },
  {
   "cell_type": "code",
   "execution_count": 42,
   "metadata": {
    "executionInfo": {
     "elapsed": 156,
     "status": "ok",
     "timestamp": 1669679447088,
     "user": {
      "displayName": "Zufeshan Imran",
      "userId": "01352305454183338312"
     },
     "user_tz": 480
    },
    "id": "5GNQwfYdfTf8"
   },
   "outputs": [],
   "source": [
    "# we try to make a list of last 10000 review/summary and check the text classification for those summaries of reviews\n",
    "summary_list = []\n",
    "for rvw in df_book_reviews['review/summary'][2038589:2048589]:\n",
    "  summary_list.append(rvw)"
   ]
  },
  {
   "cell_type": "code",
   "execution_count": 43,
   "metadata": {
    "executionInfo": {
     "elapsed": 528718,
     "status": "ok",
     "timestamp": 1669679977548,
     "user": {
      "displayName": "Zufeshan Imran",
      "userId": "01352305454183338312"
     },
     "user_tz": 480
    },
    "id": "TUzWk6uqfTci"
   },
   "outputs": [],
   "source": [
    "# Perform text classification on last 10000 review summaries and extract their label for further analysis\n",
    "label2 = []\n",
    "for rvw in summary_list:\n",
    "  pred = classifier(str(rvw))\n",
    "  label2.append(pred[0]['label'])"
   ]
  },
  {
   "cell_type": "code",
   "execution_count": 31,
   "metadata": {
    "executionInfo": {
     "elapsed": 259,
     "status": "ok",
     "timestamp": 1669675981517,
     "user": {
      "displayName": "Zufeshan Imran",
      "userId": "01352305454183338312"
     },
     "user_tz": 480
    },
    "id": "GADYb9PXcPzj"
   },
   "outputs": [],
   "source": [
    "# we try to make a list of mid 50000 review/summary and check the text classification for those summaries of reviews\n",
    "summary_list = []\n",
    "for rvw in df_book_reviews['review/summary'][10001:60000]:\n",
    "  summary_list.append(rvw)"
   ]
  },
  {
   "cell_type": "code",
   "execution_count": 32,
   "metadata": {
    "executionInfo": {
     "elapsed": 2580813,
     "status": "ok",
     "timestamp": 1669678603549,
     "user": {
      "displayName": "Zufeshan Imran",
      "userId": "01352305454183338312"
     },
     "user_tz": 480
    },
    "id": "YaIKSVyccayz"
   },
   "outputs": [],
   "source": [
    "# Perform text classification on mid 50000 review summaries and extract their label for further analysis\n",
    "label3 = []\n",
    "for rvw in summary_list:\n",
    "  pred = classifier(str(rvw))\n",
    "  label3.append(pred[0]['label'])"
   ]
  },
  {
   "cell_type": "markdown",
   "metadata": {
    "id": "OGvgX9xbai-k"
   },
   "source": [
    "## Step 4:  Present your findings"
   ]
  },
  {
   "cell_type": "markdown",
   "metadata": {
    "id": "54XbTiHz10oy"
   },
   "source": [
    " #### 4.1. Brief summary about data\n",
    " \n",
    " "
   ]
  },
  {
   "cell_type": "markdown",
   "metadata": {
    "id": "8OjWS_FIDPIp"
   },
   "source": [
    "The Amazon Books review data is a huge dataset with more than 2M records of books and reviews given by different users. The raw data had many unwanted features , duplicates , inconsistencies (mixed cases of common column - Title) , un-encoded data in free text columns like review/summary and review/text , etc which were removed and entire dataset was brought into a clean organized dataframe -  **df_book_reviews** for further analysis. The data we are dealing with has ***more than 50% records with a perfect review score of 5.0*** .So our results might be skewed more towards positive reviews<br>"
   ]
  },
  {
   "cell_type": "code",
   "execution_count": 89,
   "metadata": {
    "colab": {
     "base_uri": "https://localhost:8080/",
     "height": 484
    },
    "executionInfo": {
     "elapsed": 358,
     "status": "ok",
     "timestamp": 1669681586773,
     "user": {
      "displayName": "Zufeshan Imran",
      "userId": "01352305454183338312"
     },
     "user_tz": 480
    },
    "id": "1tUW34Hn7xx3",
    "outputId": "b788bfec-9a01-4577-d8fc-2f425f4e1385"
   },
   "outputs": [
    {
     "data": {
      "image/png": "[encoded data removed]",
      "text/plain": [
       "<Figure size 720x576 with 1 Axes>"
      ]
     },
     "metadata": {},
     "output_type": "display_data"
    }
   ],
   "source": [
    "fig,ax = plt.subplots(figsize=(10,8))\n",
    "size = df_book_reviews['review/score'].value_counts()/len(df_book_reviews['review/score'])*100\n",
    "ax.pie(size.sort_index(),startangle=90,autopct='%1.0f%%',explode=(0.1,0,0,0,0),wedgeprops=dict(width=0.6),colors=[\"olive\", \"hotpink\", \"C0\", \"#4CAF50\",'orange'])\n",
    "ax.set_title('Review/score distribution for all books',fontsize=15)\n",
    "ax.legend((1.0,2.0,3.0,4.0,5.0),title=\"Review/score\",loc=\"upper right\")\n",
    "plt.show()"
   ]
  },
  {
   "cell_type": "markdown",
   "metadata": {
    "id": "6AjVid5n7c2h"
   },
   "source": [
    "#### 4.2. Assumptions Made Vs Actual Results\n"
   ]
  },
  {
   "cell_type": "markdown",
   "metadata": {
    "id": "CSwcbXviDYoN"
   },
   "source": [
    "Following assumptions to carry out analysis and answer the research questions :\n",
    "\n",
    "a. Length of description provided for a book affects it's review score - **Partly True** as avg. negative correlation found <br>\n",
    "b. Length of review passage affects the review score - **False**<br>\n",
    "c. Total no. of reviews and no. of helpful reviews affect the review score -     **Partly True** as avg. negative correlation was found<br>"
   ]
  },
  {
   "cell_type": "code",
   "execution_count": 90,
   "metadata": {
    "colab": {
     "base_uri": "https://localhost:8080/",
     "height": 363
    },
    "executionInfo": {
     "elapsed": 606,
     "status": "ok",
     "timestamp": 1669681597497,
     "user": {
      "displayName": "Zufeshan Imran",
      "userId": "01352305454183338312"
     },
     "user_tz": 480
    },
    "id": "3BzoKErx9M67",
    "outputId": "40379f5f-502a-4fc5-8316-518c19aa16f6"
   },
   "outputs": [
    {
     "data": {
      "image/png": "[encoded data removed]",
      "text/plain": [
       "<Figure size 432x288 with 2 Axes>"
      ]
     },
     "metadata": {
      "needs_background": "light"
     },
     "output_type": "display_data"
    }
   ],
   "source": [
    "ax = sns.heatmap(corr_data,annot=True,linewidths=0.2,cmap='crest')\n",
    "ax.set(xlabel='Features',ylabel='Features',title='Heatmap showing correlation among features')\n",
    "plt.show()"
   ]
  },
  {
   "cell_type": "markdown",
   "metadata": {
    "id": "Zodp2a7V9tzy"
   },
   "source": [
    "d. Books with more ratings have more no. of users providing reviews - **False**<br>\n",
    "e. Books with more ratings have lengthy and elaborate descriptions - **False** <br>\n",
    "f. Book categories with low review scores must have small or very small length of description provided - **True** as most low score categories were found to have less than 100 words in description<br>"
   ]
  },
  {
   "cell_type": "code",
   "execution_count": 97,
   "metadata": {
    "colab": {
     "base_uri": "https://localhost:8080/",
     "height": 481
    },
    "executionInfo": {
     "elapsed": 391,
     "status": "ok",
     "timestamp": 1669681703851,
     "user": {
      "displayName": "Zufeshan Imran",
      "userId": "01352305454183338312"
     },
     "user_tz": 480
    },
    "id": "-JNNe9OZ9vzU",
    "outputId": "b612b731-041c-4086-99b5-6a0ddde9b80f"
   },
   "outputs": [
    {
     "data": {
      "image/png": "[encoded data removed]",
      "text/plain": [
       "<Figure size 864x504 with 1 Axes>"
      ]
     },
     "metadata": {
      "needs_background": "light"
     },
     "output_type": "display_data"
    }
   ],
   "source": [
    "fig,ax=plt.subplots(figsize=(12,7))\n",
    "ax.set_xlabel('Categories',fontsize=12)\n",
    "ax.set_ylabel('Mean values',fontsize=12)\n",
    "ax.set_title('Avg length of review text,helpful reviews & length of description for\\n 20 lowest score categories',fontsize=15)\n",
    "graph = sns.lineplot(data=low_20_categories[['review/length','desp/length','reviews_helpful']],markers=True,palette=['olive','blue','orange'])\n",
    "plt.show()"
   ]
  },
  {
   "cell_type": "markdown",
   "metadata": {
    "id": "n5R0JFtU99ab"
   },
   "source": [
    "#### 4.3. Result of Linear Regression on data\n",
    " "
   ]
  },
  {
   "cell_type": "markdown",
   "metadata": {
    "id": "1BdKipX4DxMi"
   },
   "source": [
    "The coefficients of regression are not significant enough for analysis. This means features hardly impact the target - review/score"
   ]
  },
  {
   "cell_type": "code",
   "execution_count": null,
   "metadata": {
    "colab": {
     "base_uri": "https://localhost:8080/",
     "height": 450
    },
    "executionInfo": {
     "elapsed": 289,
     "status": "ok",
     "timestamp": 1669621647094,
     "user": {
      "displayName": "Zufeshan Imran",
      "userId": "01352305454183338312"
     },
     "user_tz": 480
    },
    "id": "_5xyEIKpai-h",
    "outputId": "232dfddc-fdfc-4421-97aa-950e745240d5"
   },
   "outputs": [
    {
     "name": "stdout",
     "output_type": "stream",
     "text": [
      "ratingsCount       0.000020\n",
      "desp/length       -0.000447\n",
      "reviews_helpful   -0.002212\n",
      "review/length     -0.000306\n",
      "dtype: float64\n"
     ]
    },
    {
     "data": {
      "image/png": "[encoded data removed]",
      "text/plain": [
       "<Figure size 432x288 with 1 Axes>"
      ]
     },
     "metadata": {
      "needs_background": "light"
     },
     "output_type": "display_data"
    }
   ],
   "source": [
    "# Plotting coefficients\n",
    "s = pd.Series({feat:coef for feat, coef in zip(features, coefficients)})\n",
    "print(s)\n",
    "s.plot(kind='bar')\n",
    "plt.title('Coefficients of Linear Regression')\n",
    "plt.xlabel('Features')\n",
    "plt.ylabel('Coefficients')\n",
    "plt.show()\n"
   ]
  },
  {
   "cell_type": "markdown",
   "metadata": {
    "id": "6nSi8N4y-4Tu"
   },
   "source": [
    "Furthermore , R2_score of the training data (75% of total data) is very insignificant. It shows that only **0.5%** of the review/score of books out of around 2M is impacted by our selected features. Hence, we can't predict review/score based on our selected features and determine this key attribute<br>MSE train= 1.377790153810701<br>\n",
    "R2_score train= 0.005445244884905609"
   ]
  },
  {
   "cell_type": "code",
   "execution_count": null,
   "metadata": {
    "id": "qnKob7D1ai-i"
   },
   "outputs": [],
   "source": [
    "# Comparison between distributions\n",
    "plt.hist(y_train, edgecolor='white', bins=50,  alpha=0.5, label='real');\n",
    "plt.hist(y_train_pred, edgecolor='white', bins=50, color='orange', alpha=0.5, label='predicted');\n",
    "plt.legend()\n",
    "plt.title('Distribution between y_real and y_pred (TRAIN)')\n",
    "plt.show()"
   ]
  },
  {
   "cell_type": "markdown",
   "metadata": {
    "id": "wkwxkQMoA__d"
   },
   "source": [
    "#### 4.4. Findings from Sentiment Analysis using HuggingFace transformer module"
   ]
  },
  {
   "cell_type": "markdown",
   "metadata": {
    "id": "lkvRsU6HD8ue"
   },
   "source": [
    "A sample of **first 10K,mid 50K and last 10K** review summaries were taken to conduct a text classification on them and report sentiments hidden in the review summaries. <br> More than **75% of the records** with review score of 5.0 were mapped correctly to **POSITIVE** label. Also, around **80% of the review score 1.0** were mapped correctly to **NEGATIVE** label. <br> Some outliers were found where even a perfect score of 5.0 was marked as NEGATIVE and even 1.0 score was marked as positive. <br> Since majority of our records have 5.0 review/score , majority of the sentiment amongst reviews is POSITIVE. \n",
    "**Hence, it could be deduced that sentiment in the review/summary impacts the review score in a positive way.**<br><br>\n",
    "<u>**NOTE**</u> : It takes around 9m for HuggingFace bert model to classify 10K items using 12.68GB RAM configuration<br>\n",
    "> 10K -------- 9m<br>\n",
    "> 70K -------- ~63m i.e more than 1 hr<br>\n",
    "> **2M  -------- ~12.5 days**<br>\n",
    "Hence, only samples of data were taken to conduct this analysis and not the entire 2M records as that would crash the session with memory run-out error!"
   ]
  },
  {
   "cell_type": "code",
   "execution_count": 38,
   "metadata": {
    "colab": {
     "base_uri": "https://localhost:8080/"
    },
    "executionInfo": {
     "elapsed": 163,
     "status": "ok",
     "timestamp": 1669679354748,
     "user": {
      "displayName": "Zufeshan Imran",
      "userId": "01352305454183338312"
     },
     "user_tz": 480
    },
    "id": "8A3LhUbNai-k",
    "outputId": "50cbeb86-8be0-4fe5-c274-5d6a8d76c87b"
   },
   "outputs": [
    {
     "data": {
      "text/plain": [
       "POSITIVE    7477\n",
       "NEGATIVE    2523\n",
       "dtype: int64"
      ]
     },
     "execution_count": 38,
     "metadata": {},
     "output_type": "execute_result"
    }
   ],
   "source": [
    "# No. of positive and negative sentiments garnered through classification in the first 10000 records\n",
    "pd.Series(label).value_counts()"
   ]
  },
  {
   "cell_type": "code",
   "execution_count": 44,
   "metadata": {
    "colab": {
     "base_uri": "https://localhost:8080/"
    },
    "executionInfo": {
     "elapsed": 161,
     "status": "ok",
     "timestamp": 1669679995592,
     "user": {
      "displayName": "Zufeshan Imran",
      "userId": "01352305454183338312"
     },
     "user_tz": 480
    },
    "id": "ZoPcMkbhpcLv",
    "outputId": "843e721f-1bc4-4d70-d6b5-1958a5623d51"
   },
   "outputs": [
    {
     "data": {
      "text/plain": [
       "POSITIVE    7008\n",
       "NEGATIVE    2992\n",
       "dtype: int64"
      ]
     },
     "execution_count": 44,
     "metadata": {},
     "output_type": "execute_result"
    }
   ],
   "source": [
    "# No. of positive and negative sentiments garnered through classification in the last 10000 records\n",
    "pd.Series(label2).value_counts()"
   ]
  },
  {
   "cell_type": "code",
   "execution_count": 33,
   "metadata": {
    "colab": {
     "base_uri": "https://localhost:8080/"
    },
    "executionInfo": {
     "elapsed": 251,
     "status": "ok",
     "timestamp": 1669678710722,
     "user": {
      "displayName": "Zufeshan Imran",
      "userId": "01352305454183338312"
     },
     "user_tz": 480
    },
    "id": "wDBByJH4mvk4",
    "outputId": "f13ab43b-bc12-4c09-d8e4-d9dc2982f9de"
   },
   "outputs": [
    {
     "data": {
      "text/plain": [
       "POSITIVE    38356\n",
       "NEGATIVE    11643\n",
       "dtype: int64"
      ]
     },
     "execution_count": 33,
     "metadata": {},
     "output_type": "execute_result"
    }
   ],
   "source": [
    "# No. of positive and negative sentiments garnered through classification in the mid 50000 records\n",
    "pd.Series(label3).value_counts()"
   ]
  },
  {
   "cell_type": "code",
   "execution_count": 47,
   "metadata": {
    "executionInfo": {
     "elapsed": 130,
     "status": "ok",
     "timestamp": 1669680053824,
     "user": {
      "displayName": "Zufeshan Imran",
      "userId": "01352305454183338312"
     },
     "user_tz": 480
    },
    "id": "eHtfpySXai-k"
   },
   "outputs": [],
   "source": [
    "# create a small dataframe with first 10000 records of required features for analysis and add column 'label'\n",
    "df_rvw = df_book_reviews[['Title','review/summary','review/score']][:10000]\n",
    "df_rvw = df_rvw.assign(label=pd.Series(label))\n"
   ]
  },
  {
   "cell_type": "code",
   "execution_count": 48,
   "metadata": {
    "executionInfo": {
     "elapsed": 135,
     "status": "ok",
     "timestamp": 1669680056200,
     "user": {
      "displayName": "Zufeshan Imran",
      "userId": "01352305454183338312"
     },
     "user_tz": 480
    },
    "id": "gbNTCAwDpxIU"
   },
   "outputs": [],
   "source": [
    "# Append last 10000 records from df_book_reviews to this dataframe and assign deduced labels to review summaries\n",
    "df_rvw = df_rvw.append(df_book_reviews[['Title','review/summary','review/score']][2038589:2048589])"
   ]
  },
  {
   "cell_type": "code",
   "execution_count": 49,
   "metadata": {
    "executionInfo": {
     "elapsed": 178,
     "status": "ok",
     "timestamp": 1669680062165,
     "user": {
      "displayName": "Zufeshan Imran",
      "userId": "01352305454183338312"
     },
     "user_tz": 480
    },
    "id": "4sdn7vo_m2_o"
   },
   "outputs": [],
   "source": [
    "# Append mid  50000 records from df_book_reviews to this dataframe and assign deduced labels to review summaries\n",
    "df_rvw = df_rvw.append(df_book_reviews[['Title','review/summary','review/score']][10001:60000])"
   ]
  },
  {
   "cell_type": "code",
   "execution_count": 50,
   "metadata": {
    "colab": {
     "base_uri": "https://localhost:8080/"
    },
    "executionInfo": {
     "elapsed": 161,
     "status": "ok",
     "timestamp": 1669680065586,
     "user": {
      "displayName": "Zufeshan Imran",
      "userId": "01352305454183338312"
     },
     "user_tz": 480
    },
    "id": "4xbXcinbq68I",
    "outputId": "791c93eb-6f6a-4133-c8e2-a7249b8b1e5b"
   },
   "outputs": [
    {
     "data": {
      "text/plain": [
       "(69999, 4)"
      ]
     },
     "execution_count": 50,
     "metadata": {},
     "output_type": "execute_result"
    }
   ],
   "source": [
    "df_rvw.shape"
   ]
  },
  {
   "cell_type": "code",
   "execution_count": null,
   "metadata": {
    "id": "dBdfFsaLq_ST"
   },
   "outputs": [],
   "source": [
    "df_rvw['label'][10000:20000] = pd.Series(label2)\n"
   ]
  },
  {
   "cell_type": "code",
   "execution_count": null,
   "metadata": {
    "id": "rGMnUCkgsYrD"
   },
   "outputs": [],
   "source": [
    "df_rvw['label'][10001:60000] = pd.Series(label3)"
   ]
  },
  {
   "cell_type": "code",
   "execution_count": 56,
   "metadata": {
    "colab": {
     "base_uri": "https://localhost:8080/",
     "height": 363
    },
    "executionInfo": {
     "elapsed": 187,
     "status": "ok",
     "timestamp": 1669680289391,
     "user": {
      "displayName": "Zufeshan Imran",
      "userId": "01352305454183338312"
     },
     "user_tz": 480
    },
    "id": "oO-yyu9RdwFE",
    "outputId": "8c959ada-b7cb-4927-e048-3789852383ee"
   },
   "outputs": [
    {
     "data": {
      "text/html": [
       "\n",
       "  <div id=\"df-6695a430-68c2-458c-a39b-b2b3b323fc8c\">\n",
       "    <div class=\"colab-df-container\">\n",
       "      <div>\n",
       "<style scoped>\n",
       "    .dataframe tbody tr th:only-of-type {\n",
       "        vertical-align: middle;\n",
       "    }\n",
       "\n",
       "    .dataframe tbody tr th {\n",
       "        vertical-align: top;\n",
       "    }\n",
       "\n",
       "    .dataframe thead th {\n",
       "        text-align: right;\n",
       "    }\n",
       "</style>\n",
       "<table border=\"1\" class=\"dataframe\">\n",
       "  <thead>\n",
       "    <tr style=\"text-align: right;\">\n",
       "      <th></th>\n",
       "      <th>label</th>\n",
       "      <th>review/score</th>\n",
       "      <th>Title</th>\n",
       "      <th>review/summary</th>\n",
       "    </tr>\n",
       "  </thead>\n",
       "  <tbody>\n",
       "    <tr>\n",
       "      <th>0</th>\n",
       "      <td>NEGATIVE</td>\n",
       "      <td>1.0</td>\n",
       "      <td>1180</td>\n",
       "      <td>1180</td>\n",
       "    </tr>\n",
       "    <tr>\n",
       "      <th>1</th>\n",
       "      <td>NEGATIVE</td>\n",
       "      <td>2.0</td>\n",
       "      <td>1003</td>\n",
       "      <td>1003</td>\n",
       "    </tr>\n",
       "    <tr>\n",
       "      <th>2</th>\n",
       "      <td>NEGATIVE</td>\n",
       "      <td>3.0</td>\n",
       "      <td>1330</td>\n",
       "      <td>1330</td>\n",
       "    </tr>\n",
       "    <tr>\n",
       "      <th>3</th>\n",
       "      <td>NEGATIVE</td>\n",
       "      <td>4.0</td>\n",
       "      <td>2756</td>\n",
       "      <td>2756</td>\n",
       "    </tr>\n",
       "    <tr>\n",
       "      <th>4</th>\n",
       "      <td>NEGATIVE</td>\n",
       "      <td>5.0</td>\n",
       "      <td>7897</td>\n",
       "      <td>7897</td>\n",
       "    </tr>\n",
       "    <tr>\n",
       "      <th>5</th>\n",
       "      <td>POSITIVE</td>\n",
       "      <td>1.0</td>\n",
       "      <td>2404</td>\n",
       "      <td>2404</td>\n",
       "    </tr>\n",
       "    <tr>\n",
       "      <th>6</th>\n",
       "      <td>POSITIVE</td>\n",
       "      <td>2.0</td>\n",
       "      <td>2002</td>\n",
       "      <td>2002</td>\n",
       "    </tr>\n",
       "    <tr>\n",
       "      <th>7</th>\n",
       "      <td>POSITIVE</td>\n",
       "      <td>3.0</td>\n",
       "      <td>3852</td>\n",
       "      <td>3852</td>\n",
       "    </tr>\n",
       "    <tr>\n",
       "      <th>8</th>\n",
       "      <td>POSITIVE</td>\n",
       "      <td>4.0</td>\n",
       "      <td>9482</td>\n",
       "      <td>9482</td>\n",
       "    </tr>\n",
       "    <tr>\n",
       "      <th>9</th>\n",
       "      <td>POSITIVE</td>\n",
       "      <td>5.0</td>\n",
       "      <td>28093</td>\n",
       "      <td>28092</td>\n",
       "    </tr>\n",
       "  </tbody>\n",
       "</table>\n",
       "</div>\n",
       "      <button class=\"colab-df-convert\" onclick=\"convertToInteractive('df-6695a430-68c2-458c-a39b-b2b3b323fc8c')\"\n",
       "              title=\"Convert this dataframe to an interactive table.\"\n",
       "              style=\"display:none;\">\n",
       "        \n",
       "  <svg xmlns=\"http://www.w3.org/2000/svg\" height=\"24px\"viewBox=\"0 0 24 24\"\n",
       "       width=\"24px\">\n",
       "    <path d=\"M0 0h24v24H0V0z\" fill=\"none\"/>\n",
       "    <path d=\"M18.56 5.44l.94 2.06.94-2.06 2.06-.94-2.06-.94-.94-2.06-.94 2.06-2.06.94zm-11 1L8.5 8.5l.94-2.06 2.06-.94-2.06-.94L8.5 2.5l-.94 2.06-2.06.94zm10 10l.94 2.06.94-2.06 2.06-.94-2.06-.94-.94-2.06-.94 2.06-2.06.94z\"/><path d=\"M17.41 7.96l-1.37-1.37c-.4-.4-.92-.59-1.43-.59-.52 0-1.04.2-1.43.59L10.3 9.45l-7.72 7.72c-.78.78-.78 2.05 0 2.83L4 21.41c.39.39.9.59 1.41.59.51 0 1.02-.2 1.41-.59l7.78-7.78 2.81-2.81c.8-.78.8-2.07 0-2.86zM5.41 20L4 18.59l7.72-7.72 1.47 1.35L5.41 20z\"/>\n",
       "  </svg>\n",
       "      </button>\n",
       "      \n",
       "  <style>\n",
       "    .colab-df-container {\n",
       "      display:flex;\n",
       "      flex-wrap:wrap;\n",
       "      gap: 12px;\n",
       "    }\n",
       "\n",
       "    .colab-df-convert {\n",
       "      background-color: #E8F0FE;\n",
       "      border: none;\n",
       "      border-radius: 50%;\n",
       "      cursor: pointer;\n",
       "      display: none;\n",
       "      fill: #1967D2;\n",
       "      height: 32px;\n",
       "      padding: 0 0 0 0;\n",
       "      width: 32px;\n",
       "    }\n",
       "\n",
       "    .colab-df-convert:hover {\n",
       "      background-color: #E2EBFA;\n",
       "      box-shadow: 0px 1px 2px rgba(60, 64, 67, 0.3), 0px 1px 3px 1px rgba(60, 64, 67, 0.15);\n",
       "      fill: #174EA6;\n",
       "    }\n",
       "\n",
       "    [theme=dark] .colab-df-convert {\n",
       "      background-color: #3B4455;\n",
       "      fill: #D2E3FC;\n",
       "    }\n",
       "\n",
       "    [theme=dark] .colab-df-convert:hover {\n",
       "      background-color: #434B5C;\n",
       "      box-shadow: 0px 1px 3px 1px rgba(0, 0, 0, 0.15);\n",
       "      filter: drop-shadow(0px 1px 2px rgba(0, 0, 0, 0.3));\n",
       "      fill: #FFFFFF;\n",
       "    }\n",
       "  </style>\n",
       "\n",
       "      <script>\n",
       "        const buttonEl =\n",
       "          document.querySelector('#df-6695a430-68c2-458c-a39b-b2b3b323fc8c button.colab-df-convert');\n",
       "        buttonEl.style.display =\n",
       "          google.colab.kernel.accessAllowed ? 'block' : 'none';\n",
       "\n",
       "        async function convertToInteractive(key) {\n",
       "          const element = document.querySelector('#df-6695a430-68c2-458c-a39b-b2b3b323fc8c');\n",
       "          const dataTable =\n",
       "            await google.colab.kernel.invokeFunction('convertToInteractive',\n",
       "                                                     [key], {});\n",
       "          if (!dataTable) return;\n",
       "\n",
       "          const docLinkHtml = 'Like what you see? Visit the ' +\n",
       "            '<a target=\"_blank\" href=https://colab.research.google.com/notebooks/data_table.ipynb>data table notebook</a>'\n",
       "            + ' to learn more about interactive tables.';\n",
       "          element.innerHTML = '';\n",
       "          dataTable['output_type'] = 'display_data';\n",
       "          await google.colab.output.renderOutput(dataTable, element);\n",
       "          const docLink = document.createElement('div');\n",
       "          docLink.innerHTML = docLinkHtml;\n",
       "          element.appendChild(docLink);\n",
       "        }\n",
       "      </script>\n",
       "    </div>\n",
       "  </div>\n",
       "  "
      ],
      "text/plain": [
       "      label  review/score  Title  review/summary\n",
       "0  NEGATIVE           1.0   1180            1180\n",
       "1  NEGATIVE           2.0   1003            1003\n",
       "2  NEGATIVE           3.0   1330            1330\n",
       "3  NEGATIVE           4.0   2756            2756\n",
       "4  NEGATIVE           5.0   7897            7897\n",
       "5  POSITIVE           1.0   2404            2404\n",
       "6  POSITIVE           2.0   2002            2002\n",
       "7  POSITIVE           3.0   3852            3852\n",
       "8  POSITIVE           4.0   9482            9482\n",
       "9  POSITIVE           5.0  28093           28092"
      ]
     },
     "execution_count": 56,
     "metadata": {},
     "output_type": "execute_result"
    }
   ],
   "source": [
    "#Count the no. of NEGATIVE REVIEWS and POSITIVE reviews and compare them with review/score for 70K record sample\n",
    "df_counts = df_rvw.groupby(['label','review/score'],as_index=False).count()\n",
    "df_counts"
   ]
  },
  {
   "cell_type": "code",
   "execution_count": 57,
   "metadata": {
    "colab": {
     "base_uri": "https://localhost:8080/",
     "height": 365
    },
    "executionInfo": {
     "elapsed": 252,
     "status": "ok",
     "timestamp": 1669680294252,
     "user": {
      "displayName": "Zufeshan Imran",
      "userId": "01352305454183338312"
     },
     "user_tz": 480
    },
    "id": "-RcYY7sSfTi_",
    "outputId": "cd457472-2e33-44b2-b9ae-a2c59e1dd49b"
   },
   "outputs": [
    {
     "data": {
      "image/png": "[encoded data removed]",
      "text/plain": [
       "<Figure size 720x360 with 1 Axes>"
      ]
     },
     "metadata": {
      "needs_background": "light"
     },
     "output_type": "display_data"
    }
   ],
   "source": [
    "# Numbers of pairs of bars you want\n",
    "N = 5\n",
    "\n",
    "# Data on X-axis\n",
    "\n",
    "# Specify the values of blue bars (height)\n",
    "blue_bar = df_counts[df_counts['label']=='POSITIVE']['review/summary']\n",
    "# Specify the values of orange bars (height)\n",
    "orange_bar = df_counts[df_counts['label']=='NEGATIVE']['review/summary']\n",
    "# Position of bars on x-axis\n",
    "ind = np.arange(N)\n",
    "\n",
    "# Figure size\n",
    "plt.figure(figsize=(10,5))\n",
    "\n",
    "# Width of a bar \n",
    "width = 0.3       \n",
    "\n",
    "# Plotting\n",
    "plt.bar(ind, blue_bar , width, label='Scores with Positive label')\n",
    "plt.bar(ind + width, orange_bar, width, label='Scores with Negative label')\n",
    "\n",
    "plt.xlabel('Review Scores')\n",
    "plt.ylabel('Count')\n",
    "plt.title('Positive Vs Negative BarChart of different review/scores\\n using text classification of review/summary')\n",
    "\n",
    "# xticks()\n",
    "# First argument - A list of positions at which ticks should be placed\n",
    "# Second argument -  A list of labels to place at the given locations\n",
    "plt.xticks(ind + width / 2, df_counts['review/score'].unique())\n",
    "\n",
    "# Finding the best position for legends and putting it\n",
    "plt.legend(loc='best')\n",
    "plt.show()"
   ]
  },
  {
   "cell_type": "markdown",
   "metadata": {
    "id": "4sC195vkEFyS"
   },
   "source": [
    "#### 4.5. Limitations"
   ]
  },
  {
   "cell_type": "markdown",
   "metadata": {
    "id": "8yXcCM2JEJHZ"
   },
   "source": [
    "Some of the limitations of the data & chosen models are :<br>\n",
    "1. Dataset is extremely large so it consumes more RAM and disk space. Hence, repeated calculations become quite cumbersome and slow<br>\n",
    "2. This dataset has more than half of the review scores of 5.0 which limits our findings to only such records and not a good amount of a variety of other scores<br>\n",
    "3. Numeric features do not strongly affect the review/score as per the  assumptions stated above<br>\n",
    "4. Sentiment analysis gives a clear picture of the sentiment hidden in review summary but due to the size of the dataset , review passage could not be analyzed and classified which would have given a more solid interpretation<br>\n",
    "5. Transformer module of HuggingFace relies on older versions of TensorFlow and Keras libraries. This led to switching to Google Collab for development of notebook with limited RAM and session restrictions\n",
    "> *Due to limited RAM, memory crashes occured while trying to process 2M items for sentiment analysis. Hence, only random samples of around 70K items were taken*\n",
    "6.  Model **distilbert-base-uncased-finetuned-sst-2-english ** has limitation on max length of tokens which is **512** . So any review with more than 512 words had to be further split up. \n",
    "7. This model does not accept input that is not a string. So different encodings have to be casted to class Str before passing into the pipeline.\n"
   ]
  },
  {
   "cell_type": "code",
   "execution_count": null,
   "metadata": {
    "id": "jfHmPE-yEE0Q"
   },
   "outputs": [],
   "source": []
  }
 ],
 "metadata": {
  "anaconda-cloud": {},
  "colab": {
   "provenance": []
  },
  "gpuClass": "standard",
  "kernelspec": {
   "display_name": "Python 3 (ipykernel)",
   "language": "python",
   "name": "python3"
  },
  "language_info": {
   "codemirror_mode": {
    "name": "ipython",
    "version": 3
   },
   "file_extension": ".py",
   "mimetype": "text/x-python",
   "name": "python",
   "nbconvert_exporter": "python",
   "pygments_lexer": "ipython3",
   "version": "3.9.12"
  },
  "widgets": {
   "application/vnd.jupyter.widget-state+json": {
    "083486dfa09445fa9028de6a9b925c25": {
     "model_module": "@jupyter-widgets/controls",
     "model_module_version": "1.5.0",
     "model_name": "FloatProgressModel",
     "state": {
      "_dom_classes": [],
      "_model_module": "@jupyter-widgets/controls",
      "_model_module_version": "1.5.0",
      "_model_name": "FloatProgressModel",
      "_view_count": null,
      "_view_module": "@jupyter-widgets/controls",
      "_view_module_version": "1.5.0",
      "_view_name": "ProgressView",
      "bar_style": "success",
      "description": "",
      "description_tooltip": null,
      "layout": "IPY_MODEL_13e540cab1c745f7ba325217cfdd0bfb",
      "max": 231508,
      "min": 0,
      "orientation": "horizontal",
      "style": "IPY_MODEL_100a4372b0bb48f9b7c4bd732e42302c",
      "value": 231508
     }
    },
    "0838ce55f77a413c9822ddf43b9c81ff": {
     "model_module": "@jupyter-widgets/controls",
     "model_module_version": "1.5.0",
     "model_name": "DescriptionStyleModel",
     "state": {
      "_model_module": "@jupyter-widgets/controls",
      "_model_module_version": "1.5.0",
      "_model_name": "DescriptionStyleModel",
      "_view_count": null,
      "_view_module": "@jupyter-widgets/base",
      "_view_module_version": "1.2.0",
      "_view_name": "StyleView",
      "description_width": ""
     }
    },
    "100a4372b0bb48f9b7c4bd732e42302c": {
     "model_module": "@jupyter-widgets/controls",
     "model_module_version": "1.5.0",
     "model_name": "ProgressStyleModel",
     "state": {
      "_model_module": "@jupyter-widgets/controls",
      "_model_module_version": "1.5.0",
      "_model_name": "ProgressStyleModel",
      "_view_count": null,
      "_view_module": "@jupyter-widgets/base",
      "_view_module_version": "1.2.0",
      "_view_name": "StyleView",
      "bar_color": null,
      "description_width": ""
     }
    },
    "121c28ce204e45adbf29a66bdc2b4350": {
     "model_module": "@jupyter-widgets/controls",
     "model_module_version": "1.5.0",
     "model_name": "HTMLModel",
     "state": {
      "_dom_classes": [],
      "_model_module": "@jupyter-widgets/controls",
      "_model_module_version": "1.5.0",
      "_model_name": "HTMLModel",
      "_view_count": null,
      "_view_module": "@jupyter-widgets/controls",
      "_view_module_version": "1.5.0",
      "_view_name": "HTMLView",
      "description": "",
      "description_tooltip": null,
      "layout": "IPY_MODEL_b1f09752b9704337b1d12da1b7df858d",
      "placeholder": "​",
      "style": "IPY_MODEL_e92c1b768ff24b71a9f213d14c50b6e9",
      "value": " 268M/268M [00:12&lt;00:00, 60.8MB/s]"
     }
    },
    "13e540cab1c745f7ba325217cfdd0bfb": {
     "model_module": "@jupyter-widgets/base",
     "model_module_version": "1.2.0",
     "model_name": "LayoutModel",
     "state": {
      "_model_module": "@jupyter-widgets/base",
      "_model_module_version": "1.2.0",
      "_model_name": "LayoutModel",
      "_view_count": null,
      "_view_module": "@jupyter-widgets/base",
      "_view_module_version": "1.2.0",
      "_view_name": "LayoutView",
      "align_content": null,
      "align_items": null,
      "align_self": null,
      "border": null,
      "bottom": null,
      "display": null,
      "flex": null,
      "flex_flow": null,
      "grid_area": null,
      "grid_auto_columns": null,
      "grid_auto_flow": null,
      "grid_auto_rows": null,
      "grid_column": null,
      "grid_gap": null,
      "grid_row": null,
      "grid_template_areas": null,
      "grid_template_columns": null,
      "grid_template_rows": null,
      "height": null,
      "justify_content": null,
      "justify_items": null,
      "left": null,
      "margin": null,
      "max_height": null,
      "max_width": null,
      "min_height": null,
      "min_width": null,
      "object_fit": null,
      "object_position": null,
      "order": null,
      "overflow": null,
      "overflow_x": null,
      "overflow_y": null,
      "padding": null,
      "right": null,
      "top": null,
      "visibility": null,
      "width": null
     }
    },
    "1a60d66a87064c04b9fc9f4a750f0a0c": {
     "model_module": "@jupyter-widgets/base",
     "model_module_version": "1.2.0",
     "model_name": "LayoutModel",
     "state": {
      "_model_module": "@jupyter-widgets/base",
      "_model_module_version": "1.2.0",
      "_model_name": "LayoutModel",
      "_view_count": null,
      "_view_module": "@jupyter-widgets/base",
      "_view_module_version": "1.2.0",
      "_view_name": "LayoutView",
      "align_content": null,
      "align_items": null,
      "align_self": null,
      "border": null,
      "bottom": null,
      "display": null,
      "flex": null,
      "flex_flow": null,
      "grid_area": null,
      "grid_auto_columns": null,
      "grid_auto_flow": null,
      "grid_auto_rows": null,
      "grid_column": null,
      "grid_gap": null,
      "grid_row": null,
      "grid_template_areas": null,
      "grid_template_columns": null,
      "grid_template_rows": null,
      "height": null,
      "justify_content": null,
      "justify_items": null,
      "left": null,
      "margin": null,
      "max_height": null,
      "max_width": null,
      "min_height": null,
      "min_width": null,
      "object_fit": null,
      "object_position": null,
      "order": null,
      "overflow": null,
      "overflow_x": null,
      "overflow_y": null,
      "padding": null,
      "right": null,
      "top": null,
      "visibility": null,
      "width": null
     }
    },
    "1a86ec2a63b34af38e4d1e77b14a2210": {
     "model_module": "@jupyter-widgets/controls",
     "model_module_version": "1.5.0",
     "model_name": "HTMLModel",
     "state": {
      "_dom_classes": [],
      "_model_module": "@jupyter-widgets/controls",
      "_model_module_version": "1.5.0",
      "_model_name": "HTMLModel",
      "_view_count": null,
      "_view_module": "@jupyter-widgets/controls",
      "_view_module_version": "1.5.0",
      "_view_name": "HTMLView",
      "description": "",
      "description_tooltip": null,
      "layout": "IPY_MODEL_1a60d66a87064c04b9fc9f4a750f0a0c",
      "placeholder": "​",
      "style": "IPY_MODEL_b6884ae164d94fd4a9b4e99981bec775",
      "value": "Downloading: 100%"
     }
    },
    "23a2960957d0490295d86f318d65c896": {
     "model_module": "@jupyter-widgets/controls",
     "model_module_version": "1.5.0",
     "model_name": "HTMLModel",
     "state": {
      "_dom_classes": [],
      "_model_module": "@jupyter-widgets/controls",
      "_model_module_version": "1.5.0",
      "_model_name": "HTMLModel",
      "_view_count": null,
      "_view_module": "@jupyter-widgets/controls",
      "_view_module_version": "1.5.0",
      "_view_name": "HTMLView",
      "description": "",
      "description_tooltip": null,
      "layout": "IPY_MODEL_db68b4c801be4de0aeb845a9e458e959",
      "placeholder": "​",
      "style": "IPY_MODEL_0838ce55f77a413c9822ddf43b9c81ff",
      "value": " 629/629 [00:00&lt;00:00, 5.70kB/s]"
     }
    },
    "23af8fd8642d433bb4adb6ab8edfdb94": {
     "model_module": "@jupyter-widgets/base",
     "model_module_version": "1.2.0",
     "model_name": "LayoutModel",
     "state": {
      "_model_module": "@jupyter-widgets/base",
      "_model_module_version": "1.2.0",
      "_model_name": "LayoutModel",
      "_view_count": null,
      "_view_module": "@jupyter-widgets/base",
      "_view_module_version": "1.2.0",
      "_view_name": "LayoutView",
      "align_content": null,
      "align_items": null,
      "align_self": null,
      "border": null,
      "bottom": null,
      "display": null,
      "flex": null,
      "flex_flow": null,
      "grid_area": null,
      "grid_auto_columns": null,
      "grid_auto_flow": null,
      "grid_auto_rows": null,
      "grid_column": null,
      "grid_gap": null,
      "grid_row": null,
      "grid_template_areas": null,
      "grid_template_columns": null,
      "grid_template_rows": null,
      "height": null,
      "justify_content": null,
      "justify_items": null,
      "left": null,
      "margin": null,
      "max_height": null,
      "max_width": null,
      "min_height": null,
      "min_width": null,
      "object_fit": null,
      "object_position": null,
      "order": null,
      "overflow": null,
      "overflow_x": null,
      "overflow_y": null,
      "padding": null,
      "right": null,
      "top": null,
      "visibility": null,
      "width": null
     }
    },
    "3acba6f5ac564f9289deb4f7d6103e7d": {
     "model_module": "@jupyter-widgets/base",
     "model_module_version": "1.2.0",
     "model_name": "LayoutModel",
     "state": {
      "_model_module": "@jupyter-widgets/base",
      "_model_module_version": "1.2.0",
      "_model_name": "LayoutModel",
      "_view_count": null,
      "_view_module": "@jupyter-widgets/base",
      "_view_module_version": "1.2.0",
      "_view_name": "LayoutView",
      "align_content": null,
      "align_items": null,
      "align_self": null,
      "border": null,
      "bottom": null,
      "display": null,
      "flex": null,
      "flex_flow": null,
      "grid_area": null,
      "grid_auto_columns": null,
      "grid_auto_flow": null,
      "grid_auto_rows": null,
      "grid_column": null,
      "grid_gap": null,
      "grid_row": null,
      "grid_template_areas": null,
      "grid_template_columns": null,
      "grid_template_rows": null,
      "height": null,
      "justify_content": null,
      "justify_items": null,
      "left": null,
      "margin": null,
      "max_height": null,
      "max_width": null,
      "min_height": null,
      "min_width": null,
      "object_fit": null,
      "object_position": null,
      "order": null,
      "overflow": null,
      "overflow_x": null,
      "overflow_y": null,
      "padding": null,
      "right": null,
      "top": null,
      "visibility": null,
      "width": null
     }
    },
    "5023709ce0424444ad314b7f1d67509d": {
     "model_module": "@jupyter-widgets/controls",
     "model_module_version": "1.5.0",
     "model_name": "FloatProgressModel",
     "state": {
      "_dom_classes": [],
      "_model_module": "@jupyter-widgets/controls",
      "_model_module_version": "1.5.0",
      "_model_name": "FloatProgressModel",
      "_view_count": null,
      "_view_module": "@jupyter-widgets/controls",
      "_view_module_version": "1.5.0",
      "_view_name": "ProgressView",
      "bar_style": "success",
      "description": "",
      "description_tooltip": null,
      "layout": "IPY_MODEL_8cea9be525644aeebad7702c0b5c67f0",
      "max": 48,
      "min": 0,
      "orientation": "horizontal",
      "style": "IPY_MODEL_579f1b64896c4046b76b507150550253",
      "value": 48
     }
    },
    "512e0db0216349cea8a06f4ed4745dc8": {
     "model_module": "@jupyter-widgets/controls",
     "model_module_version": "1.5.0",
     "model_name": "HTMLModel",
     "state": {
      "_dom_classes": [],
      "_model_module": "@jupyter-widgets/controls",
      "_model_module_version": "1.5.0",
      "_model_name": "HTMLModel",
      "_view_count": null,
      "_view_module": "@jupyter-widgets/controls",
      "_view_module_version": "1.5.0",
      "_view_name": "HTMLView",
      "description": "",
      "description_tooltip": null,
      "layout": "IPY_MODEL_3acba6f5ac564f9289deb4f7d6103e7d",
      "placeholder": "​",
      "style": "IPY_MODEL_711d89c2848c4d399ce9d86d100b3b74",
      "value": "Downloading: 100%"
     }
    },
    "55458e5ca9dc4a58a08c43bc7a1ff28e": {
     "model_module": "@jupyter-widgets/controls",
     "model_module_version": "1.5.0",
     "model_name": "HTMLModel",
     "state": {
      "_dom_classes": [],
      "_model_module": "@jupyter-widgets/controls",
      "_model_module_version": "1.5.0",
      "_model_name": "HTMLModel",
      "_view_count": null,
      "_view_module": "@jupyter-widgets/controls",
      "_view_module_version": "1.5.0",
      "_view_name": "HTMLView",
      "description": "",
      "description_tooltip": null,
      "layout": "IPY_MODEL_610b199c4b0047cf925073f1d0fcc74e",
      "placeholder": "​",
      "style": "IPY_MODEL_dfbebdb6a27f4776a01acd248ff263bf",
      "value": " 232k/232k [00:00&lt;00:00, 5.07MB/s]"
     }
    },
    "579f1b64896c4046b76b507150550253": {
     "model_module": "@jupyter-widgets/controls",
     "model_module_version": "1.5.0",
     "model_name": "ProgressStyleModel",
     "state": {
      "_model_module": "@jupyter-widgets/controls",
      "_model_module_version": "1.5.0",
      "_model_name": "ProgressStyleModel",
      "_view_count": null,
      "_view_module": "@jupyter-widgets/base",
      "_view_module_version": "1.2.0",
      "_view_name": "StyleView",
      "bar_color": null,
      "description_width": ""
     }
    },
    "581c4408ab0143e39393e18efec43738": {
     "model_module": "@jupyter-widgets/base",
     "model_module_version": "1.2.0",
     "model_name": "LayoutModel",
     "state": {
      "_model_module": "@jupyter-widgets/base",
      "_model_module_version": "1.2.0",
      "_model_name": "LayoutModel",
      "_view_count": null,
      "_view_module": "@jupyter-widgets/base",
      "_view_module_version": "1.2.0",
      "_view_name": "LayoutView",
      "align_content": null,
      "align_items": null,
      "align_self": null,
      "border": null,
      "bottom": null,
      "display": null,
      "flex": null,
      "flex_flow": null,
      "grid_area": null,
      "grid_auto_columns": null,
      "grid_auto_flow": null,
      "grid_auto_rows": null,
      "grid_column": null,
      "grid_gap": null,
      "grid_row": null,
      "grid_template_areas": null,
      "grid_template_columns": null,
      "grid_template_rows": null,
      "height": null,
      "justify_content": null,
      "justify_items": null,
      "left": null,
      "margin": null,
      "max_height": null,
      "max_width": null,
      "min_height": null,
      "min_width": null,
      "object_fit": null,
      "object_position": null,
      "order": null,
      "overflow": null,
      "overflow_x": null,
      "overflow_y": null,
      "padding": null,
      "right": null,
      "top": null,
      "visibility": null,
      "width": null
     }
    },
    "610b199c4b0047cf925073f1d0fcc74e": {
     "model_module": "@jupyter-widgets/base",
     "model_module_version": "1.2.0",
     "model_name": "LayoutModel",
     "state": {
      "_model_module": "@jupyter-widgets/base",
      "_model_module_version": "1.2.0",
      "_model_name": "LayoutModel",
      "_view_count": null,
      "_view_module": "@jupyter-widgets/base",
      "_view_module_version": "1.2.0",
      "_view_name": "LayoutView",
      "align_content": null,
      "align_items": null,
      "align_self": null,
      "border": null,
      "bottom": null,
      "display": null,
      "flex": null,
      "flex_flow": null,
      "grid_area": null,
      "grid_auto_columns": null,
      "grid_auto_flow": null,
      "grid_auto_rows": null,
      "grid_column": null,
      "grid_gap": null,
      "grid_row": null,
      "grid_template_areas": null,
      "grid_template_columns": null,
      "grid_template_rows": null,
      "height": null,
      "justify_content": null,
      "justify_items": null,
      "left": null,
      "margin": null,
      "max_height": null,
      "max_width": null,
      "min_height": null,
      "min_width": null,
      "object_fit": null,
      "object_position": null,
      "order": null,
      "overflow": null,
      "overflow_x": null,
      "overflow_y": null,
      "padding": null,
      "right": null,
      "top": null,
      "visibility": null,
      "width": null
     }
    },
    "6b6a7184ead945d698b9ebbe450ff6a8": {
     "model_module": "@jupyter-widgets/base",
     "model_module_version": "1.2.0",
     "model_name": "LayoutModel",
     "state": {
      "_model_module": "@jupyter-widgets/base",
      "_model_module_version": "1.2.0",
      "_model_name": "LayoutModel",
      "_view_count": null,
      "_view_module": "@jupyter-widgets/base",
      "_view_module_version": "1.2.0",
      "_view_name": "LayoutView",
      "align_content": null,
      "align_items": null,
      "align_self": null,
      "border": null,
      "bottom": null,
      "display": null,
      "flex": null,
      "flex_flow": null,
      "grid_area": null,
      "grid_auto_columns": null,
      "grid_auto_flow": null,
      "grid_auto_rows": null,
      "grid_column": null,
      "grid_gap": null,
      "grid_row": null,
      "grid_template_areas": null,
      "grid_template_columns": null,
      "grid_template_rows": null,
      "height": null,
      "justify_content": null,
      "justify_items": null,
      "left": null,
      "margin": null,
      "max_height": null,
      "max_width": null,
      "min_height": null,
      "min_width": null,
      "object_fit": null,
      "object_position": null,
      "order": null,
      "overflow": null,
      "overflow_x": null,
      "overflow_y": null,
      "padding": null,
      "right": null,
      "top": null,
      "visibility": null,
      "width": null
     }
    },
    "711d89c2848c4d399ce9d86d100b3b74": {
     "model_module": "@jupyter-widgets/controls",
     "model_module_version": "1.5.0",
     "model_name": "DescriptionStyleModel",
     "state": {
      "_model_module": "@jupyter-widgets/controls",
      "_model_module_version": "1.5.0",
      "_model_name": "DescriptionStyleModel",
      "_view_count": null,
      "_view_module": "@jupyter-widgets/base",
      "_view_module_version": "1.2.0",
      "_view_name": "StyleView",
      "description_width": ""
     }
    },
    "7161849bbb20492d82ff2bf67d1191a6": {
     "model_module": "@jupyter-widgets/base",
     "model_module_version": "1.2.0",
     "model_name": "LayoutModel",
     "state": {
      "_model_module": "@jupyter-widgets/base",
      "_model_module_version": "1.2.0",
      "_model_name": "LayoutModel",
      "_view_count": null,
      "_view_module": "@jupyter-widgets/base",
      "_view_module_version": "1.2.0",
      "_view_name": "LayoutView",
      "align_content": null,
      "align_items": null,
      "align_self": null,
      "border": null,
      "bottom": null,
      "display": null,
      "flex": null,
      "flex_flow": null,
      "grid_area": null,
      "grid_auto_columns": null,
      "grid_auto_flow": null,
      "grid_auto_rows": null,
      "grid_column": null,
      "grid_gap": null,
      "grid_row": null,
      "grid_template_areas": null,
      "grid_template_columns": null,
      "grid_template_rows": null,
      "height": null,
      "justify_content": null,
      "justify_items": null,
      "left": null,
      "margin": null,
      "max_height": null,
      "max_width": null,
      "min_height": null,
      "min_width": null,
      "object_fit": null,
      "object_position": null,
      "order": null,
      "overflow": null,
      "overflow_x": null,
      "overflow_y": null,
      "padding": null,
      "right": null,
      "top": null,
      "visibility": null,
      "width": null
     }
    },
    "745a7d47937c49d5a563ecd4391a29d5": {
     "model_module": "@jupyter-widgets/controls",
     "model_module_version": "1.5.0",
     "model_name": "FloatProgressModel",
     "state": {
      "_dom_classes": [],
      "_model_module": "@jupyter-widgets/controls",
      "_model_module_version": "1.5.0",
      "_model_name": "FloatProgressModel",
      "_view_count": null,
      "_view_module": "@jupyter-widgets/controls",
      "_view_module_version": "1.5.0",
      "_view_name": "ProgressView",
      "bar_style": "success",
      "description": "",
      "description_tooltip": null,
      "layout": "IPY_MODEL_80fc6393f73943aeaecf2a7a6ad41949",
      "max": 629,
      "min": 0,
      "orientation": "horizontal",
      "style": "IPY_MODEL_c138d6ee9833487aa1b029f6f07c107d",
      "value": 629
     }
    },
    "7b29899154094866b4b162be0f8b9ad9": {
     "model_module": "@jupyter-widgets/controls",
     "model_module_version": "1.5.0",
     "model_name": "HTMLModel",
     "state": {
      "_dom_classes": [],
      "_model_module": "@jupyter-widgets/controls",
      "_model_module_version": "1.5.0",
      "_model_name": "HTMLModel",
      "_view_count": null,
      "_view_module": "@jupyter-widgets/controls",
      "_view_module_version": "1.5.0",
      "_view_name": "HTMLView",
      "description": "",
      "description_tooltip": null,
      "layout": "IPY_MODEL_581c4408ab0143e39393e18efec43738",
      "placeholder": "​",
      "style": "IPY_MODEL_c8f2bec9830c443981a7ecd1285eb8a1",
      "value": " 48.0/48.0 [00:00&lt;00:00, 1.05kB/s]"
     }
    },
    "7caa1c1f709347d685ea25973999eca6": {
     "model_module": "@jupyter-widgets/controls",
     "model_module_version": "1.5.0",
     "model_name": "HBoxModel",
     "state": {
      "_dom_classes": [],
      "_model_module": "@jupyter-widgets/controls",
      "_model_module_version": "1.5.0",
      "_model_name": "HBoxModel",
      "_view_count": null,
      "_view_module": "@jupyter-widgets/controls",
      "_view_module_version": "1.5.0",
      "_view_name": "HBoxView",
      "box_style": "",
      "children": [
       "IPY_MODEL_512e0db0216349cea8a06f4ed4745dc8",
       "IPY_MODEL_5023709ce0424444ad314b7f1d67509d",
       "IPY_MODEL_7b29899154094866b4b162be0f8b9ad9"
      ],
      "layout": "IPY_MODEL_23af8fd8642d433bb4adb6ab8edfdb94"
     }
    },
    "80fc6393f73943aeaecf2a7a6ad41949": {
     "model_module": "@jupyter-widgets/base",
     "model_module_version": "1.2.0",
     "model_name": "LayoutModel",
     "state": {
      "_model_module": "@jupyter-widgets/base",
      "_model_module_version": "1.2.0",
      "_model_name": "LayoutModel",
      "_view_count": null,
      "_view_module": "@jupyter-widgets/base",
      "_view_module_version": "1.2.0",
      "_view_name": "LayoutView",
      "align_content": null,
      "align_items": null,
      "align_self": null,
      "border": null,
      "bottom": null,
      "display": null,
      "flex": null,
      "flex_flow": null,
      "grid_area": null,
      "grid_auto_columns": null,
      "grid_auto_flow": null,
      "grid_auto_rows": null,
      "grid_column": null,
      "grid_gap": null,
      "grid_row": null,
      "grid_template_areas": null,
      "grid_template_columns": null,
      "grid_template_rows": null,
      "height": null,
      "justify_content": null,
      "justify_items": null,
      "left": null,
      "margin": null,
      "max_height": null,
      "max_width": null,
      "min_height": null,
      "min_width": null,
      "object_fit": null,
      "object_position": null,
      "order": null,
      "overflow": null,
      "overflow_x": null,
      "overflow_y": null,
      "padding": null,
      "right": null,
      "top": null,
      "visibility": null,
      "width": null
     }
    },
    "8ba2ee225b5d44d7a62c9ba3c47e7d05": {
     "model_module": "@jupyter-widgets/controls",
     "model_module_version": "1.5.0",
     "model_name": "ProgressStyleModel",
     "state": {
      "_model_module": "@jupyter-widgets/controls",
      "_model_module_version": "1.5.0",
      "_model_name": "ProgressStyleModel",
      "_view_count": null,
      "_view_module": "@jupyter-widgets/base",
      "_view_module_version": "1.2.0",
      "_view_name": "StyleView",
      "bar_color": null,
      "description_width": ""
     }
    },
    "8c47eff79f9c4b5191011778f51525e4": {
     "model_module": "@jupyter-widgets/controls",
     "model_module_version": "1.5.0",
     "model_name": "DescriptionStyleModel",
     "state": {
      "_model_module": "@jupyter-widgets/controls",
      "_model_module_version": "1.5.0",
      "_model_name": "DescriptionStyleModel",
      "_view_count": null,
      "_view_module": "@jupyter-widgets/base",
      "_view_module_version": "1.2.0",
      "_view_name": "StyleView",
      "description_width": ""
     }
    },
    "8cea9be525644aeebad7702c0b5c67f0": {
     "model_module": "@jupyter-widgets/base",
     "model_module_version": "1.2.0",
     "model_name": "LayoutModel",
     "state": {
      "_model_module": "@jupyter-widgets/base",
      "_model_module_version": "1.2.0",
      "_model_name": "LayoutModel",
      "_view_count": null,
      "_view_module": "@jupyter-widgets/base",
      "_view_module_version": "1.2.0",
      "_view_name": "LayoutView",
      "align_content": null,
      "align_items": null,
      "align_self": null,
      "border": null,
      "bottom": null,
      "display": null,
      "flex": null,
      "flex_flow": null,
      "grid_area": null,
      "grid_auto_columns": null,
      "grid_auto_flow": null,
      "grid_auto_rows": null,
      "grid_column": null,
      "grid_gap": null,
      "grid_row": null,
      "grid_template_areas": null,
      "grid_template_columns": null,
      "grid_template_rows": null,
      "height": null,
      "justify_content": null,
      "justify_items": null,
      "left": null,
      "margin": null,
      "max_height": null,
      "max_width": null,
      "min_height": null,
      "min_width": null,
      "object_fit": null,
      "object_position": null,
      "order": null,
      "overflow": null,
      "overflow_x": null,
      "overflow_y": null,
      "padding": null,
      "right": null,
      "top": null,
      "visibility": null,
      "width": null
     }
    },
    "aabcd7bd12de477da9dfc9aad20ae445": {
     "model_module": "@jupyter-widgets/base",
     "model_module_version": "1.2.0",
     "model_name": "LayoutModel",
     "state": {
      "_model_module": "@jupyter-widgets/base",
      "_model_module_version": "1.2.0",
      "_model_name": "LayoutModel",
      "_view_count": null,
      "_view_module": "@jupyter-widgets/base",
      "_view_module_version": "1.2.0",
      "_view_name": "LayoutView",
      "align_content": null,
      "align_items": null,
      "align_self": null,
      "border": null,
      "bottom": null,
      "display": null,
      "flex": null,
      "flex_flow": null,
      "grid_area": null,
      "grid_auto_columns": null,
      "grid_auto_flow": null,
      "grid_auto_rows": null,
      "grid_column": null,
      "grid_gap": null,
      "grid_row": null,
      "grid_template_areas": null,
      "grid_template_columns": null,
      "grid_template_rows": null,
      "height": null,
      "justify_content": null,
      "justify_items": null,
      "left": null,
      "margin": null,
      "max_height": null,
      "max_width": null,
      "min_height": null,
      "min_width": null,
      "object_fit": null,
      "object_position": null,
      "order": null,
      "overflow": null,
      "overflow_x": null,
      "overflow_y": null,
      "padding": null,
      "right": null,
      "top": null,
      "visibility": null,
      "width": null
     }
    },
    "b115a297660f42daadb506060d71e801": {
     "model_module": "@jupyter-widgets/controls",
     "model_module_version": "1.5.0",
     "model_name": "FloatProgressModel",
     "state": {
      "_dom_classes": [],
      "_model_module": "@jupyter-widgets/controls",
      "_model_module_version": "1.5.0",
      "_model_name": "FloatProgressModel",
      "_view_count": null,
      "_view_module": "@jupyter-widgets/controls",
      "_view_module_version": "1.5.0",
      "_view_name": "ProgressView",
      "bar_style": "success",
      "description": "",
      "description_tooltip": null,
      "layout": "IPY_MODEL_aabcd7bd12de477da9dfc9aad20ae445",
      "max": 267844284,
      "min": 0,
      "orientation": "horizontal",
      "style": "IPY_MODEL_8ba2ee225b5d44d7a62c9ba3c47e7d05",
      "value": 267844284
     }
    },
    "b1f09752b9704337b1d12da1b7df858d": {
     "model_module": "@jupyter-widgets/base",
     "model_module_version": "1.2.0",
     "model_name": "LayoutModel",
     "state": {
      "_model_module": "@jupyter-widgets/base",
      "_model_module_version": "1.2.0",
      "_model_name": "LayoutModel",
      "_view_count": null,
      "_view_module": "@jupyter-widgets/base",
      "_view_module_version": "1.2.0",
      "_view_name": "LayoutView",
      "align_content": null,
      "align_items": null,
      "align_self": null,
      "border": null,
      "bottom": null,
      "display": null,
      "flex": null,
      "flex_flow": null,
      "grid_area": null,
      "grid_auto_columns": null,
      "grid_auto_flow": null,
      "grid_auto_rows": null,
      "grid_column": null,
      "grid_gap": null,
      "grid_row": null,
      "grid_template_areas": null,
      "grid_template_columns": null,
      "grid_template_rows": null,
      "height": null,
      "justify_content": null,
      "justify_items": null,
      "left": null,
      "margin": null,
      "max_height": null,
      "max_width": null,
      "min_height": null,
      "min_width": null,
      "object_fit": null,
      "object_position": null,
      "order": null,
      "overflow": null,
      "overflow_x": null,
      "overflow_y": null,
      "padding": null,
      "right": null,
      "top": null,
      "visibility": null,
      "width": null
     }
    },
    "b53977f495aa42148a2844fb978e778c": {
     "model_module": "@jupyter-widgets/controls",
     "model_module_version": "1.5.0",
     "model_name": "HTMLModel",
     "state": {
      "_dom_classes": [],
      "_model_module": "@jupyter-widgets/controls",
      "_model_module_version": "1.5.0",
      "_model_name": "HTMLModel",
      "_view_count": null,
      "_view_module": "@jupyter-widgets/controls",
      "_view_module_version": "1.5.0",
      "_view_name": "HTMLView",
      "description": "",
      "description_tooltip": null,
      "layout": "IPY_MODEL_fbce5415cf8e42caa42598775553b181",
      "placeholder": "​",
      "style": "IPY_MODEL_8c47eff79f9c4b5191011778f51525e4",
      "value": "Downloading: 100%"
     }
    },
    "b6884ae164d94fd4a9b4e99981bec775": {
     "model_module": "@jupyter-widgets/controls",
     "model_module_version": "1.5.0",
     "model_name": "DescriptionStyleModel",
     "state": {
      "_model_module": "@jupyter-widgets/controls",
      "_model_module_version": "1.5.0",
      "_model_name": "DescriptionStyleModel",
      "_view_count": null,
      "_view_module": "@jupyter-widgets/base",
      "_view_module_version": "1.2.0",
      "_view_name": "StyleView",
      "description_width": ""
     }
    },
    "c138d6ee9833487aa1b029f6f07c107d": {
     "model_module": "@jupyter-widgets/controls",
     "model_module_version": "1.5.0",
     "model_name": "ProgressStyleModel",
     "state": {
      "_model_module": "@jupyter-widgets/controls",
      "_model_module_version": "1.5.0",
      "_model_name": "ProgressStyleModel",
      "_view_count": null,
      "_view_module": "@jupyter-widgets/base",
      "_view_module_version": "1.2.0",
      "_view_name": "StyleView",
      "bar_color": null,
      "description_width": ""
     }
    },
    "c8f2bec9830c443981a7ecd1285eb8a1": {
     "model_module": "@jupyter-widgets/controls",
     "model_module_version": "1.5.0",
     "model_name": "DescriptionStyleModel",
     "state": {
      "_model_module": "@jupyter-widgets/controls",
      "_model_module_version": "1.5.0",
      "_model_name": "DescriptionStyleModel",
      "_view_count": null,
      "_view_module": "@jupyter-widgets/base",
      "_view_module_version": "1.2.0",
      "_view_name": "StyleView",
      "description_width": ""
     }
    },
    "cc87d48e5c5e49d4bc1495588510c86e": {
     "model_module": "@jupyter-widgets/controls",
     "model_module_version": "1.5.0",
     "model_name": "DescriptionStyleModel",
     "state": {
      "_model_module": "@jupyter-widgets/controls",
      "_model_module_version": "1.5.0",
      "_model_name": "DescriptionStyleModel",
      "_view_count": null,
      "_view_module": "@jupyter-widgets/base",
      "_view_module_version": "1.2.0",
      "_view_name": "StyleView",
      "description_width": ""
     }
    },
    "d45924a95fa5477e938c138e3c4a6d3f": {
     "model_module": "@jupyter-widgets/controls",
     "model_module_version": "1.5.0",
     "model_name": "HBoxModel",
     "state": {
      "_dom_classes": [],
      "_model_module": "@jupyter-widgets/controls",
      "_model_module_version": "1.5.0",
      "_model_name": "HBoxModel",
      "_view_count": null,
      "_view_module": "@jupyter-widgets/controls",
      "_view_module_version": "1.5.0",
      "_view_name": "HBoxView",
      "box_style": "",
      "children": [
       "IPY_MODEL_1a86ec2a63b34af38e4d1e77b14a2210",
       "IPY_MODEL_b115a297660f42daadb506060d71e801",
       "IPY_MODEL_121c28ce204e45adbf29a66bdc2b4350"
      ],
      "layout": "IPY_MODEL_e4f1e50b749b4f149f02bb8f308de101"
     }
    },
    "db68b4c801be4de0aeb845a9e458e959": {
     "model_module": "@jupyter-widgets/base",
     "model_module_version": "1.2.0",
     "model_name": "LayoutModel",
     "state": {
      "_model_module": "@jupyter-widgets/base",
      "_model_module_version": "1.2.0",
      "_model_name": "LayoutModel",
      "_view_count": null,
      "_view_module": "@jupyter-widgets/base",
      "_view_module_version": "1.2.0",
      "_view_name": "LayoutView",
      "align_content": null,
      "align_items": null,
      "align_self": null,
      "border": null,
      "bottom": null,
      "display": null,
      "flex": null,
      "flex_flow": null,
      "grid_area": null,
      "grid_auto_columns": null,
      "grid_auto_flow": null,
      "grid_auto_rows": null,
      "grid_column": null,
      "grid_gap": null,
      "grid_row": null,
      "grid_template_areas": null,
      "grid_template_columns": null,
      "grid_template_rows": null,
      "height": null,
      "justify_content": null,
      "justify_items": null,
      "left": null,
      "margin": null,
      "max_height": null,
      "max_width": null,
      "min_height": null,
      "min_width": null,
      "object_fit": null,
      "object_position": null,
      "order": null,
      "overflow": null,
      "overflow_x": null,
      "overflow_y": null,
      "padding": null,
      "right": null,
      "top": null,
      "visibility": null,
      "width": null
     }
    },
    "de8d371f5a284d18b0dc2fa2ea839005": {
     "model_module": "@jupyter-widgets/base",
     "model_module_version": "1.2.0",
     "model_name": "LayoutModel",
     "state": {
      "_model_module": "@jupyter-widgets/base",
      "_model_module_version": "1.2.0",
      "_model_name": "LayoutModel",
      "_view_count": null,
      "_view_module": "@jupyter-widgets/base",
      "_view_module_version": "1.2.0",
      "_view_name": "LayoutView",
      "align_content": null,
      "align_items": null,
      "align_self": null,
      "border": null,
      "bottom": null,
      "display": null,
      "flex": null,
      "flex_flow": null,
      "grid_area": null,
      "grid_auto_columns": null,
      "grid_auto_flow": null,
      "grid_auto_rows": null,
      "grid_column": null,
      "grid_gap": null,
      "grid_row": null,
      "grid_template_areas": null,
      "grid_template_columns": null,
      "grid_template_rows": null,
      "height": null,
      "justify_content": null,
      "justify_items": null,
      "left": null,
      "margin": null,
      "max_height": null,
      "max_width": null,
      "min_height": null,
      "min_width": null,
      "object_fit": null,
      "object_position": null,
      "order": null,
      "overflow": null,
      "overflow_x": null,
      "overflow_y": null,
      "padding": null,
      "right": null,
      "top": null,
      "visibility": null,
      "width": null
     }
    },
    "dfbebdb6a27f4776a01acd248ff263bf": {
     "model_module": "@jupyter-widgets/controls",
     "model_module_version": "1.5.0",
     "model_name": "DescriptionStyleModel",
     "state": {
      "_model_module": "@jupyter-widgets/controls",
      "_model_module_version": "1.5.0",
      "_model_name": "DescriptionStyleModel",
      "_view_count": null,
      "_view_module": "@jupyter-widgets/base",
      "_view_module_version": "1.2.0",
      "_view_name": "StyleView",
      "description_width": ""
     }
    },
    "e4f1e50b749b4f149f02bb8f308de101": {
     "model_module": "@jupyter-widgets/base",
     "model_module_version": "1.2.0",
     "model_name": "LayoutModel",
     "state": {
      "_model_module": "@jupyter-widgets/base",
      "_model_module_version": "1.2.0",
      "_model_name": "LayoutModel",
      "_view_count": null,
      "_view_module": "@jupyter-widgets/base",
      "_view_module_version": "1.2.0",
      "_view_name": "LayoutView",
      "align_content": null,
      "align_items": null,
      "align_self": null,
      "border": null,
      "bottom": null,
      "display": null,
      "flex": null,
      "flex_flow": null,
      "grid_area": null,
      "grid_auto_columns": null,
      "grid_auto_flow": null,
      "grid_auto_rows": null,
      "grid_column": null,
      "grid_gap": null,
      "grid_row": null,
      "grid_template_areas": null,
      "grid_template_columns": null,
      "grid_template_rows": null,
      "height": null,
      "justify_content": null,
      "justify_items": null,
      "left": null,
      "margin": null,
      "max_height": null,
      "max_width": null,
      "min_height": null,
      "min_width": null,
      "object_fit": null,
      "object_position": null,
      "order": null,
      "overflow": null,
      "overflow_x": null,
      "overflow_y": null,
      "padding": null,
      "right": null,
      "top": null,
      "visibility": null,
      "width": null
     }
    },
    "e5131d31fe324c68b0ecddd0e74e6957": {
     "model_module": "@jupyter-widgets/controls",
     "model_module_version": "1.5.0",
     "model_name": "HTMLModel",
     "state": {
      "_dom_classes": [],
      "_model_module": "@jupyter-widgets/controls",
      "_model_module_version": "1.5.0",
      "_model_name": "HTMLModel",
      "_view_count": null,
      "_view_module": "@jupyter-widgets/controls",
      "_view_module_version": "1.5.0",
      "_view_name": "HTMLView",
      "description": "",
      "description_tooltip": null,
      "layout": "IPY_MODEL_de8d371f5a284d18b0dc2fa2ea839005",
      "placeholder": "​",
      "style": "IPY_MODEL_cc87d48e5c5e49d4bc1495588510c86e",
      "value": "Downloading: 100%"
     }
    },
    "e92c1b768ff24b71a9f213d14c50b6e9": {
     "model_module": "@jupyter-widgets/controls",
     "model_module_version": "1.5.0",
     "model_name": "DescriptionStyleModel",
     "state": {
      "_model_module": "@jupyter-widgets/controls",
      "_model_module_version": "1.5.0",
      "_model_name": "DescriptionStyleModel",
      "_view_count": null,
      "_view_module": "@jupyter-widgets/base",
      "_view_module_version": "1.2.0",
      "_view_name": "StyleView",
      "description_width": ""
     }
    },
    "f076e118c24a479c8160f54285156e72": {
     "model_module": "@jupyter-widgets/controls",
     "model_module_version": "1.5.0",
     "model_name": "HBoxModel",
     "state": {
      "_dom_classes": [],
      "_model_module": "@jupyter-widgets/controls",
      "_model_module_version": "1.5.0",
      "_model_name": "HBoxModel",
      "_view_count": null,
      "_view_module": "@jupyter-widgets/controls",
      "_view_module_version": "1.5.0",
      "_view_name": "HBoxView",
      "box_style": "",
      "children": [
       "IPY_MODEL_b53977f495aa42148a2844fb978e778c",
       "IPY_MODEL_745a7d47937c49d5a563ecd4391a29d5",
       "IPY_MODEL_23a2960957d0490295d86f318d65c896"
      ],
      "layout": "IPY_MODEL_7161849bbb20492d82ff2bf67d1191a6"
     }
    },
    "f35512aa4ab44487bf693aff69e5e941": {
     "model_module": "@jupyter-widgets/controls",
     "model_module_version": "1.5.0",
     "model_name": "HBoxModel",
     "state": {
      "_dom_classes": [],
      "_model_module": "@jupyter-widgets/controls",
      "_model_module_version": "1.5.0",
      "_model_name": "HBoxModel",
      "_view_count": null,
      "_view_module": "@jupyter-widgets/controls",
      "_view_module_version": "1.5.0",
      "_view_name": "HBoxView",
      "box_style": "",
      "children": [
       "IPY_MODEL_e5131d31fe324c68b0ecddd0e74e6957",
       "IPY_MODEL_083486dfa09445fa9028de6a9b925c25",
       "IPY_MODEL_55458e5ca9dc4a58a08c43bc7a1ff28e"
      ],
      "layout": "IPY_MODEL_6b6a7184ead945d698b9ebbe450ff6a8"
     }
    },
    "fbce5415cf8e42caa42598775553b181": {
     "model_module": "@jupyter-widgets/base",
     "model_module_version": "1.2.0",
     "model_name": "LayoutModel",
     "state": {
      "_model_module": "@jupyter-widgets/base",
      "_model_module_version": "1.2.0",
      "_model_name": "LayoutModel",
      "_view_count": null,
      "_view_module": "@jupyter-widgets/base",
      "_view_module_version": "1.2.0",
      "_view_name": "LayoutView",
      "align_content": null,
      "align_items": null,
      "align_self": null,
      "border": null,
      "bottom": null,
      "display": null,
      "flex": null,
      "flex_flow": null,
      "grid_area": null,
      "grid_auto_columns": null,
      "grid_auto_flow": null,
      "grid_auto_rows": null,
      "grid_column": null,
      "grid_gap": null,
      "grid_row": null,
      "grid_template_areas": null,
      "grid_template_columns": null,
      "grid_template_rows": null,
      "height": null,
      "justify_content": null,
      "justify_items": null,
      "left": null,
      "margin": null,
      "max_height": null,
      "max_width": null,
      "min_height": null,
      "min_width": null,
      "object_fit": null,
      "object_position": null,
      "order": null,
      "overflow": null,
      "overflow_x": null,
      "overflow_y": null,
      "padding": null,
      "right": null,
      "top": null,
      "visibility": null,
      "width": null
     }
    }
   }
  }
 },
 "nbformat": 4,
 "nbformat_minor": 4
}
